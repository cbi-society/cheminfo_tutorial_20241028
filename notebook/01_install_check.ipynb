{
 "cells": [
  {
   "cell_type": "markdown",
   "id": "325e2960-1757-411e-978c-c6175de48201",
   "metadata": {},
   "source": [
    "### check installation is success or not\n",
    "### チュートリアルで利用するパッケージをインポートしてみましょう。エラーが出なければOKです。"
   ]
  },
  {
   "cell_type": "code",
   "execution_count": 1,
   "id": "ac2f598c-69a0-4dd7-9f84-ad188c554abc",
   "metadata": {
    "execution": {
     "iopub.execute_input": "2024-10-03T11:17:23.586153Z",
     "iopub.status.busy": "2024-10-03T11:17:23.585262Z",
     "iopub.status.idle": "2024-10-03T11:17:25.821135Z",
     "shell.execute_reply": "2024-10-03T11:17:25.819631Z",
     "shell.execute_reply.started": "2024-10-03T11:17:23.586111Z"
    }
   },
   "outputs": [],
   "source": [
    "from maize.core.workflow import Workflow\n",
    "from maize.utilities.chem import IsomerCollection\n",
    "from maize.steps.mai.molecule import Gypsum\n",
    "from maize.steps.mai.molecule import Smiles2Molecules, LoadSmiles, LoadMolecule\n",
    "from maize.steps.mai.docking import Vina, VinaScore\n",
    "from maize.steps.io import LoadData, LoadFile, Return, Void\n",
    "from pathlib import Path"
   ]
  },
  {
   "cell_type": "code",
   "execution_count": 2,
   "id": "a400712e-4ed2-4f7d-bd0b-bda543cd1565",
   "metadata": {
    "execution": {
     "iopub.execute_input": "2024-10-03T11:17:26.785141Z",
     "iopub.status.busy": "2024-10-03T11:17:26.784502Z",
     "iopub.status.idle": "2024-10-03T11:17:27.004177Z",
     "shell.execute_reply": "2024-10-03T11:17:27.002419Z",
     "shell.execute_reply.started": "2024-10-03T11:17:26.785103Z"
    }
   },
   "outputs": [],
   "source": [
    "from rdkit import Chem\n",
    "import scipy\n",
    "import meeko"
   ]
  },
  {
   "cell_type": "code",
   "execution_count": 5,
   "id": "2b51c637-e766-4b58-9921-582e20adb525",
   "metadata": {
    "execution": {
     "iopub.execute_input": "2024-10-03T11:17:37.215327Z",
     "iopub.status.busy": "2024-10-03T11:17:37.214815Z",
     "iopub.status.idle": "2024-10-03T11:17:37.220603Z",
     "shell.execute_reply": "2024-10-03T11:17:37.219090Z",
     "shell.execute_reply.started": "2024-10-03T11:17:37.215298Z"
    }
   },
   "outputs": [],
   "source": [
    "from maize import maize\n",
    "import rdkit\n"
   ]
  },
  {
   "cell_type": "code",
   "execution_count": 6,
   "id": "325d8f25-33ba-4851-b15f-823a5b88e8eb",
   "metadata": {
    "execution": {
     "iopub.execute_input": "2024-10-03T11:17:37.672496Z",
     "iopub.status.busy": "2024-10-03T11:17:37.671806Z",
     "iopub.status.idle": "2024-10-03T11:17:37.680087Z",
     "shell.execute_reply": "2024-10-03T11:17:37.678504Z",
     "shell.execute_reply.started": "2024-10-03T11:17:37.672459Z"
    }
   },
   "outputs": [
    {
     "name": "stdout",
     "output_type": "stream",
     "text": [
      "0.8.3\n",
      "2024.03.5\n",
      "0.5.0\n"
     ]
    }
   ],
   "source": [
    "print(maize.__version__)\n",
    "print(rdkit.__version__)\n",
    "print(meeko.__version__)"
   ]
  },
  {
   "cell_type": "code",
   "execution_count": null,
   "id": "343100c9-747a-4eac-952f-07df1fa91a6a",
   "metadata": {},
   "outputs": [],
   "source": []
  }
 ],
 "metadata": {
  "kernelspec": {
   "display_name": "Python 3 (ipykernel)",
   "language": "python",
   "name": "python3"
  },
  "language_info": {
   "codemirror_mode": {
    "name": "ipython",
    "version": 3
   },
   "file_extension": ".py",
   "mimetype": "text/x-python",
   "name": "python",
   "nbconvert_exporter": "python",
   "pygments_lexer": "ipython3",
   "version": "3.10.14"
  }
 },
 "nbformat": 4,
 "nbformat_minor": 5
}
