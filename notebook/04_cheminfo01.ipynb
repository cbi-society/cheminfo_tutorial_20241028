{
 "cells": [
  {
   "cell_type": "markdown",
   "id": "7eda8d0e-72d0-48af-8cc8-b12e5734704c",
   "metadata": {},
   "source": [
    "# cheminfo tasks"
   ]
  },
  {
   "cell_type": "markdown",
   "id": "780a77e9-36eb-4872-b1c6-2bd076ef97ad",
   "metadata": {},
   "source": []
  },
  {
   "cell_type": "code",
   "execution_count": 2,
   "id": "b1b7828f-ade0-4233-853a-886575740f97",
   "metadata": {
    "execution": {
     "iopub.execute_input": "2024-10-03T12:14:58.758451Z",
     "iopub.status.busy": "2024-10-03T12:14:58.757985Z",
     "iopub.status.idle": "2024-10-03T12:14:58.770090Z",
     "shell.execute_reply": "2024-10-03T12:14:58.768529Z",
     "shell.execute_reply.started": "2024-10-03T12:14:58.758418Z"
    }
   },
   "outputs": [],
   "source": [
    "from pathlib import Path\n",
    "from maize.core.workflow import Workflow\n",
    "from maize.steps.io import LoadData, LogResult, Void, FileParameter, Return\n",
    "from maize.steps.mai.molecule import LoadSmiles, LoadMolecule, Gypsum\n",
    "from maize.utilities.chem import IsomerCollection\n",
    "\n",
    "from rdkit import Chem\n",
    "from rdkit.Chem.Draw import IPythonConsole\n"
   ]
  },
  {
   "cell_type": "markdown",
   "id": "83afb78c-c9bf-4d25-b624-095ffd32490d",
   "metadata": {},
   "source": [
    "### maize のconfig　に関して\n",
    "\n",
    "外部のプログラムやCondaの環境を利用する際にはそのコンフィグを事前に指定する必要があります。\n",
    "今回のチュートリアルではリガンドの前処理にGypsum-DL、DockingにVinaを利用します。\n",
    "このコンフィグはToml形式で指定する必要があります。\n",
    "以下にその例を示します。チュートリアル実施におかれましてはPathを各自の環境に合うように指定して下さい。\n",
    "デフォルトの設定では$XDG_CONFIG_HOME/maize.toml　を見に行くように設定されています。\n",
    "XDG_CONFIG_HOMEという環境変数を指定しその下にTomlファイルを設置するという流れになります。\n",
    "configの設定は上記の環境変数を登録しておく以外に、下のように定義することも可能です。\n",
    "\n",
    "```python\n",
    "flow = Workflow(name=\"dock\", level=\"info\", cleanup_temp=False)\n",
    "flow.config.update(Path(\"docking-example-config.toml\"))\n",
    "```"
   ]
  },
  {
   "cell_type": "code",
   "execution_count": 7,
   "id": "4c282dc1-96e3-44b2-b488-2c902c2b7d15",
   "metadata": {
    "execution": {
     "iopub.execute_input": "2024-10-04T13:03:11.240521Z",
     "iopub.status.busy": "2024-10-04T13:03:11.239828Z",
     "iopub.status.idle": "2024-10-04T13:03:11.378858Z",
     "shell.execute_reply": "2024-10-04T13:03:11.376180Z",
     "shell.execute_reply.started": "2024-10-04T13:03:11.240461Z"
    }
   },
   "outputs": [
    {
     "name": "stdout",
     "output_type": "stream",
     "text": [
      "[vina]\n",
      "python = \"/home/iwatobipen/miniforge3/envs/maize/bin/python\"\n",
      "commands.vina = \"/opt/vina/bin/vina\"\n",
      "\n",
      "[gypsum]\n",
      "scripts.gypsum.interpreter = \"/home/iwatobipen/miniforge3/envs/gypsum/bin/python\"\n",
      "scripts.gypsum.location = \"/home/iwatobipen/dev/gypsum_dl/run_gypsum_dl.py\"\n"
     ]
    }
   ],
   "source": [
    "#just example\n",
    "!cat /home/iwatobipen/dev/sandbox/maizetest/maize.toml"
   ]
  },
  {
   "cell_type": "code",
   "execution_count": null,
   "id": "7d0be90d-0d78-4594-86b7-a19396fbda34",
   "metadata": {},
   "outputs": [],
   "source": []
  }
 ],
 "metadata": {
  "kernelspec": {
   "display_name": "Python 3 (ipykernel)",
   "language": "python",
   "name": "python3"
  },
  "language_info": {
   "codemirror_mode": {
    "name": "ipython",
    "version": 3
   },
   "file_extension": ".py",
   "mimetype": "text/x-python",
   "name": "python",
   "nbconvert_exporter": "python",
   "pygments_lexer": "ipython3",
   "version": "3.10.14"
  }
 },
 "nbformat": 4,
 "nbformat_minor": 5
}
