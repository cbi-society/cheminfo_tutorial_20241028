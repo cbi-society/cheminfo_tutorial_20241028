{
 "cells": [
  {
   "cell_type": "code",
   "execution_count": 11,
   "id": "250cba37-5952-4491-a215-3d9b4e1b1451",
   "metadata": {
    "execution": {
     "iopub.execute_input": "2024-10-12T10:31:49.210473Z",
     "iopub.status.busy": "2024-10-12T10:31:49.210333Z",
     "iopub.status.idle": "2024-10-12T10:31:50.920915Z",
     "shell.execute_reply": "2024-10-12T10:31:50.920464Z",
     "shell.execute_reply.started": "2024-10-12T10:31:49.210460Z"
    }
   },
   "outputs": [],
   "source": [
    "import pandas as pd\n",
    "from pathlib import Path\n",
    "from maize.core.workflow import Workflow\n",
    "from maize.steps.io import LoadData, LogResult, Return\n",
    " \n",
    "from maize.steps.mai.docking.adv import Vina\n",
    "from maize.steps.mai.molecule import Gypsum\n",
    "from maize.utilities.chem import IsomerCollection\n",
    "import os, sys\n",
    "os.environ['XDG_CONFIG_HOME'] = '/home/iwatobipen/dev/CBI/cheminfo_tutorial_20241028/data/'\n",
    "flow = Workflow(name='dock', level='info', cleanup_temp=True)"
   ]
  },
  {
   "cell_type": "code",
   "execution_count": 2,
   "id": "e6af773d-1a7b-4933-81ed-ab48a5b7626a",
   "metadata": {
    "execution": {
     "iopub.execute_input": "2024-10-12T10:26:58.625964Z",
     "iopub.status.busy": "2024-10-12T10:26:58.625766Z",
     "iopub.status.idle": "2024-10-12T10:26:58.746852Z",
     "shell.execute_reply": "2024-10-12T10:26:58.746210Z",
     "shell.execute_reply.started": "2024-10-12T10:26:58.625951Z"
    }
   },
   "outputs": [],
   "source": [
    "flow.config.update(Path(\"../data/maize.toml\"))\n",
    "\n",
    "load = flow.add(LoadData[list[str]])\n",
    "#void = flow.add(Void)\n",
    "# 3D conf gen and protonate\n",
    "embe = flow.add(Gypsum)\n",
    "# run vina docking\n",
    "dock = flow.add(Vina)\n",
    "# receive docke results\n",
    "retu = flow.add(Return[list[IsomerCollection]])"
   ]
  },
  {
   "cell_type": "code",
   "execution_count": 3,
   "id": "921a11f9-2595-4849-8a02-828bd390e295",
   "metadata": {
    "execution": {
     "iopub.execute_input": "2024-10-12T10:26:58.747763Z",
     "iopub.status.busy": "2024-10-12T10:26:58.747614Z",
     "iopub.status.idle": "2024-10-12T10:26:58.757623Z",
     "shell.execute_reply": "2024-10-12T10:26:58.757268Z",
     "shell.execute_reply.started": "2024-10-12T10:26:58.747749Z"
    }
   },
   "outputs": [
    {
     "name": "stdout",
     "output_type": "stream",
     "text": [
      "(26, 2)\n"
     ]
    },
    {
     "data": {
      "text/html": [
       "<div>\n",
       "<style scoped>\n",
       "    .dataframe tbody tr th:only-of-type {\n",
       "        vertical-align: middle;\n",
       "    }\n",
       "\n",
       "    .dataframe tbody tr th {\n",
       "        vertical-align: top;\n",
       "    }\n",
       "\n",
       "    .dataframe thead th {\n",
       "        text-align: right;\n",
       "    }\n",
       "</style>\n",
       "<table border=\"1\" class=\"dataframe\">\n",
       "  <thead>\n",
       "    <tr style=\"text-align: right;\">\n",
       "      <th></th>\n",
       "      <th>SMILES</th>\n",
       "      <th>NLL</th>\n",
       "    </tr>\n",
       "  </thead>\n",
       "  <tbody>\n",
       "    <tr>\n",
       "      <th>0</th>\n",
       "      <td>COc1cc2ncnc(Nc3ccc(F)c(Cl)c3)c2cc1OCCCN1CCC2(C...</td>\n",
       "      <td>3.15</td>\n",
       "    </tr>\n",
       "    <tr>\n",
       "      <th>1</th>\n",
       "      <td>COc1cc2ncnc(Nc3ccc(F)c(Cl)c3)c2cc1OCCCN1CCOCC1</td>\n",
       "      <td>3.15</td>\n",
       "    </tr>\n",
       "  </tbody>\n",
       "</table>\n",
       "</div>"
      ],
      "text/plain": [
       "                                              SMILES   NLL\n",
       "0  COc1cc2ncnc(Nc3ccc(F)c(Cl)c3)c2cc1OCCCN1CCC2(C...  3.15\n",
       "1     COc1cc2ncnc(Nc3ccc(F)c(Cl)c3)c2cc1OCCCN1CCOCC1  3.15"
      ]
     },
     "execution_count": 3,
     "metadata": {},
     "output_type": "execute_result"
    }
   ],
   "source": [
    "df = pd.read_csv('./TL_sampling.csv')\n",
    "print(df.shape)\n",
    "df.head(2)\n"
   ]
  },
  {
   "cell_type": "code",
   "execution_count": 4,
   "id": "a409261a-2159-43f9-974b-b3122eb6b069",
   "metadata": {
    "execution": {
     "iopub.execute_input": "2024-10-12T10:26:58.759391Z",
     "iopub.status.busy": "2024-10-12T10:26:58.759272Z",
     "iopub.status.idle": "2024-10-12T10:26:58.762833Z",
     "shell.execute_reply": "2024-10-12T10:26:58.762242Z",
     "shell.execute_reply.started": "2024-10-12T10:26:58.759379Z"
    }
   },
   "outputs": [],
   "source": [
    "smiles_lst = [row['SMILES'] for idx, row in df.iterrows()]\n",
    "# used first\n",
    "smiles_lst = [s for s in smiles_lst][1:6]"
   ]
  },
  {
   "cell_type": "code",
   "execution_count": 5,
   "id": "e276f28f-af17-4cb6-afbb-e39fee1ed403",
   "metadata": {
    "execution": {
     "iopub.execute_input": "2024-10-12T10:26:58.763344Z",
     "iopub.status.busy": "2024-10-12T10:26:58.763227Z",
     "iopub.status.idle": "2024-10-12T10:26:58.766198Z",
     "shell.execute_reply": "2024-10-12T10:26:58.765576Z",
     "shell.execute_reply.started": "2024-10-12T10:26:58.763332Z"
    }
   },
   "outputs": [],
   "source": [
    "from rdkit import Chem\n",
    "from rdkit.Chem import Draw"
   ]
  },
  {
   "cell_type": "code",
   "execution_count": 6,
   "id": "5fa8556d-ed69-4386-84c7-faece9a72de8",
   "metadata": {
    "execution": {
     "iopub.execute_input": "2024-10-12T10:26:58.767282Z",
     "iopub.status.busy": "2024-10-12T10:26:58.766844Z",
     "iopub.status.idle": "2024-10-12T10:26:58.780294Z",
     "shell.execute_reply": "2024-10-12T10:26:58.779540Z",
     "shell.execute_reply.started": "2024-10-12T10:26:58.767258Z"
    }
   },
   "outputs": [],
   "source": [
    "mols = [Chem.MolFromSmiles(smi) for smi in smiles_lst]"
   ]
  },
  {
   "cell_type": "code",
   "execution_count": 7,
   "id": "9909e51a-4b92-4069-8c9c-250f435c54cd",
   "metadata": {
    "execution": {
     "iopub.execute_input": "2024-10-12T10:26:58.782280Z",
     "iopub.status.busy": "2024-10-12T10:26:58.781824Z",
     "iopub.status.idle": "2024-10-12T10:26:58.798254Z",
     "shell.execute_reply": "2024-10-12T10:26:58.797891Z",
     "shell.execute_reply.started": "2024-10-12T10:26:58.782255Z"
    },
    "scrolled": true
   },
   "outputs": [
    {
     "data": {
      "image/png": "[encoded data removed]",
      "text/plain": [
       "<IPython.core.display.Image object>"
      ]
     },
     "execution_count": 7,
     "metadata": {},
     "output_type": "execute_result"
    }
   ],
   "source": [
    "Draw.MolsToGridImage(mols[:6], legends=[str(nll) for nll in df.NLL][:6], molsPerRow=5)"
   ]
  },
  {
   "cell_type": "code",
   "execution_count": 8,
   "id": "38dd682e-e056-4265-82a6-8c3360f11169",
   "metadata": {
    "execution": {
     "iopub.execute_input": "2024-10-12T10:27:00.163199Z",
     "iopub.status.busy": "2024-10-12T10:27:00.162725Z",
     "iopub.status.idle": "2024-10-12T10:27:00.170596Z",
     "shell.execute_reply": "2024-10-12T10:27:00.169397Z",
     "shell.execute_reply.started": "2024-10-12T10:27:00.163158Z"
    }
   },
   "outputs": [],
   "source": [
    "load.data.set(smiles_lst)\n",
    "embe.n_variants.set(2)\n",
    "embe.timeout.set(10)\n",
    "# RIP3K <https://www.rcsb.org/structure/7MON>\n",
    "dock.receptor.set(Path('/home/iwatobipen/dev/CBI/cheminfo_tutorial_20241028/data/2ito_fix_remh.pdbqt'))\n",
    "dock.search_center.set((-56.643,  -6.844, -23.487))\n",
    "dock.search_range.set((20.00, 20.00, 20.00))\n",
    "# default vaule 8 seems too small ...\n",
    "dock.exhaustiveness.set(16)"
   ]
  },
  {
   "cell_type": "code",
   "execution_count": 9,
   "id": "4de002fc-670f-475c-b540-670fde5010a3",
   "metadata": {
    "execution": {
     "iopub.execute_input": "2024-10-12T10:27:01.759322Z",
     "iopub.status.busy": "2024-10-12T10:27:01.758845Z",
     "iopub.status.idle": "2024-10-12T10:27:01.907162Z",
     "shell.execute_reply": "2024-10-12T10:27:01.906299Z",
     "shell.execute_reply.started": "2024-10-12T10:27:01.759283Z"
    }
   },
   "outputs": [],
   "source": [
    "flow.connect(load.out, embe.inp)\n",
    "flow.connect(embe.out, dock.inp)\n",
    "flow.connect(dock.out,retu.inp)\n",
    "flow.check()"
   ]
  },
  {
   "cell_type": "code",
   "execution_count": 10,
   "id": "93af645f-6fc6-43db-9290-37c445ae5cdf",
   "metadata": {
    "execution": {
     "iopub.execute_input": "2024-10-12T10:27:02.084700Z",
     "iopub.status.busy": "2024-10-12T10:27:02.084327Z",
     "iopub.status.idle": "2024-10-12T10:31:49.039748Z",
     "shell.execute_reply": "2024-10-12T10:31:49.037803Z",
     "shell.execute_reply.started": "2024-10-12T10:27:02.084667Z"
    }
   },
   "outputs": [
    {
     "name": "stderr",
     "output_type": "stream",
     "text": [
      "2024-10-12 19:27:02,091 | \u001b[1;34m    INFO\u001b[0m |             dock | \n",
      "              ___           ___                       ___           ___\n",
      "             /\\__\\         /\\  \\          ___        /\\  \\         /\\  \\\n",
      "            /::|  |       /::\\  \\        /\\  \\       \\:\\  \\       /::\\  \\\n",
      "           /:|:|  |      /:/\\:\\  \\       \\:\\  \\       \\:\\  \\     /:/\\:\\  \\\n",
      "          /:/|:|__|__   /::\\~\\:\\  \\      /::\\__\\       \\:\\  \\   /::\\~\\:\\  \\\n",
      "         /:/ |::::\\__\\ /:/\\:\\ \\:\\__\\  __/:/\\/__/ _______\\:\\__\\ /:/\\:\\ \\:\\__\\\n",
      "         \\/__/~~/:/  / \\/__\\:\\/:/  / /\\/:/  /    \\::::::::/__/ \\:\\~\\:\\ \\/__/\n",
      "               /:/  /       \\::/  /  \\::/__/      \\:\\~~\\~~      \\:\\ \\:\\__\\\n",
      "              /:/  /        /:/  /    \\:\\__\\       \\:\\  \\        \\:\\ \\/__/\n",
      "             /:/  /        /:/  /      \\/__/        \\:\\__\\        \\:\\__\\\n",
      "             \\/__/         \\/__/                     \\/__/         \\/__/\n",
      "\n",
      "\n",
      "2024-10-12 19:27:02,092 | \u001b[1;34m    INFO\u001b[0m |             dock | Starting Maize version 0.8.3 (c) AstraZeneca 2024\n",
      "2024-10-12 19:27:02,092 | \u001b[1;34m    INFO\u001b[0m |             dock | Running workflow 'dock' with parameters:\n",
      "2024-10-12 19:27:02,093 | \u001b[1;34m    INFO\u001b[0m |             dock | data = ['COc1cc2ncnc(Nc3ccc(F)c(Cl)c3)c2cc1OCCCN1CCOCC1', 'COc1cc2ncnc(Nc3ccc(F)c(Cl)c3)c2cc1OCCCN1CCCCC1', 'COc1ccc(Nc2ncnc3cc(OCCCN4CCOCC4)c(OC)cc23)cc1', 'COc1cc2ncnc(Nc3ccc(F)c(Cl)c3)c2cc1OCCN1CCCC1', 'COc1cc2ncnc(Nc3ccc(F)c(Cl)c3)c2cc1OCCN1CCN(C)CC1'] (from 'loaddata')\n",
      "2024-10-12 19:27:02,094 | \u001b[1;34m    INFO\u001b[0m |             dock | n_variants = 2 (from 'gypsum')\n",
      "2024-10-12 19:27:02,094 | \u001b[1;34m    INFO\u001b[0m |             dock | timeout = 10 (from 'gypsum')\n",
      "2024-10-12 19:27:02,095 | \u001b[1;34m    INFO\u001b[0m |             dock | exhaustiveness = 16 (from 'vina')\n",
      "2024-10-12 19:27:02,095 | \u001b[1;34m    INFO\u001b[0m |             dock | receptor = /home/iwatobipen/dev/CBI/cheminfo_tutorial_20241028/data/2ito_fix_remh.pdbqt (from 'vina')\n",
      "2024-10-12 19:27:02,095 | \u001b[1;34m    INFO\u001b[0m |             dock | search_center = (-56.643, -6.844, -23.487) (from 'vina')\n",
      "2024-10-12 19:27:02,096 | \u001b[1;34m    INFO\u001b[0m |             dock | search_range = (20.0, 20.0, 20.0) (from 'vina')\n",
      "2024-10-12 19:27:02,617 | \u001b[1;34m    INFO\u001b[0m |           gypsum | Running job with PSI/J id=2ebd8396-43a3-4fc3-8a41-1b881301d616, stdout=/tmp/tmp0gya453d/graph-dock/node-gypsum/job-qqhw6y-out, stderr=/tmp/tmp0gya453d/graph-dock/node-gypsum/job-qqhw6y-err\n",
      "2024-10-12 19:27:03,081 | \u001b[1;34m    INFO\u001b[0m |             dock | Node 'loaddata' finished (1/4)\n",
      "2024-10-12 19:27:05,128 | \u001b[1;34m    INFO\u001b[0m |             dock | Workflow status\n",
      "                                   |           return | \u001b[1;33mWAITING_FOR_INPUT\u001b[0m\n",
      "                                   |           gypsum | \u001b[1;34mRUNNING\u001b[0m\n",
      "                                   |             vina | \u001b[1;33mWAITING_FOR_INPUT\u001b[0m\n",
      "                                   |         loaddata | \u001b[1;32mCOMPLETED\u001b[0m\n",
      "2024-10-12 19:27:05,149 | \u001b[1;34m    INFO\u001b[0m |             vina | Docking molecule 0: 'IsomerCollection('COc1cc2ncnc(Nc3ccc(F)c(Cl)c3)c2cc1OCCCN1CCOCC1', n_isomers=2)'\n",
      "2024-10-12 19:27:05,163 | \u001b[1;34m    INFO\u001b[0m |             vina | Docking molecule 1: 'IsomerCollection('COc1cc2ncnc(Nc3ccc(F)c(Cl)c3)c2cc1OCCCN1CCCCC1', n_isomers=2)'\n",
      "2024-10-12 19:27:05,177 | \u001b[1;34m    INFO\u001b[0m |             vina | Docking molecule 2: 'IsomerCollection('COc1ccc(Nc2ncnc3cc(OCCCN4CCOCC4)c(OC)cc23)cc1', n_isomers=2)'\n",
      "2024-10-12 19:27:05,187 | \u001b[1;34m    INFO\u001b[0m |             vina | Docking molecule 3: 'IsomerCollection('COc1cc2ncnc(Nc3ccc(F)c(Cl)c3)c2cc1OCCN1CCCC1', n_isomers=2)'\n",
      "2024-10-12 19:27:05,197 | \u001b[1;34m    INFO\u001b[0m |             vina | Docking molecule 4: 'IsomerCollection('COc1cc2ncnc(Nc3ccc(F)c(Cl)c3)c2cc1OCCN1CCN(C)CC1', n_isomers=2)'\n",
      "2024-10-12 19:27:05,230 | \u001b[1;34m    INFO\u001b[0m |             vina | Running job with PSI/J id=ca0e79b6-09a2-456d-bee1-45979574a185, stdout=/tmp/tmpc_0fley8/job-w088xw-out, stderr=/tmp/tmpc_0fley8/job-w088xw-err\n",
      "2024-10-12 19:27:05,231 | \u001b[1;34m    INFO\u001b[0m |             vina | Running job with PSI/J id=701a1311-1566-47e6-a5bf-6d047ca3b9c5, stdout=/tmp/tmpy3fo5aki/job-jwg9ks-out, stderr=/tmp/tmpy3fo5aki/job-jwg9ks-err\n",
      "2024-10-12 19:27:05,233 | \u001b[1;34m    INFO\u001b[0m |             vina | Running job with PSI/J id=e6c41099-6369-40dc-b113-8bd35bf234d2, stdout=/tmp/tmp45vopvf8/job-h6cne6-out, stderr=/tmp/tmp45vopvf8/job-h6cne6-err\n",
      "2024-10-12 19:27:05,235 | \u001b[1;34m    INFO\u001b[0m |             vina | Running job with PSI/J id=28f9d568-6c8a-4a40-9f15-24674762a133, stdout=/tmp/tmpral7eacy/job-wkocjm-out, stderr=/tmp/tmpral7eacy/job-wkocjm-err\n",
      "2024-10-12 19:27:05,239 | \u001b[1;34m    INFO\u001b[0m |             vina | Running job with PSI/J id=10991762-3331-4dd8-a0aa-a144f061b5a6, stdout=/tmp/tmpp1w4binm/job-z4at77-out, stderr=/tmp/tmpp1w4binm/job-z4at77-err\n",
      "2024-10-12 19:27:05,243 | \u001b[1;34m    INFO\u001b[0m |             vina | Running job with PSI/J id=15ba714e-0f3c-43ab-95d1-a9b48ae6bedb, stdout=/tmp/tmp6h_d4jsm/job-fhxddu-out, stderr=/tmp/tmp6h_d4jsm/job-fhxddu-err\n",
      "2024-10-12 19:27:05,248 | \u001b[1;34m    INFO\u001b[0m |             vina | Running job with PSI/J id=3ab1541b-8c35-41b0-b49e-3360b5867eec, stdout=/tmp/tmpdk66537x/job-1t116o-out, stderr=/tmp/tmpdk66537x/job-1t116o-err\n",
      "2024-10-12 19:27:05,252 | \u001b[1;34m    INFO\u001b[0m |             vina | Running job with PSI/J id=f9913e3a-f9ae-474d-bccd-84162f39d09b, stdout=/tmp/tmpb3mzb8fu/job-spijio-out, stderr=/tmp/tmpb3mzb8fu/job-spijio-err\n",
      "2024-10-12 19:27:05,259 | \u001b[1;34m    INFO\u001b[0m |             vina | Running job with PSI/J id=7535c04e-abb6-42c6-8343-016f0bf04d28, stdout=/tmp/tmpjocq2tjc/job-lo2vg3-out, stderr=/tmp/tmpjocq2tjc/job-lo2vg3-err\n",
      "2024-10-12 19:27:05,264 | \u001b[1;34m    INFO\u001b[0m |             vina | Running job with PSI/J id=5718d268-6927-497d-8f24-73145f7cfe66, stdout=/tmp/tmpq0d_042h/job-ixu2nj-out, stderr=/tmp/tmpq0d_042h/job-ixu2nj-err\n"
     ]
    },
    {
     "name": "stdout",
     "output_type": "stream",
     "text": [
      "|\r"
     ]
    },
    {
     "name": "stderr",
     "output_type": "stream",
     "text": [
      "2024-10-12 19:27:05,646 | \u001b[1;34m    INFO\u001b[0m |             dock | Node 'gypsum' finished (2/4)\n"
     ]
    },
    {
     "name": "stdout",
     "output_type": "stream",
     "text": [
      "-\r"
     ]
    },
    {
     "name": "stderr",
     "output_type": "stream",
     "text": [
      "2024-10-12 19:29:48,586 | \u001b[1;34m    INFO\u001b[0m |             vina | Job completed (1/10)\n"
     ]
    },
    {
     "name": "stdout",
     "output_type": "stream",
     "text": [
      "-\r"
     ]
    },
    {
     "name": "stderr",
     "output_type": "stream",
     "text": [
      "2024-10-12 19:30:00,864 | \u001b[1;34m    INFO\u001b[0m |             vina | Job completed (2/10)\n"
     ]
    },
    {
     "name": "stdout",
     "output_type": "stream",
     "text": [
      "/\r"
     ]
    },
    {
     "name": "stderr",
     "output_type": "stream",
     "text": [
      "2024-10-12 19:30:45,624 | \u001b[1;34m    INFO\u001b[0m |             vina | Job completed (3/10)\n"
     ]
    },
    {
     "name": "stdout",
     "output_type": "stream",
     "text": [
      "-\r"
     ]
    },
    {
     "name": "stderr",
     "output_type": "stream",
     "text": [
      "2024-10-12 19:30:48,626 | \u001b[1;34m    INFO\u001b[0m |             vina | Job completed (4/10)\n"
     ]
    },
    {
     "name": "stdout",
     "output_type": "stream",
     "text": [
      "\\\r"
     ]
    },
    {
     "name": "stderr",
     "output_type": "stream",
     "text": [
      "2024-10-12 19:30:52,156 | \u001b[1;34m    INFO\u001b[0m |             vina | Job completed (5/10)\n"
     ]
    },
    {
     "name": "stdout",
     "output_type": "stream",
     "text": [
      "-\r"
     ]
    },
    {
     "name": "stderr",
     "output_type": "stream",
     "text": [
      "2024-10-12 19:31:02,844 | \u001b[1;34m    INFO\u001b[0m |             vina | Job completed (6/10)\n"
     ]
    },
    {
     "name": "stdout",
     "output_type": "stream",
     "text": [
      "\\\r"
     ]
    },
    {
     "name": "stderr",
     "output_type": "stream",
     "text": [
      "2024-10-12 19:31:15,747 | \u001b[1;34m    INFO\u001b[0m |             vina | Job completed (7/10)\n",
      "2024-10-12 19:31:16,437 | \u001b[1;34m    INFO\u001b[0m |             vina | Job completed (8/10)\n"
     ]
    },
    {
     "name": "stdout",
     "output_type": "stream",
     "text": [
      "|\r"
     ]
    },
    {
     "name": "stderr",
     "output_type": "stream",
     "text": [
      "2024-10-12 19:31:30,778 | \u001b[1;34m    INFO\u001b[0m |             vina | Job completed (9/10)\n"
     ]
    },
    {
     "name": "stdout",
     "output_type": "stream",
     "text": [
      "/\r"
     ]
    },
    {
     "name": "stderr",
     "output_type": "stream",
     "text": [
      "2024-10-12 19:31:47,930 | \u001b[1;34m    INFO\u001b[0m |             vina | Job completed (10/10)\n",
      "2024-10-12 19:31:47,976 | \u001b[1;34m    INFO\u001b[0m |             dock | Workflow status\n",
      "                                   |           return | \u001b[1;33mWAITING_FOR_INPUT\u001b[0m\n",
      "                                   |           gypsum | \u001b[1;32mCOMPLETED\u001b[0m\n",
      "                                   |             vina | \u001b[1;34mRUNNING\u001b[0m\n",
      "                                   |         loaddata | \u001b[1;32mCOMPLETED\u001b[0m\n",
      "2024-10-12 19:31:47,984 | \u001b[1;34m    INFO\u001b[0m |             vina | Parsing isomer 0: 'XGALLCVXEZPNRQ-LSJXVMLKNA-O'\n",
      "2024-10-12 19:31:47,990 | \u001b[1;34m    INFO\u001b[0m |             vina | Parsing isomer 1: 'IFIRBZOPPUFQRQ-GXOSZTMVNA-O'\n",
      "2024-10-12 19:31:47,993 | \u001b[1;34m    INFO\u001b[0m |             vina | Parsing isomer 2: 'NOSWWYFJKOPCTB-OKLSVVEMNA-P'\n",
      "2024-10-12 19:31:47,996 | \u001b[1;34m    INFO\u001b[0m |             vina | Parsing isomer 3: 'NOSWWYFJKOPCTB-UWMLPMTCNA-O'\n",
      "2024-10-12 19:31:47,998 | \u001b[1;34m    INFO\u001b[0m |             vina | Parsing isomer 4: 'BLFAAYGECSULMU-QWLBRLSPNA-O'\n",
      "2024-10-12 19:31:48,000 | \u001b[1;34m    INFO\u001b[0m |             vina | Parsing isomer 5: 'UEWRHTSERXIBRC-PXOUPDIDNA-O'\n",
      "2024-10-12 19:31:48,014 | \u001b[1;34m    INFO\u001b[0m |             dock | Node 'return' finished (3/4)\n"
     ]
    },
    {
     "name": "stdout",
     "output_type": "stream",
     "text": [
      "-\r"
     ]
    },
    {
     "name": "stderr",
     "output_type": "stream",
     "text": [
      "2024-10-12 19:31:48,508 | \u001b[1;34m    INFO\u001b[0m |             dock | Node 'vina' finished (4/4)\n",
      "2024-10-12 19:31:49,012 | \u001b[1;34m    INFO\u001b[0m |             dock | Execution completed :) total runtime: 0:04:46.388311\n",
      "\t4 nodes completed successfully\n",
      "\t0 nodes stopped due to closing ports\n",
      "\t0 nodes failed\n",
      "\t0:09:35.778745 total walltime\n",
      "\t0:04:50.355055 spent waiting for resources or other nodes\n"
     ]
    }
   ],
   "source": [
    "flow.execute()"
   ]
  },
  {
   "cell_type": "code",
   "execution_count": 12,
   "id": "f2778216-d432-42af-a85b-68c4052eca0d",
   "metadata": {
    "execution": {
     "iopub.execute_input": "2024-10-12T10:33:25.592966Z",
     "iopub.status.busy": "2024-10-12T10:33:25.592700Z",
     "iopub.status.idle": "2024-10-12T10:33:25.711515Z",
     "shell.execute_reply": "2024-10-12T10:33:25.710564Z",
     "shell.execute_reply.started": "2024-10-12T10:33:25.592941Z"
    }
   },
   "outputs": [],
   "source": [
    "!mkdir dock_res"
   ]
  },
  {
   "cell_type": "code",
   "execution_count": 24,
   "id": "a6db9224",
   "metadata": {
    "execution": {
     "iopub.execute_input": "2024-10-12T10:38:09.656094Z",
     "iopub.status.busy": "2024-10-12T10:38:09.655499Z",
     "iopub.status.idle": "2024-10-12T10:38:09.663180Z",
     "shell.execute_reply": "2024-10-12T10:38:09.662665Z",
     "shell.execute_reply.started": "2024-10-12T10:38:09.656073Z"
    }
   },
   "outputs": [],
   "source": [
    "res=retu.get()\n",
    "import numpy as np\n",
    "from pathlib import Path\n",
    "for midx, ms in enumerate(res):\n",
    "    for cidx, m in enumerate(ms.molecules):\n",
    "        m.to_sdf(Path(f'./dock_res/ok_{midx}_{cidx}.sdf'))"
   ]
  },
  {
   "cell_type": "code",
   "execution_count": 19,
   "id": "6daac09f-4433-4b1b-819a-3f3af6b26623",
   "metadata": {
    "execution": {
     "iopub.execute_input": "2024-10-12T10:34:32.512789Z",
     "iopub.status.busy": "2024-10-12T10:34:32.512334Z",
     "iopub.status.idle": "2024-10-12T10:34:32.525717Z",
     "shell.execute_reply": "2024-10-12T10:34:32.525230Z",
     "shell.execute_reply.started": "2024-10-12T10:34:32.512760Z"
    }
   },
   "outputs": [
    {
     "data": {
      "image/png": "[encoded data removed]",
      "text/html": [
       "<table><tr><td colspan=\"2\" style=\"text-align: center;\"><image src=\"data:image/png;base64,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\"></td></tr>\n",
       "<tr><th style=\"text-align: right\">UniqueID</th><td style=\"text-align: left\">2</td></tr>\n",
       "<tr><th style=\"text-align: right\">SMILES</th><td style=\"text-align: left\">COc1cc2ncnc([NH2+]c3ccc(F)c(Cl)c3)c2cc1OCCCN1CCOCC1</td></tr>\n",
       "<tr><th style=\"text-align: right\">Energy</th><td style=\"text-align: left\">80.86749061993078</td></tr>\n",
       "<tr><th style=\"text-align: right\">Genealogy</th><td style=\"text-align: left\">COc1cc2ncnc([NH2+]c3ccc(F)c(Cl)c3)c2cc1OCCCN1CCOCC1 (protonated)\n",
       "COc1cc2ncnc([NH2+]c3ccc(F)c(Cl)c3)c2cc1OCCCN1CCOCC1 (3D coordinates assigned)\n",
       "COc1cc2ncnc([NH2+]c3ccc(F)c(Cl)c3)c2cc1OCCCN1CCOCC1 (nonaromatic ring conformer: 80.86749061993078 kcal/mol)</td></tr>\n",
       "<tr><th style=\"text-align: right\">smiles</th><td style=\"text-align: left\">COc1cc2ncnc(Nc3ccc(F)c(Cl)c3)c2cc1OCCCN1CCOCC1</td></tr>\n",
       "<tr><th style=\"text-align: right\">m_score__min__free_energy</th><td style=\"text-align: left\">-8.092</td></tr>\n",
       "<tr><th style=\"text-align: right\">origin</th><td style=\"text-align: left\">vina</td></tr></table>"
      ],
      "text/plain": [
       "<rdkit.Chem.rdchem.Mol at 0x7775e670fd30>"
      ]
     },
     "execution_count": 19,
     "metadata": {},
     "output_type": "execute_result"
    }
   ],
   "source": [
    "res[0].molecules[1]"
   ]
  },
  {
   "cell_type": "code",
   "execution_count": 20,
   "id": "fa73a2d2-00b5-4805-b140-237262b3ee8b",
   "metadata": {
    "execution": {
     "iopub.execute_input": "2024-10-12T10:35:01.149772Z",
     "iopub.status.busy": "2024-10-12T10:35:01.149536Z",
     "iopub.status.idle": "2024-10-12T10:35:01.152942Z",
     "shell.execute_reply": "2024-10-12T10:35:01.152580Z",
     "shell.execute_reply.started": "2024-10-12T10:35:01.149755Z"
    }
   },
   "outputs": [
    {
     "name": "stdout",
     "output_type": "stream",
     "text": [
      "2\n",
      "2\n",
      "2\n",
      "2\n",
      "2\n"
     ]
    }
   ],
   "source": [
    "for m in res:\n",
    "    print(len(m.molecules))"
   ]
  },
  {
   "cell_type": "code",
   "execution_count": null,
   "id": "218c7a77-3732-4346-896b-bc10c316da23",
   "metadata": {},
   "outputs": [],
   "source": []
  }
 ],
 "metadata": {
  "kernelspec": {
   "display_name": "Python 3 (ipykernel)",
   "language": "python",
   "name": "python3"
  },
  "language_info": {
   "codemirror_mode": {
    "name": "ipython",
    "version": 3
   },
   "file_extension": ".py",
   "mimetype": "text/x-python",
   "name": "python",
   "nbconvert_exporter": "python",
   "pygments_lexer": "ipython3",
   "version": "3.10.15"
  }
 },
 "nbformat": 4,
 "nbformat_minor": 5
}
