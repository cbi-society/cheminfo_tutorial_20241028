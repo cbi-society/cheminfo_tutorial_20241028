{
 "cells": [
  {
   "cell_type": "markdown",
   "id": "e9ba23d1-3f0a-452a-b8f3-23f9951575e1",
   "metadata": {},
   "source": [
    "# Gypsum-DLでSBVSの前処理をおこなう"
   ]
  },
  {
   "cell_type": "markdown",
   "id": "4556e88d-9f6e-4892-8b26-1620e6292a9e",
   "metadata": {},
   "source": [
    "## Gypsum-DLとは\n",
    "gypsum-dl はDurrant研が開発し報告した分子の前処理用のパッケージです。類似の前処理用のソフトウェアとしてはOpenEye’s OMEGA/QUACPAC や Schrödingerの LigPrep等が有名ですが、OSSでProtonationを考慮した前処理ができるツールはあまりありません(Openbabelくらい)。Gypsum-DLはRDKitをベースにしたツールであり環構造の多様性も加味した配座発生、脱塩なども可能です\n",
    "\n",
    "注) 企業の研究環境では、OpenEyeやSchrödingerの製品を利用することが多いと思いますが、今回のセッションではgypsum-dlを利用します。 \n",
    "\n",
    "### 参考情報\n",
    "- [原著論文](https://jcheminf.biomedcentral.com/articles/10.1186/s13321-019-0358-3)\n",
    "- [GitHub repo](https://github.com/durrantlab/gypsum_dl)"
   ]
  },
  {
   "cell_type": "markdown",
   "id": "3da9aa84-46b7-4abd-8038-fe5523daffa8",
   "metadata": {},
   "source": [
    "## 動作確認を行う\n",
    "後ほどMaizeで利用しますが、その前に直接Gypsumを動かしてみましょう。本ディレクトリにかんたんなスクリプトを置きました。"
   ]
  },
  {
   "cell_type": "code",
   "execution_count": null,
   "id": "3c8e6f3b-3472-4df0-87be-3a9ae03a71c2",
   "metadata": {},
   "outputs": [],
   "source": [
    "!cat run_gypsum_example.sh"
   ]
  },
  {
   "cell_type": "markdown",
   "id": "ea8568ca-2751-42c0-88d5-199aeb138b2d",
   "metadata": {},
   "source": [
    "### コマンドラインから実行する例\n",
    "\n",
    "```bash\n",
    "$ conda activate gypsum\n",
    "$ cd [gypsum repo dir]\n",
    "$ python run_gypsum_dl.py -s ../cheminfo_tutorial_20241028/data/sample_molecules.smi -o ./gypsum_out --add_html_output\n",
    "$ open gypsum_out/gypsum_dl_success.html #webブラウザで結果を確認\n",
    "```"
   ]
  },
  {
   "cell_type": "markdown",
   "id": "122ee752-4e7c-4726-8d03-58e792d274a3",
   "metadata": {},
   "source": [
    "## maizeの設定ファイルにGypsumとAutoDoc Vinaを追加する\n",
    "\n",
    "maizeはmaize.tomlというファイルに各種の設定を追記することで外部プログラムを実行することができます。\n",
    "- デフォルトではXDG_CONFIG_HOME以下にあるmaize.tomlが参照されますが、もしXDG_CONFIG_HOMEが環境変数として設定されていない場合[警告が出ます](https://stackoverflow.com/questions/3373948/equivalents-of-xdg-config-home-and-xdg-data-home-on-mac-os-x)。\n",
    "\n",
    "### ハンズオン用に設定ファイルを作成する\n",
    "\n",
    "gypsumのpathは上記で動作確認を行ったものと同じです。\n",
    "AutoDock Vinaのpathは01で動作確認したものですが、vinaのpythonのpathはmaize仮想環境のものを設定してください。\n",
    "\n",
    "```bash\n",
    "#just example\n",
    "!cat../data/maize.toml\n",
    "[vina]\n",
    "python = \"/home/iwatobipen/miniforge3/envs/maize-dev/bin/python\"\n",
    "commands.vina = \"/opt/vina/bin/vina\"\n",
    "\n",
    "[gypsum]\n",
    "scripts.gypsum.interpreter = \"/home/iwatobipen/miniforge3/envs/gypsum/bin/python\"\n",
    "scripts.gypsum.location = \"/home/iwatobipen/dev/gypsum_dl/run_gypsum_dl.py\"\n",
    "```"
   ]
  },
  {
   "cell_type": "markdown",
   "id": "c3037f2a-7cba-47ac-875c-f0e95b2c0ca9",
   "metadata": {},
   "source": [
    "## 設定ファイルを有効にしてjupyte notebookを再起動する\n",
    "\n",
    "上記のmaize.tomlを有効にするために環境変数を設定してからjupyter notebookを再起動します。\n",
    "\n",
    "```sh\n",
    "$ export XDG_CONFIG_HOME=\"[各自のpath]/cheminfo_tutorial_20241028/data\"\n",
    "$ jupyter notebook\n",
    "```"
   ]
  },
  {
   "cell_type": "markdown",
   "id": "8c68cea6-7d7d-4084-90aa-502c9679da74",
   "metadata": {},
   "source": [
    "#### 補足情報\n",
    "\n",
    "もしデフォルトのXDG_CONFIG_HOME/maize.toml以外のファイルを設定ファイルとして利用する場合は以下のようにプログラム内で\n",
    "読み込みます。\n",
    "\n",
    "```python\n",
    "from maize.utilities.io import Config, NodeConfig\n",
    "flow.config = Config()\n",
    "flow.config.update(Path(\"path/to/config.toml\"))\n",
    "```\n",
    "\n",
    "以下のコードは設定ファイルの上書きで設定が更新されていることを確かめています。\n",
    "- [参考](https://molecularai.github.io/maize/docs/userguide.html)"
   ]
  },
  {
   "cell_type": "code",
   "execution_count": null,
   "id": "6d1b7e30-bc07-4bee-acd1-9a73f9d17bfd",
   "metadata": {},
   "outputs": [],
   "source": [
    "# 設定前後のConfigのチェック\n",
    "from pathlib import Path\n",
    "from maize.utilities.io import Config, NodeConfig\n",
    "from maize.core.workflow import Workflow\n",
    "from pprint import pprint\n",
    "\n",
    "flow = Workflow()\n",
    "flow.config = Config()\n",
    "pprint(flow.config)"
   ]
  },
  {
   "cell_type": "code",
   "execution_count": null,
   "id": "02d9623e-8df3-41fa-ade2-0ddb8e57e026",
   "metadata": {},
   "outputs": [],
   "source": [
    "flow.config.update(Path(\"../data/maize.toml\"))\n",
    "pprint(flow.config)"
   ]
  },
  {
   "cell_type": "code",
   "execution_count": null,
   "id": "35409bbb-d52c-4868-aa14-d2c0a307d625",
   "metadata": {},
   "outputs": [],
   "source": []
  }
 ],
 "metadata": {
  "kernelspec": {
   "display_name": "Python 3 (ipykernel)",
   "language": "python",
   "name": "python3"
  },
  "language_info": {
   "codemirror_mode": {
    "name": "ipython",
    "version": 3
   },
   "file_extension": ".py",
   "mimetype": "text/x-python",
   "name": "python",
   "nbconvert_exporter": "python",
   "pygments_lexer": "ipython3",
   "version": "3.10.15"
  }
 },
 "nbformat": 4,
 "nbformat_minor": 5
}
