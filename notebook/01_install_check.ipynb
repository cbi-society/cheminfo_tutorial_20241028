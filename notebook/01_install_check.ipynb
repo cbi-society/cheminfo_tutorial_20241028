{
 "cells": [
  {
   "cell_type": "markdown",
   "id": "325e2960-1757-411e-978c-c6175de48201",
   "metadata": {},
   "source": [
    "### check installation is success or not\n",
    "### チュートリアルで利用するパッケージをインポートしてみましょう。エラーが出なければOKです。"
   ]
  },
  {
   "cell_type": "code",
   "execution_count": 6,
   "id": "ac2f598c-69a0-4dd7-9f84-ad188c554abc",
   "metadata": {
    "execution": {
     "iopub.execute_input": "2024-10-12T04:31:13.564560Z",
     "iopub.status.busy": "2024-10-12T04:31:13.564361Z",
     "iopub.status.idle": "2024-10-12T04:31:13.567396Z",
     "shell.execute_reply": "2024-10-12T04:31:13.566961Z",
     "shell.execute_reply.started": "2024-10-12T04:31:13.564544Z"
    }
   },
   "outputs": [],
   "source": [
    "from maize.core.workflow import Workflow\n",
    "from maize.utilities.chem import IsomerCollection\n",
    "from maize.steps.mai.molecule import Gypsum\n",
    "from maize.steps.mai.molecule import Smiles2Molecules, LoadSmiles, LoadMolecule\n",
    "from maize.steps.mai.docking import Vina, VinaScore\n",
    "from maize.steps.io import LoadData, LoadFile, Return, Void\n",
    "from pathlib import Path"
   ]
  },
  {
   "cell_type": "code",
   "execution_count": 7,
   "id": "a400712e-4ed2-4f7d-bd0b-bda543cd1565",
   "metadata": {
    "execution": {
     "iopub.execute_input": "2024-10-12T04:31:14.110224Z",
     "iopub.status.busy": "2024-10-12T04:31:14.109692Z",
     "iopub.status.idle": "2024-10-12T04:31:14.115743Z",
     "shell.execute_reply": "2024-10-12T04:31:14.114630Z",
     "shell.execute_reply.started": "2024-10-12T04:31:14.110180Z"
    }
   },
   "outputs": [],
   "source": [
    "from rdkit import Chem\n",
    "import scipy\n",
    "import meeko"
   ]
  },
  {
   "cell_type": "code",
   "execution_count": 8,
   "id": "2b51c637-e766-4b58-9921-582e20adb525",
   "metadata": {
    "execution": {
     "iopub.execute_input": "2024-10-12T04:31:15.105730Z",
     "iopub.status.busy": "2024-10-12T04:31:15.105291Z",
     "iopub.status.idle": "2024-10-12T04:31:15.109900Z",
     "shell.execute_reply": "2024-10-12T04:31:15.109515Z",
     "shell.execute_reply.started": "2024-10-12T04:31:15.105695Z"
    }
   },
   "outputs": [],
   "source": [
    "from maize import maize\n",
    "import rdkit\n"
   ]
  },
  {
   "cell_type": "code",
   "execution_count": 9,
   "id": "325d8f25-33ba-4851-b15f-823a5b88e8eb",
   "metadata": {
    "execution": {
     "iopub.execute_input": "2024-10-12T04:31:15.839221Z",
     "iopub.status.busy": "2024-10-12T04:31:15.838830Z",
     "iopub.status.idle": "2024-10-12T04:31:15.843838Z",
     "shell.execute_reply": "2024-10-12T04:31:15.843057Z",
     "shell.execute_reply.started": "2024-10-12T04:31:15.839190Z"
    }
   },
   "outputs": [
    {
     "name": "stdout",
     "output_type": "stream",
     "text": [
      "0.8.3\n",
      "2024.03.5\n",
      "0.5.0\n"
     ]
    }
   ],
   "source": [
    "print(maize.__version__)\n",
    "print(rdkit.__version__)\n",
    "print(meeko.__version__)"
   ]
  },
  {
   "cell_type": "markdown",
   "id": "d9ad8221-00bb-4930-8c7e-51943c3931c0",
   "metadata": {},
   "source": [
    "#### maizeの設定に関して\n",
    "- maizeはmaize.tomlというファイルに各種の設定を追記することで外部プログラムをコールしたりすることができます。\n",
    "- デフォルトではXDG_CONFIG_HOME以下にあるmaize.tomlを見に行くように設定されています。\n",
    "- XDG_CONFIG_HOMEが環境変数として設定されておらず、maize.tomlが見に行けない場合エラーが起きるかもしれません。\n",
    "- MacOSは同じ機能を担うディレクトリがあるもののXDG_CONFIG_HOMEは設定されていないかもしれません。\n",
    "- https://stackoverflow.com/questions/3373948/equivalents-of-xdg-config-home-and-xdg-data-home-on-mac-os-x\n",
    "- 今回利用する設定ファイルは以下のファイルです。\n",
    "- Pathは各自で異なると思いますので適宜書き換えてください。\n",
    "\n",
    "```bash\n",
    "#just example\n",
    "!cat../data/maize.toml\n",
    "[vina]\n",
    "python = \"/home/iwatobipen/miniforge3/envs/maize-dev/bin/python\"\n",
    "commands.vina = \"/opt/vina/bin/vina\"\n",
    "\n",
    "[gypsum]\n",
    "scripts.gypsum.interpreter = \"/home/iwatobipen/miniforge3/envs/gypsum/bin/python\"\n",
    "scripts.gypsum.location = \"/home/iwatobipen/dev/gypsum_dl/run_gypsum_dl.py\"\n",
    "```\n",
    "- これを設定ファイルとして利用する際は以下の記載を追記すればよいです。\n",
    "\n",
    "```python\n",
    "from maize.utilities.io import Config, NodeConfig\n",
    "flow.config = Config()\n",
    "flow.config.update(Path(\"path/to/config.toml\"))\n",
    "```\n",
    "- [参考](https://molecularai.github.io/maize/docs/userguide.html)\n"
   ]
  },
  {
   "cell_type": "code",
   "execution_count": 10,
   "id": "b9fd62e7-4d15-4b1a-b51d-916dab37c762",
   "metadata": {
    "execution": {
     "iopub.execute_input": "2024-10-12T04:31:44.325927Z",
     "iopub.status.busy": "2024-10-12T04:31:44.325559Z",
     "iopub.status.idle": "2024-10-12T04:31:44.362460Z",
     "shell.execute_reply": "2024-10-12T04:31:44.361863Z",
     "shell.execute_reply.started": "2024-10-12T04:31:44.325896Z"
    }
   },
   "outputs": [],
   "source": [
    "from maize.utilities.io import Config, NodeConfig\n",
    "from maize.core.workflow import Workflow\n",
    "flow = Workflow()\n",
    "flow.config = Config()\n",
    "flow.config.update(Path(\"../data/maize.toml\"))"
   ]
  },
  {
   "cell_type": "code",
   "execution_count": 14,
   "id": "3c22caf4-dfab-4e4b-a5ba-01fcf1754fc7",
   "metadata": {
    "execution": {
     "iopub.execute_input": "2024-10-12T04:32:35.420186Z",
     "iopub.status.busy": "2024-10-12T04:32:35.419798Z",
     "iopub.status.idle": "2024-10-12T04:32:35.426406Z",
     "shell.execute_reply": "2024-10-12T04:32:35.425316Z",
     "shell.execute_reply.started": "2024-10-12T04:32:35.420155Z"
    }
   },
   "outputs": [
    {
     "name": "stdout",
     "output_type": "stream",
     "text": [
      "Config(packages=['maize.steps.mai', 'maize.graphs.mai'],\n",
      "       scratch=PosixPath('/tmp/tmpvsi5tv5d'),\n",
      "       batch_config=ResourceManagerConfig(system='local',\n",
      "                                          max_jobs=100,\n",
      "                                          queue=None,\n",
      "                                          project=None,\n",
      "                                          launcher=None,\n",
      "                                          walltime='24:00:00',\n",
      "                                          polling_interval=120),\n",
      "       environment={},\n",
      "       nodes={'gypsum': NodeConfig(python=PosixPath('/home/iwatobipen/miniforge3/envs/maize-dev/bin/python'),\n",
      "                                   modules=[],\n",
      "                                   commands={},\n",
      "                                   scripts={'gypsum': {'interpreter': '/home/iwatobipen/miniforge3/envs/gypsum/bin/python',\n",
      "                                                       'location': PosixPath('/home/iwatobipen/dev/gypsum_dl/run_gypsum_dl.py')}},\n",
      "                                   parameters={}),\n",
      "              'vina': NodeConfig(python='/home/iwatobipen/miniforge3/envs/maize/bin/python',\n",
      "                                 modules=[],\n",
      "                                 commands={'vina': '/opt/vina/bin/vina'},\n",
      "                                 scripts={},\n",
      "                                 parameters={})})\n"
     ]
    }
   ],
   "source": [
    "from pprint import pprint\n",
    "pprint(flow.config)"
   ]
  },
  {
   "cell_type": "code",
   "execution_count": null,
   "id": "6debc544-919d-42b7-9dcd-8e142fd79789",
   "metadata": {},
   "outputs": [],
   "source": []
  }
 ],
 "metadata": {
  "kernelspec": {
   "display_name": "Python 3 (ipykernel)",
   "language": "python",
   "name": "python3"
  },
  "language_info": {
   "codemirror_mode": {
    "name": "ipython",
    "version": 3
   },
   "file_extension": ".py",
   "mimetype": "text/x-python",
   "name": "python",
   "nbconvert_exporter": "python",
   "pygments_lexer": "ipython3",
   "version": "3.10.14"
  }
 },
 "nbformat": 4,
 "nbformat_minor": 5
}
