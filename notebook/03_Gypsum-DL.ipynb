{
 "cells": [
  {
   "cell_type": "markdown",
   "id": "e9ba23d1-3f0a-452a-b8f3-23f9951575e1",
   "metadata": {},
   "source": [
    "# Gypsum-DLでSBVSの前処理をおこなう"
   ]
  },
  {
   "cell_type": "markdown",
   "id": "4556e88d-9f6e-4892-8b26-1620e6292a9e",
   "metadata": {},
   "source": [
    "## Gypsum-DLとは\n",
    "gypsum-dl はDurrant研が開発し報告した分子の前処理用のパッケージです。類似の前処理用のソフトウェアとしてはOpenEye’s OMEGA/QUACPAC や Schrödingerの LigPrep等が有名ですが、OSSでProtonationを考慮した前処理ができるツールはあまりありません(Openbabelくらい)。Gypsum-DLはRDKitをベースにしたツールであり環構造の多様性も加味した配座発生、脱塩なども可能です\n",
    "\n",
    "注) 企業の研究環境では、OpenEyeやSchrödingerの製品を利用することが多いと思いますが、今回のセッションではgypsum-dlを利用します。 \n",
    "\n",
    "### 参考情報\n",
    "- [原著論文](https://jcheminf.biomedcentral.com/articles/10.1186/s13321-019-0358-3)\n",
    "- [GitHub repo](https://github.com/durrantlab/gypsum_dl)"
   ]
  },
  {
   "cell_type": "markdown",
   "id": "3da9aa84-46b7-4abd-8038-fe5523daffa8",
   "metadata": {},
   "source": [
    "## 動作確認を行う\n",
    "後ほどMaizeで利用しますが、その前に直接Gypsumを動かしてみましょう。本ディレクトリにかんたんなスクリプトを置きました。"
   ]
  },
  {
   "cell_type": "code",
   "execution_count": 1,
   "id": "3c8e6f3b-3472-4df0-87be-3a9ae03a71c2",
   "metadata": {},
   "outputs": [
    {
     "name": "stdout",
     "output_type": "stream",
     "text": [
      "#!/bin/bash\n",
      "\n",
      "# please change the following path to your own path\n",
      "PYTHON_PATH=/home/iwatobipen/miniforge3/envs/gypsum/bin\n",
      "GYPSUM_PATH=/home/iwatobipen/dev/gypsum_dl\n",
      "\n",
      "\n",
      "$PYTHON_PATH/python $GYPSUM_PATH/run_gypsum_dl.py -s ../data/sample_molecules.smi -o ./gypsum_out --add_html_output \n"
     ]
    }
   ],
   "source": [
    "!cat run_gypsum_example.sh"
   ]
  },
  {
   "cell_type": "markdown",
   "id": "7e42fbcc-bdb9-4548-b3ec-75e0650d8c7e",
   "metadata": {},
   "source": []
  },
  {
   "cell_type": "markdown",
   "id": "ea8568ca-2751-42c0-88d5-199aeb138b2d",
   "metadata": {},
   "source": [
    "### コマンドラインから実行する例\n",
    "\n",
    "```bash\n",
    "$ conda activate gypsum\n",
    "$ cd [gypsum repo dir]\n",
    "$ python run_gypsum_dl.py -s ../cheminfo_tutorial_20241028/data/sample_molecules.smi -o ./gypsum_out --add_html_output\n",
    "$ open gypsum_out/gypsum_dl_success.html #webブラウザで結果を確認\n",
    "```"
   ]
  },
  {
   "cell_type": "code",
   "execution_count": null,
   "id": "b7052da8-9674-41fc-a416-2c68a4b84516",
   "metadata": {},
   "outputs": [],
   "source": []
  }
 ],
 "metadata": {
  "kernelspec": {
   "display_name": "Python 3 (ipykernel)",
   "language": "python",
   "name": "python3"
  },
  "language_info": {
   "codemirror_mode": {
    "name": "ipython",
    "version": 3
   },
   "file_extension": ".py",
   "mimetype": "text/x-python",
   "name": "python",
   "nbconvert_exporter": "python",
   "pygments_lexer": "ipython3",
   "version": "3.10.15"
  }
 },
 "nbformat": 4,
 "nbformat_minor": 5
}
