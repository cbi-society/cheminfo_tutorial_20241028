{
 "cells": [
  {
   "cell_type": "markdown",
   "id": "e9ba23d1-3f0a-452a-b8f3-23f9951575e1",
   "metadata": {},
   "source": [
    "### Gypsum-DL test"
   ]
  },
  {
   "cell_type": "markdown",
   "id": "4556e88d-9f6e-4892-8b26-1620e6292a9e",
   "metadata": {},
   "source": [
    "#### Gypsum_DL test\n",
    "- gypsum-dl はDurrant研が開発し報告した分子の前処理用のパッケージです詳細はリンク先の論文をご確認下さい。\n",
    "- VSを行うための前処理はOpenEye’s OMEGA/QUACPAC や Schrödingerの LigPrep等が有名ですがOSSでProtonationを加味した前処理ができるツールはOpenbabelくらいと限られていました。Gypsum-DLはRDKitをベースにしたツールであり環構造の多様性も加味した配座発生、脱塩なども可能であり非常に有用なツールであると言えます。\n",
    "- 研究環境でOpenEyeやSchrödingerの製品が使えるのであれば特にGypsum-DLにこだわる必要がありませんが、今回のセッションではこのツールを利用します。\n",
    "- \n",
    "\n",
    "#### ref　原著論文とGithubのリポジトリです\n",
    "- https://jcheminf.biomedcentral.com/articles/10.1186/s13321-019-0358-3\n",
    "- https://github.com/durrantlab/gypsum_dl"
   ]
  },
  {
   "cell_type": "markdown",
   "id": "3da9aa84-46b7-4abd-8038-fe5523daffa8",
   "metadata": {},
   "source": [
    "#### 実際に動かしてみましょう\n",
    "- 後にMaizeで利用しますがその前に実際に直接Gypsumを動かしてみましょう。本ディレクトリにかんたんなスクリプトを置きました。"
   ]
  },
  {
   "cell_type": "code",
   "execution_count": 1,
   "id": "3c8e6f3b-3472-4df0-87be-3a9ae03a71c2",
   "metadata": {
    "execution": {
     "iopub.execute_input": "2024-09-17T11:34:25.828887Z",
     "iopub.status.busy": "2024-09-17T11:34:25.828291Z",
     "iopub.status.idle": "2024-09-17T11:34:25.974793Z",
     "shell.execute_reply": "2024-09-17T11:34:25.972431Z",
     "shell.execute_reply.started": "2024-09-17T11:34:25.828837Z"
    }
   },
   "outputs": [
    {
     "name": "stdout",
     "output_type": "stream",
     "text": [
      "#!/bin/bash\n",
      "\n",
      "# please change the following path to your own path\n",
      "PYTHON_PATH=/home/iwatobipen/miniforge3/envs/gypsum/bin\n",
      "GYPSUM_PATH=/home/iwatobipen/dev/gypsum_dl\n",
      "\n",
      "\n",
      "$PYTHON_PATH/python $GYPSUM_PATH/run_gypsum_dl.py -s ../data/sample_molecules.smi -o ./gypsum_out --add_html_output \n"
     ]
    }
   ],
   "source": [
    "!cat run_gypsum_example.sh"
   ]
  },
  {
   "cell_type": "markdown",
   "id": "7e42fbcc-bdb9-4548-b3ec-75e0650d8c7e",
   "metadata": {},
   "source": [
    "- PYTHON_PATH, GYPSUM_PATHは各自のPATHに書き換えて下さい。\n",
    "- PYTHON_PATHがわからない場合 $ conda info -eとコマンドラインで打てば環境の一覧が確認できます。\n",
    "- 上記のスクリプトで -o オプションで結果格納先のディレクトリを指定しています。これは事前に作成していなくとも自動で作成されます。\n",
    "- 細かいオプションについては上のオリジナルのリポジトリを見ていただくとよいかと思います。\n",
    "- 各オプションはJSONフォーマットでファイルで記載することで一挙に渡すことも可能です。"
   ]
  },
  {
   "cell_type": "code",
   "execution_count": null,
   "id": "7ee6332d-c475-4e1a-b268-aead2f65bda7",
   "metadata": {},
   "outputs": [],
   "source": []
  }
 ],
 "metadata": {
  "kernelspec": {
   "display_name": "Python 3 (ipykernel)",
   "language": "python",
   "name": "python3"
  },
  "language_info": {
   "codemirror_mode": {
    "name": "ipython",
    "version": 3
   },
   "file_extension": ".py",
   "mimetype": "text/x-python",
   "name": "python",
   "nbconvert_exporter": "python",
   "pygments_lexer": "ipython3",
   "version": "3.10.14"
  }
 },
 "nbformat": 4,
 "nbformat_minor": 5
}
