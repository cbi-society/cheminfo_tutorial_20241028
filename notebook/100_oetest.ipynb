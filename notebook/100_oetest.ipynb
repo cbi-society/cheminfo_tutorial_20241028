{
 "cells": [
  {
   "cell_type": "markdown",
   "id": "d14c4334-a870-42d7-9116-845dbbafc4c6",
   "metadata": {},
   "source": [
    "### Maize は　OpenEyey社のROCSもサポートしています。\n",
    "- 利用にはライセンスが必要です。アカデミックライセンスもありますが、企業で利用する場合は有償なのでこのコードは参考までに。\n",
    "- Queryは[セレコキシブ](https://www.rcsb.org/ligand/S58)を使いました"
   ]
  },
  {
   "cell_type": "code",
   "execution_count": 1,
   "id": "c301d440-f16c-4116-a173-8549253a9fac",
   "metadata": {
    "execution": {
     "iopub.execute_input": "2024-10-12T13:17:27.041263Z",
     "iopub.status.busy": "2024-10-12T13:17:27.040454Z",
     "iopub.status.idle": "2024-10-12T13:17:27.707207Z",
     "shell.execute_reply": "2024-10-12T13:17:27.706664Z",
     "shell.execute_reply.started": "2024-10-12T13:17:27.041217Z"
    }
   },
   "outputs": [],
   "source": [
    "from openeye import oechem\n",
    "from openeye import oeshape\n",
    "from maize.steps.mai.docking import ROCS\n",
    "from maize.steps.mai.molecule import Mol2Isomers, Smiles2Molecules\n",
    "from maize.steps.io import LoadData, LogResult, Return, Void\n",
    "from maize.core.interface import MultiInput, Parameter, Path, Input, Output\n",
    "from maize.core.node import Node\n",
    "from maize.core.workflow import Workflow\n",
    "from maize.utilities.chem import IsomerCollection\n",
    "import numpy as np\n",
    "from pathlib import Path\n",
    "from numpy.typing import NDArray\n",
    "from string import Template\n"
   ]
  },
  {
   "cell_type": "code",
   "execution_count": 2,
   "id": "bcdb81c2-6a6b-4461-9203-90294009c41d",
   "metadata": {
    "execution": {
     "iopub.execute_input": "2024-10-12T13:17:27.707762Z",
     "iopub.status.busy": "2024-10-12T13:17:27.707575Z",
     "iopub.status.idle": "2024-10-12T13:17:27.710305Z",
     "shell.execute_reply": "2024-10-12T13:17:27.709857Z",
     "shell.execute_reply.started": "2024-10-12T13:17:27.707746Z"
    }
   },
   "outputs": [],
   "source": [
    "import os, sys"
   ]
  },
  {
   "cell_type": "code",
   "execution_count": 3,
   "id": "edae2249-4294-48aa-b3b7-0c405828d46a",
   "metadata": {
    "execution": {
     "iopub.execute_input": "2024-10-12T13:17:27.711300Z",
     "iopub.status.busy": "2024-10-12T13:17:27.710889Z",
     "iopub.status.idle": "2024-10-12T13:17:29.440502Z",
     "shell.execute_reply": "2024-10-12T13:17:29.439972Z",
     "shell.execute_reply.started": "2024-10-12T13:17:27.711275Z"
    }
   },
   "outputs": [],
   "source": [
    "flow = Workflow(name='rocs', level='info', cleanup_temp=True)"
   ]
  },
  {
   "cell_type": "code",
   "execution_count": 4,
   "id": "8aed7bee-a7c2-4d5d-afd2-efe345d97895",
   "metadata": {
    "execution": {
     "iopub.execute_input": "2024-10-12T13:17:29.441105Z",
     "iopub.status.busy": "2024-10-12T13:17:29.440961Z",
     "iopub.status.idle": "2024-10-12T13:17:29.443739Z",
     "shell.execute_reply": "2024-10-12T13:17:29.443356Z",
     "shell.execute_reply.started": "2024-10-12T13:17:29.441092Z"
    }
   },
   "outputs": [],
   "source": [
    "flow.config.update(Path(\"/home/iwatobipen/.config/maize.toml\"))"
   ]
  },
  {
   "cell_type": "code",
   "execution_count": 5,
   "id": "8b7d4462-c146-4b2b-939a-5e358241bd68",
   "metadata": {
    "execution": {
     "iopub.execute_input": "2024-10-12T13:17:29.445651Z",
     "iopub.status.busy": "2024-10-12T13:17:29.445526Z",
     "iopub.status.idle": "2024-10-12T13:17:29.564956Z",
     "shell.execute_reply": "2024-10-12T13:17:29.564608Z",
     "shell.execute_reply.started": "2024-10-12T13:17:29.445639Z"
    }
   },
   "outputs": [],
   "source": [
    "load = flow.add(LoadData[list[str]])\n",
    "smi2mol = flow.add(Smiles2Molecules)\n",
    "rocs = flow.add(ROCS)\n",
    "retu = flow.add(Return[list[IsomerCollection]], name='retmol')\n",
    "\n",
    "#log = flow.add(Void)\n",
    "\n",
    "load.data.set(\n",
    "    [\"c1cc(ccc1c2cc(nn2c3ccc(cc3)S(=O)(=O)N)C(F)(F)F)Br\",\n",
    "    \"c1cc(ccc1c2cc(nn2c3ccc(cc3)S(=O)(=O)N)C(F)(F)F)Cl\",\n",
    "    \"c1cc(ccc1c2cc(nn2c3ccc(cc3)S(=O)(=O)N)CF)Cl\",\n",
    "    \"CCCCCC\"]\n",
    ")"
   ]
  },
  {
   "cell_type": "code",
   "execution_count": 6,
   "id": "336196ce-79c1-4cf8-94e5-80a5cf373b55",
   "metadata": {
    "execution": {
     "iopub.execute_input": "2024-10-12T13:17:29.565454Z",
     "iopub.status.busy": "2024-10-12T13:17:29.565334Z",
     "iopub.status.idle": "2024-10-12T13:17:29.569939Z",
     "shell.execute_reply": "2024-10-12T13:17:29.569600Z",
     "shell.execute_reply.started": "2024-10-12T13:17:29.565442Z"
    }
   },
   "outputs": [],
   "source": [
    "flow.connect(load.out, smi2mol.inp)\n",
    "flow.connect(smi2mol.out, rocs.inp)\n",
    "flow.connect(rocs.out, retu.inp)\n"
   ]
  },
  {
   "cell_type": "code",
   "execution_count": 8,
   "id": "5919617e-3d82-4dc7-8214-954e72e9eb26",
   "metadata": {
    "execution": {
     "iopub.execute_input": "2024-10-12T13:17:49.892128Z",
     "iopub.status.busy": "2024-10-12T13:17:49.891680Z",
     "iopub.status.idle": "2024-10-12T13:17:49.895376Z",
     "shell.execute_reply": "2024-10-12T13:17:49.894906Z",
     "shell.execute_reply.started": "2024-10-12T13:17:49.892090Z"
    }
   },
   "outputs": [],
   "source": [
    "rocs.query.set('../data/S58.sq')"
   ]
  },
  {
   "cell_type": "code",
   "execution_count": 9,
   "id": "555cbf09-4666-493e-90d8-dbe26d3bc875",
   "metadata": {
    "execution": {
     "iopub.execute_input": "2024-10-12T13:17:54.797197Z",
     "iopub.status.busy": "2024-10-12T13:17:54.796626Z",
     "iopub.status.idle": "2024-10-12T13:17:54.865350Z",
     "shell.execute_reply": "2024-10-12T13:17:54.864637Z",
     "shell.execute_reply.started": "2024-10-12T13:17:54.797152Z"
    }
   },
   "outputs": [],
   "source": [
    "flow.check()"
   ]
  },
  {
   "cell_type": "code",
   "execution_count": 10,
   "id": "139df649-0439-4fd0-9f83-833db0c014fe",
   "metadata": {
    "execution": {
     "iopub.execute_input": "2024-10-12T13:17:55.315394Z",
     "iopub.status.busy": "2024-10-12T13:17:55.314965Z",
     "iopub.status.idle": "2024-10-12T13:17:55.347019Z",
     "shell.execute_reply": "2024-10-12T13:17:55.346601Z",
     "shell.execute_reply.started": "2024-10-12T13:17:55.315351Z"
    },
    "scrolled": true
   },
   "outputs": [
    {
     "data": {
      "image/svg+xml": [
       "<?xml version=\"1.0\" encoding=\"UTF-8\" standalone=\"no\"?>\n",
       "<!DOCTYPE svg PUBLIC \"-//W3C//DTD SVG 1.1//EN\"\n",
       " \"http://www.w3.org/Graphics/SVG/1.1/DTD/svg11.dtd\">\n",
       "<!-- Generated by graphviz version 12.0.0 (20240803.0821)\n",
       " -->\n",
       "<!-- Title: rocs Pages: 1 -->\n",
       "<svg width=\"186pt\" height=\"298pt\"\n",
       " viewBox=\"0.00 0.00 185.50 298.25\" xmlns=\"http://www.w3.org/2000/svg\" xmlns:xlink=\"http://www.w3.org/1999/xlink\">\n",
       "<g id=\"graph0\" class=\"graph\" transform=\"scale(1 1) rotate(0) translate(4 294.25)\">\n",
       "<title>rocs</title>\n",
       "<polygon fill=\"none\" stroke=\"none\" points=\"-4,4 -4,-294.25 181.5,-294.25 181.5,4 -4,4\"/>\n",
       "<!-- loaddata -->\n",
       "<g id=\"node1\" class=\"node\">\n",
       "<title>loaddata</title>\n",
       "<path fill=\"#666666\" fill-opacity=\"0.133333\" stroke=\"#830051\" stroke-width=\"2\" d=\"M85,-290.25C85,-290.25 39,-290.25 39,-290.25 33,-290.25 27,-284.25 27,-278.25 27,-278.25 27,-266.25 27,-266.25 27,-260.25 33,-254.25 39,-254.25 39,-254.25 85,-254.25 85,-254.25 91,-254.25 97,-260.25 97,-266.25 97,-266.25 97,-278.25 97,-278.25 97,-284.25 91,-290.25 85,-290.25\"/>\n",
       "<text text-anchor=\"middle\" x=\"62\" y=\"-269.68\" font-family=\"Consolas\" font-size=\"11.00\">loaddata</text>\n",
       "</g>\n",
       "<!-- smiles2molecules -->\n",
       "<g id=\"node2\" class=\"node\">\n",
       "<title>smiles2molecules</title>\n",
       "<path fill=\"#666666\" fill-opacity=\"0.133333\" stroke=\"#830051\" stroke-width=\"2\" d=\"M112,-205.5C112,-205.5 12,-205.5 12,-205.5 6,-205.5 0,-199.5 0,-193.5 0,-193.5 0,-181.5 0,-181.5 0,-175.5 6,-169.5 12,-169.5 12,-169.5 112,-169.5 112,-169.5 118,-169.5 124,-175.5 124,-181.5 124,-181.5 124,-193.5 124,-193.5 124,-199.5 118,-205.5 112,-205.5\"/>\n",
       "<text text-anchor=\"middle\" x=\"62\" y=\"-184.93\" font-family=\"Consolas\" font-size=\"11.00\">smiles2molecules</text>\n",
       "</g>\n",
       "<!-- loaddata&#45;&gt;smiles2molecules -->\n",
       "<g id=\"edge1\" class=\"edge\">\n",
       "<title>loaddata&#45;&gt;smiles2molecules</title>\n",
       "<path fill=\"none\" stroke=\"#3f4444\" stroke-width=\"2\" d=\"M62,-253.29C62,-243.32 62,-230.63 62,-219.14\"/>\n",
       "<polygon fill=\"#3f4444\" stroke=\"#3f4444\" stroke-width=\"2\" points=\"65.5,-219.45 62,-209.45 58.5,-219.45 65.5,-219.45\"/>\n",
       "<text text-anchor=\"middle\" x=\"85.62\" y=\"-227.7\" font-family=\"Consolas\" font-size=\"9.00\">list[str]</text>\n",
       "</g>\n",
       "<!-- rocs -->\n",
       "<g id=\"node3\" class=\"node\">\n",
       "<title>rocs</title>\n",
       "<path fill=\"#666666\" fill-opacity=\"0.133333\" stroke=\"#830051\" stroke-width=\"2\" d=\"M77,-120.75C77,-120.75 47,-120.75 47,-120.75 41,-120.75 35,-114.75 35,-108.75 35,-108.75 35,-96.75 35,-96.75 35,-90.75 41,-84.75 47,-84.75 47,-84.75 77,-84.75 77,-84.75 83,-84.75 89,-90.75 89,-96.75 89,-96.75 89,-108.75 89,-108.75 89,-114.75 83,-120.75 77,-120.75\"/>\n",
       "<text text-anchor=\"middle\" x=\"62\" y=\"-100.17\" font-family=\"Consolas\" font-size=\"11.00\">rocs</text>\n",
       "</g>\n",
       "<!-- smiles2molecules&#45;&gt;rocs -->\n",
       "<g id=\"edge2\" class=\"edge\">\n",
       "<title>smiles2molecules&#45;&gt;rocs</title>\n",
       "<path fill=\"none\" stroke=\"#3f4444\" stroke-width=\"2\" d=\"M62,-168.54C62,-158.57 62,-145.88 62,-134.39\"/>\n",
       "<polygon fill=\"#3f4444\" stroke=\"#3f4444\" stroke-width=\"2\" points=\"65.5,-134.7 62,-124.7 58.5,-134.7 65.5,-134.7\"/>\n",
       "<text text-anchor=\"middle\" x=\"119.75\" y=\"-142.95\" font-family=\"Consolas\" font-size=\"9.00\">list[IsomerCollection]</text>\n",
       "</g>\n",
       "<!-- retmol -->\n",
       "<g id=\"node4\" class=\"node\">\n",
       "<title>retmol</title>\n",
       "<path fill=\"#666666\" fill-opacity=\"0.133333\" stroke=\"#830051\" stroke-width=\"2\" d=\"M78.25,-36C78.25,-36 45.75,-36 45.75,-36 39.75,-36 33.75,-30 33.75,-24 33.75,-24 33.75,-12 33.75,-12 33.75,-6 39.75,0 45.75,0 45.75,0 78.25,0 78.25,0 84.25,0 90.25,-6 90.25,-12 90.25,-12 90.25,-24 90.25,-24 90.25,-30 84.25,-36 78.25,-36\"/>\n",
       "<text text-anchor=\"middle\" x=\"62\" y=\"-15.43\" font-family=\"Consolas\" font-size=\"11.00\">retmol</text>\n",
       "</g>\n",
       "<!-- rocs&#45;&gt;retmol -->\n",
       "<g id=\"edge3\" class=\"edge\">\n",
       "<title>rocs&#45;&gt;retmol</title>\n",
       "<path fill=\"none\" stroke=\"#3f4444\" stroke-width=\"2\" d=\"M62,-83.79C62,-73.82 62,-61.13 62,-49.64\"/>\n",
       "<polygon fill=\"#3f4444\" stroke=\"#3f4444\" stroke-width=\"2\" points=\"65.5,-49.95 62,-39.95 58.5,-49.95 65.5,-49.95\"/>\n",
       "<text text-anchor=\"middle\" x=\"119.75\" y=\"-58.2\" font-family=\"Consolas\" font-size=\"9.00\">list[IsomerCollection]</text>\n",
       "</g>\n",
       "</g>\n",
       "</svg>\n"
      ],
      "text/plain": [
       "<graphviz.graphs.Digraph at 0x76f8dde1c160>"
      ]
     },
     "execution_count": 10,
     "metadata": {},
     "output_type": "execute_result"
    }
   ],
   "source": [
    "flow.visualize()"
   ]
  },
  {
   "cell_type": "code",
   "execution_count": 11,
   "id": "09642bb9-69f6-4f7d-9929-409c527abda4",
   "metadata": {
    "execution": {
     "iopub.execute_input": "2024-10-12T13:17:56.179615Z",
     "iopub.status.busy": "2024-10-12T13:17:56.179412Z",
     "iopub.status.idle": "2024-10-12T13:18:00.699674Z",
     "shell.execute_reply": "2024-10-12T13:18:00.698043Z",
     "shell.execute_reply.started": "2024-10-12T13:17:56.179600Z"
    }
   },
   "outputs": [
    {
     "name": "stderr",
     "output_type": "stream",
     "text": [
      "2024-10-12 22:17:56,182 | \u001b[1;34m    INFO\u001b[0m |             rocs | \n",
      "              ___           ___                       ___           ___\n",
      "             /\\__\\         /\\  \\          ___        /\\  \\         /\\  \\\n",
      "            /::|  |       /::\\  \\        /\\  \\       \\:\\  \\       /::\\  \\\n",
      "           /:|:|  |      /:/\\:\\  \\       \\:\\  \\       \\:\\  \\     /:/\\:\\  \\\n",
      "          /:/|:|__|__   /::\\~\\:\\  \\      /::\\__\\       \\:\\  \\   /::\\~\\:\\  \\\n",
      "         /:/ |::::\\__\\ /:/\\:\\ \\:\\__\\  __/:/\\/__/ _______\\:\\__\\ /:/\\:\\ \\:\\__\\\n",
      "         \\/__/~~/:/  / \\/__\\:\\/:/  / /\\/:/  /    \\::::::::/__/ \\:\\~\\:\\ \\/__/\n",
      "               /:/  /       \\::/  /  \\::/__/      \\:\\~~\\~~      \\:\\ \\:\\__\\\n",
      "              /:/  /        /:/  /    \\:\\__\\       \\:\\  \\        \\:\\ \\/__/\n",
      "             /:/  /        /:/  /      \\/__/        \\:\\__\\        \\:\\__\\\n",
      "             \\/__/         \\/__/                     \\/__/         \\/__/\n",
      "\n",
      "\n",
      "2024-10-12 22:17:56,183 | \u001b[1;34m    INFO\u001b[0m |             rocs | Starting Maize version 0.8.3 (c) AstraZeneca 2024\n",
      "2024-10-12 22:17:56,183 | \u001b[1;34m    INFO\u001b[0m |             rocs | Running workflow 'rocs' with parameters:\n",
      "2024-10-12 22:17:56,184 | \u001b[1;34m    INFO\u001b[0m |             rocs | data = ['c1cc(ccc1c2cc(nn2c3ccc(cc3)S(=O)(=O)N)C(F)(F)F)Br', 'c1cc(ccc1c2cc(nn2c3ccc(cc3)S(=O)(=O)N)C(F)(F)F)Cl', 'c1cc(ccc1c2cc(nn2c3ccc(cc3)S(=O)(=O)N)CF)Cl', 'CCCCCC'] (from 'loaddata')\n",
      "2024-10-12 22:17:56,185 | \u001b[1;34m    INFO\u001b[0m |             rocs | query = /home/iwatobipen/dev/CBI/cheminfo_tutorial_20241028/notebook/../data/S58.sq (from 'rocs')\n",
      "2024-10-12 22:17:56,815 | \u001b[1;34m    INFO\u001b[0m | smiles2molecules | Embedding 1/4 ('c1cc(ccc1c2cc(nn2c3ccc(cc3)S(=O)(=O)N)C(F)(F)F)Br')\n",
      "2024-10-12 22:17:56,846 | \u001b[1;34m    INFO\u001b[0m | smiles2molecules | Embedding 2/4 ('c1cc(ccc1c2cc(nn2c3ccc(cc3)S(=O)(=O)N)C(F)(F)F)Cl')\n",
      "2024-10-12 22:17:56,856 | \u001b[1;34m    INFO\u001b[0m | smiles2molecules | Embedding 3/4 ('c1cc(ccc1c2cc(nn2c3ccc(cc3)S(=O)(=O)N)CF)Cl')\n",
      "2024-10-12 22:17:56,866 | \u001b[1;34m    INFO\u001b[0m | smiles2molecules | Embedding 4/4 ('CCCCCC')\n",
      "2024-10-12 22:17:57,316 | \u001b[1;34m    INFO\u001b[0m |             rocs | Node 'loaddata' finished (1/4)\n",
      "2024-10-12 22:17:57,372 | \u001b[1;34m    INFO\u001b[0m |             rocs | Node 'smiles2molecules' finished (2/4)\n",
      "2024-10-12 22:17:59,457 | \u001b[1;34m    INFO\u001b[0m |             rocs | Shape matched 'OYZKFVIVPRQRQQ-QVUQFMIFNA-N' with a score of 0.6029260158538818\n"
     ]
    },
    {
     "name": "stdout",
     "output_type": "stream",
     "text": [
      "|\r"
     ]
    },
    {
     "name": "stderr",
     "output_type": "stream",
     "text": [
      "2024-10-12 22:17:59,520 | \u001b[1;34m    INFO\u001b[0m |             rocs | Shape matched 'NSQNZEUFHPTJME-QVUQFMIFNA-N' with a score of 0.6343627572059631\n",
      "2024-10-12 22:17:59,603 | \u001b[1;34m    INFO\u001b[0m |             rocs | Shape matched 'NQFORQYHJUQDES-SDRQFZCRNA-N' with a score of 0.623847484588623\n",
      "2024-10-12 22:17:59,639 | \u001b[1;34m    INFO\u001b[0m |             rocs | Shape matched 'VLKZOEOYAKHREP-UHFFFAOYNA-N' with a score of 0.10418540984392166\n",
      "Warning: Passing molecule through: no tautomer score for  CCCCCC\n",
      "\n",
      "2024-10-12 22:17:59,642 | \u001b[1;34m    INFO\u001b[0m |             rocs | Workflow status\n",
      "                                   | smiles2molecules | \u001b[1;32mCOMPLETED\u001b[0m\n",
      "                                   |             rocs | \u001b[1;33mWAITING_FOR_OUTPUT\u001b[0m\n",
      "                                   |           retmol | \u001b[1;33mWAITING_FOR_INPUT\u001b[0m\n",
      "                                   |         loaddata | \u001b[1;32mCOMPLETED\u001b[0m\n",
      "2024-10-12 22:17:59,648 | \u001b[1;34m    INFO\u001b[0m |             rocs | Node 'retmol' finished (3/4)\n",
      "2024-10-12 22:18:00,173 | \u001b[1;34m    INFO\u001b[0m |             rocs | Node 'rocs' finished (4/4)\n",
      "2024-10-12 22:18:00,675 | \u001b[1;34m    INFO\u001b[0m |             rocs | Execution completed :) total runtime: 0:00:03.954569\n",
      "\t4 nodes completed successfully\n",
      "\t0 nodes stopped due to closing ports\n",
      "\t0 nodes failed\n",
      "\t0:00:08.351424 total walltime\n",
      "\t0:00:04.909523 spent waiting for resources or other nodes\n"
     ]
    }
   ],
   "source": [
    "flow.execute()"
   ]
  },
  {
   "cell_type": "code",
   "execution_count": 12,
   "id": "96056aa4-648e-469b-a2c4-d2ba34e08f4c",
   "metadata": {
    "execution": {
     "iopub.execute_input": "2024-10-12T13:18:24.263229Z",
     "iopub.status.busy": "2024-10-12T13:18:24.262731Z",
     "iopub.status.idle": "2024-10-12T13:18:24.269416Z",
     "shell.execute_reply": "2024-10-12T13:18:24.268795Z",
     "shell.execute_reply.started": "2024-10-12T13:18:24.263184Z"
    }
   },
   "outputs": [],
   "source": [
    "resmols = []\n",
    "for mol in retu.get():\n",
    "    resmols.append(mol)"
   ]
  },
  {
   "cell_type": "code",
   "execution_count": 20,
   "id": "608321d5-ea01-47a4-9cd0-a10e58b2cc6d",
   "metadata": {
    "execution": {
     "iopub.execute_input": "2024-10-12T13:21:58.707219Z",
     "iopub.status.busy": "2024-10-12T13:21:58.706859Z",
     "iopub.status.idle": "2024-10-12T13:21:58.718779Z",
     "shell.execute_reply": "2024-10-12T13:21:58.718492Z",
     "shell.execute_reply.started": "2024-10-12T13:21:58.707189Z"
    }
   },
   "outputs": [
    {
     "data": {
      "image/png": "[encoded data removed]",
      "text/html": [
       "<table><tr><td colspan=\"2\" style=\"text-align: center;\"><image src=\"data:image/png;base64,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\"></td></tr>\n",
       "<tr><th style=\"text-align: right\">smiles</th><td style=\"text-align: left\">c1cc(ccc1c2cc(nn2c3ccc(cc3)S(=O)(=O)N)C(F)(F)F)Cl</td></tr>\n",
       "<tr><th style=\"text-align: right\">origin</th><td style=\"text-align: left\">rocs</td></tr>\n",
       "<tr><th style=\"text-align: right\">m_score__min__ROCS</th><td style=\"text-align: left\">0.6343627572059631</td></tr>\n",
       "<tr><th style=\"text-align: right\">m_primary</th><td style=\"text-align: left\">ROCS</td></tr></table>"
      ],
      "text/plain": [
       "<rdkit.Chem.rdchem.Mol at 0x76f8ddb9b650>"
      ]
     },
     "execution_count": 20,
     "metadata": {},
     "output_type": "execute_result"
    }
   ],
   "source": [
    "resmols[1].molecules[0]._molecule"
   ]
  },
  {
   "cell_type": "code",
   "execution_count": 20,
   "id": "f21caf8f-0b50-4c00-a2dd-f34a180a57ac",
   "metadata": {},
   "outputs": [],
   "source": [
    "for idx, mol in enumerate(resmols):\n",
    "    mol.to_sdf(Path(f\"{idx}_mol.sdf\"))"
   ]
  },
  {
   "cell_type": "code",
   "execution_count": 18,
   "id": "577ab0dd-5192-4e52-aed3-c483559f0c6e",
   "metadata": {},
   "outputs": [
    {
     "data": {
      "text/plain": [
       "IsomerCollection('c1cc(ccc1c2cc(nn2c3ccc(cc3)S(=O)(=O)N)C(F)(F)F)Br', n_isomers=1, best_score=0.6029)"
      ]
     },
     "execution_count": 18,
     "metadata": {},
     "output_type": "execute_result"
    }
   ],
   "source": []
  },
  {
   "cell_type": "code",
   "execution_count": 22,
   "id": "7e5c1978-9185-4639-b3e4-db929899c085",
   "metadata": {
    "execution": {
     "iopub.execute_input": "2024-10-12T13:23:41.860082Z",
     "iopub.status.busy": "2024-10-12T13:23:41.859761Z",
     "iopub.status.idle": "2024-10-12T13:23:41.866872Z",
     "shell.execute_reply": "2024-10-12T13:23:41.865712Z",
     "shell.execute_reply.started": "2024-10-12T13:23:41.860055Z"
    }
   },
   "outputs": [],
   "source": [
    "from openeye import oechem\n",
    "from openeye import oeshape\n",
    "from maize.steps.mai.docking import ROCS\n",
    "from maize.steps.mai.molecule import Mol2Isomers, Smiles2Molecules\n",
    "from maize.steps.mai.molecule import LoadMolecule, LoadSmiles # LoadMolecule reads SDF/MAE LoadSmiles reads smi\n",
    "from maize.steps.io import LoadData, LoadFile, LogResult, Return, Void\n",
    "from maize.core.interface import MultiInput, Parameter, Path, Input, Output\n",
    "from maize.core.node import Node\n",
    "from maize.core.workflow import Workflow\n",
    "from maize.utilities.chem import IsomerCollection\n",
    "import numpy as np\n",
    "from pathlib import Path\n",
    "from numpy.typing import NDArray\n",
    "from string import Template\n"
   ]
  },
  {
   "cell_type": "code",
   "execution_count": 25,
   "id": "68920fb4-39d3-4a92-840c-1f1a6e941168",
   "metadata": {
    "execution": {
     "iopub.execute_input": "2024-10-12T13:23:55.970074Z",
     "iopub.status.busy": "2024-10-12T13:23:55.969775Z",
     "iopub.status.idle": "2024-10-12T13:23:55.993970Z",
     "shell.execute_reply": "2024-10-12T13:23:55.993462Z",
     "shell.execute_reply.started": "2024-10-12T13:23:55.970050Z"
    }
   },
   "outputs": [],
   "source": [
    "flow2 = Workflow(name='rocs with smi file', cleanup_temp=True)"
   ]
  },
  {
   "cell_type": "code",
   "execution_count": 26,
   "id": "397701d0-fa1b-42b2-947f-ed46bb63d148",
   "metadata": {
    "execution": {
     "iopub.execute_input": "2024-10-12T13:23:57.136703Z",
     "iopub.status.busy": "2024-10-12T13:23:57.136265Z",
     "iopub.status.idle": "2024-10-12T13:23:57.278142Z",
     "shell.execute_reply": "2024-10-12T13:23:57.277544Z",
     "shell.execute_reply.started": "2024-10-12T13:23:57.136672Z"
    }
   },
   "outputs": [],
   "source": [
    "loadsmi = flow2.add(LoadSmiles)\n",
    "smi2mol = flow2.add(Smiles2Molecules)\n",
    "rocs = flow2.add(ROCS)\n",
    "retu = flow2.add(Return[list[IsomerCollection]], name='retmol2')\n"
   ]
  },
  {
   "cell_type": "code",
   "execution_count": 27,
   "id": "60dba2ad-f59e-456c-a9ff-97cc9e70ab95",
   "metadata": {
    "execution": {
     "iopub.execute_input": "2024-10-12T13:24:02.798422Z",
     "iopub.status.busy": "2024-10-12T13:24:02.798020Z",
     "iopub.status.idle": "2024-10-12T13:24:02.802512Z",
     "shell.execute_reply": "2024-10-12T13:24:02.801984Z",
     "shell.execute_reply.started": "2024-10-12T13:24:02.798389Z"
    }
   },
   "outputs": [],
   "source": [
    "loadsmi.path.set(Path(\"../data//test.smi\"))\n",
    "rocs.query.set(Path(\"../data/S58.sq\"))\n"
   ]
  },
  {
   "cell_type": "code",
   "execution_count": 28,
   "id": "e8e188a0-89b9-4e0b-b0cd-441dc5cbbc69",
   "metadata": {
    "execution": {
     "iopub.execute_input": "2024-10-12T13:24:08.824230Z",
     "iopub.status.busy": "2024-10-12T13:24:08.823933Z",
     "iopub.status.idle": "2024-10-12T13:24:08.831295Z",
     "shell.execute_reply": "2024-10-12T13:24:08.830335Z",
     "shell.execute_reply.started": "2024-10-12T13:24:08.824206Z"
    },
    "scrolled": true
   },
   "outputs": [],
   "source": [
    "flow2.connect(loadsmi.out, smi2mol.inp)\n",
    "flow2.connect(smi2mol.out, rocs.inp)\n",
    "flow2.connect(rocs.out, retu.inp)\n"
   ]
  },
  {
   "cell_type": "code",
   "execution_count": 29,
   "id": "01dd1161-8e7a-4682-a172-9e58dd37bcaf",
   "metadata": {
    "execution": {
     "iopub.execute_input": "2024-10-12T13:24:09.389042Z",
     "iopub.status.busy": "2024-10-12T13:24:09.388472Z",
     "iopub.status.idle": "2024-10-12T13:24:09.420061Z",
     "shell.execute_reply": "2024-10-12T13:24:09.418890Z",
     "shell.execute_reply.started": "2024-10-12T13:24:09.388996Z"
    }
   },
   "outputs": [],
   "source": [
    "flow2.check()"
   ]
  },
  {
   "cell_type": "code",
   "execution_count": 30,
   "id": "92501dd8-1755-4cb5-a707-28313d6e002a",
   "metadata": {
    "execution": {
     "iopub.execute_input": "2024-10-12T13:24:09.748250Z",
     "iopub.status.busy": "2024-10-12T13:24:09.748038Z",
     "iopub.status.idle": "2024-10-12T13:24:14.740840Z",
     "shell.execute_reply": "2024-10-12T13:24:14.739766Z",
     "shell.execute_reply.started": "2024-10-12T13:24:09.748233Z"
    }
   },
   "outputs": [
    {
     "name": "stderr",
     "output_type": "stream",
     "text": [
      "2024-10-12 22:24:09,749 | \u001b[1;34m    INFO\u001b[0m | rocs with smi file | \n",
      "              ___           ___                       ___           ___\n",
      "             /\\__\\         /\\  \\          ___        /\\  \\         /\\  \\\n",
      "            /::|  |       /::\\  \\        /\\  \\       \\:\\  \\       /::\\  \\\n",
      "           /:|:|  |      /:/\\:\\  \\       \\:\\  \\       \\:\\  \\     /:/\\:\\  \\\n",
      "          /:/|:|__|__   /::\\~\\:\\  \\      /::\\__\\       \\:\\  \\   /::\\~\\:\\  \\\n",
      "         /:/ |::::\\__\\ /:/\\:\\ \\:\\__\\  __/:/\\/__/ _______\\:\\__\\ /:/\\:\\ \\:\\__\\\n",
      "         \\/__/~~/:/  / \\/__\\:\\/:/  / /\\/:/  /    \\::::::::/__/ \\:\\~\\:\\ \\/__/\n",
      "               /:/  /       \\::/  /  \\::/__/      \\:\\~~\\~~      \\:\\ \\:\\__\\\n",
      "              /:/  /        /:/  /    \\:\\__\\       \\:\\  \\        \\:\\ \\/__/\n",
      "             /:/  /        /:/  /      \\/__/        \\:\\__\\        \\:\\__\\\n",
      "             \\/__/         \\/__/                     \\/__/         \\/__/\n",
      "\n",
      "\n",
      "2024-10-12 22:24:09,750 | \u001b[1;34m    INFO\u001b[0m | rocs with smi file | Starting Maize version 0.8.3 (c) AstraZeneca 2024\n",
      "2024-10-12 22:24:09,751 | \u001b[1;34m    INFO\u001b[0m | rocs with smi file | Running workflow 'rocs with smi file' with parameters:\n",
      "2024-10-12 22:24:09,751 | \u001b[1;34m    INFO\u001b[0m | rocs with smi file | path = /home/iwatobipen/dev/CBI/cheminfo_tutorial_20241028/notebook/../data/test.smi (from 'loadsmiles')\n",
      "2024-10-12 22:24:09,751 | \u001b[1;34m    INFO\u001b[0m | rocs with smi file | query = /home/iwatobipen/dev/CBI/cheminfo_tutorial_20241028/notebook/../data/S58.sq (from 'rocs')\n",
      "2024-10-12 22:24:10,468 | \u001b[1;34m    INFO\u001b[0m | smiles2molecules | Embedding 1/4 ('c1cc(ccc1c2cc(nn2c3ccc(cc3)S(=O)(=O)N)C(F)(F)F)Br')\n",
      "2024-10-12 22:24:10,502 | \u001b[1;34m    INFO\u001b[0m | smiles2molecules | Embedding 2/4 ('c1cc(ccc1c2cc(nn2c3ccc(cc3)S(=O)(=O)N)C(F)(F)F)Cl')\n",
      "2024-10-12 22:24:10,512 | \u001b[1;34m    INFO\u001b[0m | smiles2molecules | Embedding 3/4 ('c1cc(ccc1c2cc(nn2c3ccc(cc3)S(=O)(=O)N)CF)Cl')\n",
      "2024-10-12 22:24:10,523 | \u001b[1;34m    INFO\u001b[0m | smiles2molecules | Embedding 4/4 ('CCCCCC')\n",
      "2024-10-12 22:24:10,548 | \u001b[1;34m    INFO\u001b[0m | rocs with smi file | Node 'loadsmiles' finished (1/4)\n",
      "2024-10-12 22:24:11,029 | \u001b[1;34m    INFO\u001b[0m | rocs with smi file | Node 'smiles2molecules' finished (2/4)\n"
     ]
    },
    {
     "name": "stdout",
     "output_type": "stream",
     "text": [
      "|\r"
     ]
    },
    {
     "name": "stderr",
     "output_type": "stream",
     "text": [
      "2024-10-12 22:24:13,503 | \u001b[1;34m    INFO\u001b[0m |             rocs | Shape matched 'OYZKFVIVPRQRQQ-QVUQFMIFNA-N' with a score of 0.6029260158538818\n",
      "2024-10-12 22:24:13,563 | \u001b[1;34m    INFO\u001b[0m |             rocs | Shape matched 'NSQNZEUFHPTJME-QVUQFMIFNA-N' with a score of 0.6343627572059631\n",
      "2024-10-12 22:24:13,645 | \u001b[1;34m    INFO\u001b[0m |             rocs | Shape matched 'NQFORQYHJUQDES-SDRQFZCRNA-N' with a score of 0.623847484588623\n",
      "2024-10-12 22:24:13,681 | \u001b[1;34m    INFO\u001b[0m |             rocs | Shape matched 'VLKZOEOYAKHREP-UHFFFAOYNA-N' with a score of 0.10418540984392166\n",
      "Warning: Passing molecule through: no tautomer score for  CCCCCC\n",
      "\n",
      "2024-10-12 22:24:13,685 | \u001b[1;34m    INFO\u001b[0m | rocs with smi file | Workflow status\n",
      "                                   |       loadsmiles | \u001b[1;32mCOMPLETED\u001b[0m\n",
      "                                   |             rocs | \u001b[1;33mWAITING_FOR_OUTPUT\u001b[0m\n",
      "                                   | smiles2molecules | \u001b[1;32mCOMPLETED\u001b[0m\n",
      "                                   |          retmol2 | \u001b[1;33mWAITING_FOR_INPUT\u001b[0m\n",
      "2024-10-12 22:24:13,690 | \u001b[1;34m    INFO\u001b[0m | rocs with smi file | Node 'retmol2' finished (3/4)\n",
      "2024-10-12 22:24:14,216 | \u001b[1;34m    INFO\u001b[0m | rocs with smi file | Node 'rocs' finished (4/4)\n",
      "2024-10-12 22:24:14,718 | \u001b[1;34m    INFO\u001b[0m | rocs with smi file | Execution completed :) total runtime: 0:00:04.439494\n",
      "\t4 nodes completed successfully\n",
      "\t0 nodes stopped due to closing ports\n",
      "\t0 nodes failed\n",
      "\t0:00:07.913908 total walltime\n",
      "\t0:00:04.514250 spent waiting for resources or other nodes\n"
     ]
    }
   ],
   "source": [
    "flow2.execute()"
   ]
  },
  {
   "cell_type": "code",
   "execution_count": 21,
   "id": "3d06ef9f-9395-43ae-bec3-996713121769",
   "metadata": {},
   "outputs": [],
   "source": [
    "resmols = []\n",
    "for mol in retu.get():\n",
    "    resmols.append(mol)\n",
    "for idx, mol in enumerate(resmols):\n",
    "    mol.to_sdf(Path(f\"{idx}_mol.sdf\"))"
   ]
  },
  {
   "cell_type": "code",
   "execution_count": 22,
   "id": "776afc27-388b-4e7b-b384-f3a59b7ddc8d",
   "metadata": {},
   "outputs": [],
   "source": []
  },
  {
   "cell_type": "code",
   "execution_count": 25,
   "id": "14716384-723d-4a3c-a247-7b1803d4e63e",
   "metadata": {},
   "outputs": [],
   "source": [
    "m=dataset[1]"
   ]
  },
  {
   "cell_type": "code",
   "execution_count": 33,
   "id": "7f89eb15-f13f-481e-a384-9a7a45e68338",
   "metadata": {},
   "outputs": [
    {
     "data": {
      "text/plain": [
       "IsomerCollection('c1cc(ccc1c2cc(nn2c3ccc(cc3)S(=O)(=O)N)C(F)(F)F)Cl', n_isomers=1, best_score=0.6344)"
      ]
     },
     "execution_count": 33,
     "metadata": {},
     "output_type": "execute_result"
    }
   ],
   "source": [
    "m"
   ]
  },
  {
   "cell_type": "code",
   "execution_count": 34,
   "id": "23aee64c-11c8-42aa-ba72-f073a6591319",
   "metadata": {},
   "outputs": [],
   "source": [
    "mol=m.molecules[0]"
   ]
  },
  {
   "cell_type": "code",
   "execution_count": 36,
   "id": "31e5bbfb-8762-4e69-bdbc-d75049ee0d57",
   "metadata": {},
   "outputs": [
    {
     "data": {
      "text/plain": [
       "array([0.63436273])"
      ]
     },
     "execution_count": 36,
     "metadata": {},
     "output_type": "execute_result"
    }
   ],
   "source": [
    "mol.scores"
   ]
  },
  {
   "cell_type": "code",
   "execution_count": null,
   "id": "3677a85a-bcd4-4335-8d6c-b753d8b066d5",
   "metadata": {},
   "outputs": [],
   "source": []
  }
 ],
 "metadata": {
  "kernelspec": {
   "display_name": "Python 3 (ipykernel)",
   "language": "python",
   "name": "python3"
  },
  "language_info": {
   "codemirror_mode": {
    "name": "ipython",
    "version": 3
   },
   "file_extension": ".py",
   "mimetype": "text/x-python",
   "name": "python",
   "nbconvert_exporter": "python",
   "pygments_lexer": "ipython3",
   "version": "3.10.15"
  }
 },
 "nbformat": 4,
 "nbformat_minor": 5
}
