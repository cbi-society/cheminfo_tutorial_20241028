{
 "cells": [
  {
   "cell_type": "markdown",
   "id": "325e2960-1757-411e-978c-c6175de48201",
   "metadata": {},
   "source": [
    "### check installation is success or not\n",
    "### チュートリアルで利用するパッケージをインポートしてみましょう。エラーが出なければOKです。"
   ]
  },
  {
   "cell_type": "code",
   "execution_count": 1,
   "id": "ac2f598c-69a0-4dd7-9f84-ad188c554abc",
   "metadata": {},
   "outputs": [],
   "source": [
    "from maize.core.workflow import Workflow\n",
    "from maize.utilities.chem import IsomerCollection\n",
    "from maize.steps.mai.molecule import Gypsum\n",
    "from maize.steps.mai.molecule import Smiles2Molecules, LoadSmiles, LoadMolecule\n",
    "from maize.steps.mai.docking import Vina, VinaScore\n",
    "from maize.steps.io import LoadData, LoadFile, Return, Void\n",
    "from pathlib import Path"
   ]
  },
  {
   "cell_type": "code",
   "execution_count": 2,
   "id": "a400712e-4ed2-4f7d-bd0b-bda543cd1565",
   "metadata": {},
   "outputs": [],
   "source": [
    "from rdkit import Chem\n",
    "import scipy\n",
    "import meeko"
   ]
  },
  {
   "cell_type": "markdown",
   "id": "11fc4583-a573-4ff8-b08d-38b09f20b882",
   "metadata": {},
   "source": []
  }
 ],
 "metadata": {
  "kernelspec": {
   "display_name": "Python 3 (ipykernel)",
   "language": "python",
   "name": "python3"
  },
  "language_info": {
   "codemirror_mode": {
    "name": "ipython",
    "version": 3
   },
   "file_extension": ".py",
   "mimetype": "text/x-python",
   "name": "python",
   "nbconvert_exporter": "python",
   "pygments_lexer": "ipython3",
   "version": "3.10.14"
  }
 },
 "nbformat": 4,
 "nbformat_minor": 5
}
