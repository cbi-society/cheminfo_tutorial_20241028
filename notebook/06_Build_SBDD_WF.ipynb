{
 "cells": [
  {
   "cell_type": "markdown",
   "id": "d818be36-3611-4533-bf0b-515bf417968f",
   "metadata": {},
   "source": [
    "# Maizeを利用してSBVSの前処理とドッキングシミュレーションを実行する\n",
    "\n"
   ]
  },
  {
   "cell_type": "markdown",
   "id": "45e077e8-238f-43c6-991e-cb6fe14bd39c",
   "metadata": {},
   "source": [
    "## 生成モデルから発生させた構造を確認する\n",
    "\n",
    "SBVSを実施する前に構造を確認します。コードの詳細は割愛します。"
   ]
  },
  {
   "cell_type": "code",
   "execution_count": null,
   "id": "e276f28f-af17-4cb6-afbb-e39fee1ed403",
   "metadata": {},
   "outputs": [],
   "source": [
    "from rdkit import Chem\n",
    "from rdkit.Chem import Draw\n",
    "import pandas as pd\n",
    "\n",
    "df = pd.read_csv('./TL_sampling.csv')\n",
    "smiles_lst = [row['SMILES'] for idx, row in df.iterrows()]\n",
    "# used first\n",
    "smiles_lst = [s for s in smiles_lst][1:6]\n",
    "\n",
    "mols = [Chem.MolFromSmiles(smi) for smi in smiles_lst]\n",
    "Draw.MolsToGridImage(mols[:6], legends=[str(nll) for nll in df.NLL][:6], molsPerRow=5)"
   ]
  },
  {
   "cell_type": "markdown",
   "id": "ef69603f-9c00-4d24-a0cf-b374683d81d1",
   "metadata": {},
   "source": [
    "## Maizeのワークフローを構築する\n",
    "\n",
    "XXで設定したtomlファイルからGypsumとAutoDock Vina用のノードを追加します。"
   ]
  },
  {
   "cell_type": "code",
   "execution_count": null,
   "id": "250cba37-5952-4491-a215-3d9b4e1b1451",
   "metadata": {},
   "outputs": [],
   "source": [
    "from pathlib import Path\n",
    "from maize.core.workflow import Workflow\n",
    "from maize.steps.io import LoadData, LogResult, Return\n",
    "import os, sys\n",
    "\n",
    "from maize.steps.mai.docking.adv import Vina\n",
    "from maize.steps.mai.molecule import Gypsum\n",
    "from maize.utilities.chem import IsomerCollection"
   ]
  },
  {
   "cell_type": "code",
   "execution_count": null,
   "id": "e6af773d-1a7b-4933-81ed-ab48a5b7626a",
   "metadata": {},
   "outputs": [],
   "source": [
    "flow = Workflow(name='dock', level='info', cleanup_temp=True)\n",
    "load = flow.add(LoadData[list[str]])\n",
    "#void = flow.add(Void)\n",
    "# 3D conf gen and protonate\n",
    "embe = flow.add(Gypsum)\n",
    "# run vina docking\n",
    "dock = flow.add(Vina)\n",
    "# receive docke results\n",
    "retu = flow.add(Return[list[IsomerCollection]])"
   ]
  },
  {
   "cell_type": "markdown",
   "id": "86469ed2-0d69-4d64-acc1-b0fbbe10342f",
   "metadata": {},
   "source": [
    "### AutoDock Vinaの設定\n",
    "\n",
    "ドッキングシミュレーションの設定をします。ハンズオンでは説明しませんので詳細はAutoDock Vinaのドキュメントを参照してください。"
   ]
  },
  {
   "cell_type": "code",
   "execution_count": null,
   "id": "38dd682e-e056-4265-82a6-8c3360f11169",
   "metadata": {},
   "outputs": [],
   "source": [
    "load.data.set(smiles_lst)\n",
    "embe.n_variants.set(2)\n",
    "embe.timeout.set(10)\n",
    "# RIP3K <https://www.rcsb.org/structure/7MON>\n",
    "dock.receptor.set(Path('/home/iwatobipen/dev/CBI/cheminfo_tutorial_20241028/data/2ito_fix_remh.pdbqt'))\n",
    "dock.search_center.set((-56.643,  -6.844, -23.487))\n",
    "dock.search_range.set((20.00, 20.00, 20.00))\n",
    "# default vaule 8 seems too small ...\n",
    "dock.exhaustiveness.set(16)"
   ]
  },
  {
   "cell_type": "markdown",
   "id": "eaa5624c-c4ab-44a4-8378-417868e04f43",
   "metadata": {},
   "source": [
    "最後にノードを接続します。"
   ]
  },
  {
   "cell_type": "code",
   "execution_count": null,
   "id": "4de002fc-670f-475c-b540-670fde5010a3",
   "metadata": {},
   "outputs": [],
   "source": [
    "flow.connect(load.out, embe.inp)\n",
    "flow.connect(embe.out, dock.inp)\n",
    "flow.connect(dock.out,retu.inp)\n",
    "flow.check()"
   ]
  },
  {
   "cell_type": "code",
   "execution_count": null,
   "id": "5fe155bc-ef6a-427f-88b1-f0e90b884282",
   "metadata": {},
   "outputs": [],
   "source": [
    "flow.visualize() # ワークフローを視覚化"
   ]
  },
  {
   "cell_type": "code",
   "execution_count": null,
   "id": "93af645f-6fc6-43db-9290-37c445ae5cdf",
   "metadata": {},
   "outputs": [],
   "source": [
    "flow.execute() #実行"
   ]
  },
  {
   "cell_type": "markdown",
   "id": "f64d395c-93c9-41f2-8c46-1c2e5ebcee28",
   "metadata": {},
   "source": [
    "# 此処から先の説明はまだ"
   ]
  },
  {
   "cell_type": "code",
   "execution_count": null,
   "id": "f2778216-d432-42af-a85b-68c4052eca0d",
   "metadata": {},
   "outputs": [],
   "source": [
    "!mkdir dock_res"
   ]
  },
  {
   "cell_type": "code",
   "execution_count": null,
   "id": "a6db9224",
   "metadata": {},
   "outputs": [],
   "source": [
    "res=retu.get()\n",
    "import numpy as np\n",
    "from pathlib import Path\n",
    "for midx, ms in enumerate(res):\n",
    "    for cidx, m in enumerate(ms.molecules):\n",
    "        m.to_sdf(Path(f'./dock_res/ok_{midx}_{cidx}.sdf'))"
   ]
  },
  {
   "cell_type": "code",
   "execution_count": null,
   "id": "6daac09f-4433-4b1b-819a-3f3af6b26623",
   "metadata": {},
   "outputs": [],
   "source": [
    "res[0].molecules[1]"
   ]
  },
  {
   "cell_type": "code",
   "execution_count": null,
   "id": "218c7a77-3732-4346-896b-bc10c316da23",
   "metadata": {},
   "outputs": [],
   "source": []
  }
 ],
 "metadata": {
  "kernelspec": {
   "display_name": "Python 3 (ipykernel)",
   "language": "python",
   "name": "python3"
  },
  "language_info": {
   "codemirror_mode": {
    "name": "ipython",
    "version": 3
   },
   "file_extension": ".py",
   "mimetype": "text/x-python",
   "name": "python",
   "nbconvert_exporter": "python",
   "pygments_lexer": "ipython3",
   "version": "3.10.15"
  }
 },
 "nbformat": 4,
 "nbformat_minor": 5
}
