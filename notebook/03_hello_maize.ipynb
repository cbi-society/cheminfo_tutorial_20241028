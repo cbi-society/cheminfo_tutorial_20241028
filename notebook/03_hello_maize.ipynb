{
 "cells": [
  {
   "cell_type": "markdown",
   "id": "0ffb8d02-3722-4007-b56d-dbf0e34c040f",
   "metadata": {},
   "source": [
    "# 初めてのMaize\n",
    "簡単な例として2つの文字列を受け取って結合するというフローを構築しましょう"
   ]
  },
  {
   "cell_type": "code",
   "execution_count": null,
   "id": "ffc242b6-28f5-44de-b2e8-cbf16b4effaa",
   "metadata": {},
   "outputs": [],
   "source": [
    "from maize.core.interface import Parameter, Output, MultiInput\n",
    "from maize.core.node import Node\n",
    "from maize.core.workflow import Workflow"
   ]
  },
  {
   "cell_type": "markdown",
   "id": "f15521c7-94e2-4280-be2c-5b2e4c03aea8",
   "metadata": {},
   "source": [
    "### Nodeを定義する\n",
    "文字列を受け取るノード(Example)と文字列を結合し出力するノード(ConcatAndPrint)を定義しましょう\n",
    "\n",
    "- Example\n",
    "  - パラメータとして文字を受け取ります。デフォルトはHelloです。\n",
    "  - アウトプットとして受け取ったデータをそのまま次のノードに渡します。\n",
    "- ConcatAndPrint\n",
    "  - ConcatAndPrintは名前の通り、複数の入力を受取り、それをループで回し . を区切りにしてジョイン、最後にLoggerのにConcatした文字を渡します。\n",
    " "
   ]
  },
  {
   "cell_type": "code",
   "execution_count": null,
   "id": "ae884846-53de-4486-bc37-77d4ae49ad6d",
   "metadata": {},
   "outputs": [],
   "source": [
    "class Example(Node):\n",
    "    data: Parameter[str] = Parameter(default=\"Hello\")\n",
    "    out: Output[str] = Output()\n",
    "\n",
    "    def run(self) -> Node:\n",
    "        self.out.send(self.data.value)\n",
    "\n",
    "class ConcatAndPrint(Node):\n",
    "    inp: MultiInput[str] = MultiInput()\n",
    "\n",
    "    def run(self):\n",
    "        result = \" \".join(inp.receive() for inp in self.inp)\n",
    "        print(\"###########################\")\n",
    "        print(f\"{result}\")\n",
    "        print(\"###########################\")\n",
    "        self.logger.info(\"Received: '%s'\", result)"
   ]
  },
  {
   "cell_type": "markdown",
   "id": "f46e9d2c-952e-4b0a-a0f6-71895aa270ae",
   "metadata": {},
   "source": [
    "### WorlFlowを定義する\n",
    "- 最初にWorkflowオブジェクトを作成します。\n",
    "- 続いてワークフローにノードを追加します。Exampleノードは動作が異なるものを2つ足します。\n",
    "- さらにConcatAndPrintノードを追加します。\n",
    "- 最後に各ノードを結合させます。\n",
    "- フローに問題がないかcheckメソッドで確認します（問題がある場合はエラーが出ます）"
   ]
  },
  {
   "cell_type": "code",
   "execution_count": null,
   "id": "744def25-2609-455c-9341-514755fa8a03",
   "metadata": {},
   "outputs": [],
   "source": [
    "flow = Workflow(name='hello')\n",
    "ex1 = flow.add(Example, name='ex1', parameters=dict(data='nice to meet you!'))\n",
    "ex2 = flow.add(Example, name='ex2', parameters=dict(data='maize'))\n",
    "concat = flow.add(ConcatAndPrint)\n",
    "flow.connect(ex1.out, concat.inp)\n",
    "flow.connect(ex2.out, concat.inp)\n",
    "flow.check()"
   ]
  },
  {
   "cell_type": "markdown",
   "id": "63f73e84-fd2b-4b40-bacb-50006d09923f",
   "metadata": {},
   "source": [
    "###　作成したワークフローを可視化してみましょう\n",
    "- visualizeメソッドによりワークフローはグラフで表示されます。"
   ]
  },
  {
   "cell_type": "code",
   "execution_count": null,
   "id": "779facc9-8b21-4ca2-bf1c-8c03eed505b1",
   "metadata": {},
   "outputs": [],
   "source": [
    "flow.visualize()"
   ]
  },
  {
   "cell_type": "markdown",
   "id": "75bb0459-a51d-4a31-9d0b-9eeacc3c8ca9",
   "metadata": {},
   "source": [
    "### 実際に実行します\n"
   ]
  },
  {
   "cell_type": "code",
   "execution_count": null,
   "id": "1bad8396-b65f-47ce-9551-a47fd0576dec",
   "metadata": {},
   "outputs": [],
   "source": [
    "flow.execute()"
   ]
  },
  {
   "cell_type": "markdown",
   "id": "410faf3d-ffff-49f7-b262-0b9ae4a4840b",
   "metadata": {},
   "source": [
    "##　FBPの大まかな流れ\n",
    "\n",
    "#### step 1 workflow objectを作りNodeを追加する\n",
    "\n",
    "- levelはロギングの冗長性を指定し（pythonのloggingモジュールを参照）、 cleanup_tempは実行中に作成されたディレクトリをクリーンアップすべきかどうかを指定し、 default_channel_sizeは一度にノード間チャネルに置くことができるアイテムの数を決定し、 logfileはSTDOUTではなくファイルにログを書き込むことを許可します。\n",
    "```python\n",
    "from pathlib import Path\n",
    "flow = Workflow(\n",
    "   name=\"Example\",\n",
    "   level=\"debug\",\n",
    "   cleanup_temp=False,\n",
    "   default_channel_size=5,\n",
    "   logfile=Path(\"out.log\")\n",
    ")\n",
    "```"
   ]
  },
  {
   "cell_type": "markdown",
   "id": "f8b3d7d8-5706-492f-93cd-7bfa53fdb3cd",
   "metadata": {},
   "source": [
    "- 作成したWorkflowにはNodeを適宜追加できます。\n",
    "```python\n",
    "node = flow.add(Example)\n",
    "node2 = flow.add(Example, name=\"other_example\")\n",
    "```\n",
    "- また様々なオプションを渡すことも可能です。\n",
    "```python\n",
    "other = flow.add(\n",
    "   OtherExample,\n",
    "   name=\"other\",\n",
    "   parameters=dict(value=42),\n",
    "   loop=True,\n",
    "   fail_ok=True,\n",
    "   n_attempts=3,\n",
    "   max_loops=5\n",
    ")\n",
    "```"
   ]
  },
  {
   "cell_type": "markdown",
   "id": "cf3350ba-f170-4877-b140-1164021bc5d1",
   "metadata": {
    "execution": {
     "iopub.execute_input": "2024-09-26T11:57:58.641712Z",
     "iopub.status.busy": "2024-09-26T11:57:58.641169Z",
     "iopub.status.idle": "2024-09-26T11:57:58.649313Z",
     "shell.execute_reply": "2024-09-26T11:57:58.647523Z",
     "shell.execute_reply.started": "2024-09-26T11:57:58.641666Z"
    }
   },
   "source": [
    "#### step2　ノードをつなげます\n",
    "```python\n",
    "flow.connect(node.output, other.input)\n",
    "```"
   ]
  },
  {
   "cell_type": "markdown",
   "id": "592369b3-7aa5-4261-b8c6-6d4d1037a490",
   "metadata": {},
   "source": [
    "#### step3　実行\n",
    "```python\n",
    "flow.execute()\n",
    "```"
   ]
  },
  {
   "cell_type": "markdown",
   "id": "2373cd8f-f605-4b2f-94fc-c1d9a03460b2",
   "metadata": {},
   "source": [
    "# Nodeを作ってみる-1\n",
    "- カスタムノードを作る場合はNodeを継承して作成します。\n",
    "- 以下の例では、入力としてStringを受取り、出力として受け取ったデータの値を返すという挙動を取ります。"
   ]
  },
  {
   "cell_type": "code",
   "execution_count": null,
   "id": "c9ff318d-cfe7-401c-a7b1-294600520a3f",
   "metadata": {},
   "outputs": [],
   "source": [
    "class Example(Node):\n",
    "    out: Output[str] = Output()\n",
    "    data: Parameter[str] = Parameter(default=\"hello\")\n",
    "\n",
    "    def run(self) -> None:\n",
    "        self.out.send(self.data.value)"
   ]
  },
  {
   "cell_type": "markdown",
   "id": "c6fdcd32-380d-41c7-a0f7-39fbbc268b84",
   "metadata": {},
   "source": [
    "- File IOのノードを見てみます。\n",
    "- このノードではPathを受取り、ファイルの有無を確認し、Pathを次の処理に渡すという流れを担います。\n",
    " \n",
    "```python\n",
    "P = TypeVar(\"P\", bound=Path)\n",
    "class LoadFile(Node, Generic[P]):\n",
    "    \"\"\"Provides a file specified as a parameter on an output.\"\"\"\n",
    "\n",
    "    file: FileParameter[P] = FileParameter()\n",
    "    \"\"\"Path to the input file\"\"\"\n",
    "\n",
    "    out: Output[P] = Output(mode=\"copy\")\n",
    "    \"\"\"File output\"\"\"\n",
    "\n",
    "    def run(self) -> None:\n",
    "        path = self.file.filepath\n",
    "        if not path.exists():\n",
    "            raise FileNotFoundError(f\"File at path {path.as_posix()} not found\")\n",
    "\n",
    "        self.out.send(path)\n",
    "```\n"
   ]
  },
  {
   "cell_type": "markdown",
   "id": "7155570e-9e5c-4e99-b34c-f139501287ba",
   "metadata": {},
   "source": [
    "# Nodeを作ってみる-2\n",
    "- カスタムノードではファイルの受け渡しもできます。\n",
    "- 中間ファイルを出力しそれを次に渡すと行った処理を考える際に便利です。\n",
    "- パラメータの型としてpathlib.Pathを指定しましょう。\n",
    "- これはMaize-contribのSmilesのファイルを読むクラスのコードです。\n",
    "\n",
    "```python\n",
    "from typing import Annotated, Any, Callable, Iterable, List, Literal, TypeVar\n",
    "from maize.core.node import Node\n",
    "from maize.core.interface import Input, Output, Parameter, FileParameter, Suffix, Flag, MultiInput\n",
    "\n",
    "class LoadSmiles(Node):\n",
    "    \"\"\"Load SMILES codes from a ``.smi`` file.\"\"\"\n",
    "\n",
    "    path: FileParameter[Annotated[Path, Suffix(\"smi\")]] = FileParameter()\n",
    "    \"\"\"SMILES file input\"\"\"\n",
    "\n",
    "    out: Output[list[str]] = Output()\n",
    "    \"\"\"SMILES output\"\"\"\n",
    "\n",
    "    sample: Parameter[int] = Parameter(optional=True)\n",
    "    \"\"\"Take a sample of SMILES\"\"\"\n",
    "\n",
    "    def run(self) -> None:\n",
    "        with self.path.filepath.open() as file:\n",
    "            smiles = [smi.strip(\"\\n\") for smi in file.readlines()]\n",
    "            if self.sample.is_set:\n",
    "                smiles = random.choices(smiles, k=self.sample.value)\n",
    "            self.out.send(smiles)\n",
    "```\n",
    "\n",
    "- 上の例ではSmilesファイルを読むことに特化していましが、同じ要領でテキストファイルを読み込みそれをプリントするWFを書いてみましょう。\n",
    "- データは../dataにあるのをデフォルトで利用していますが適宜変えてもらって構いません。"
   ]
  },
  {
   "cell_type": "code",
   "execution_count": null,
   "id": "af94d00a-54dc-4843-b625-c0846d0c50fd",
   "metadata": {},
   "outputs": [],
   "source": [
    "from typing import Annotated, Any, Callable, Iterable, List, Literal, TypeVar\n",
    "from maize.core.node import Node\n",
    "from maize.core.interface import Input, Output, Parameter, FileParameter, Suffix, Flag, MultiInput\n",
    "from pathlib import Path\n",
    "\n",
    "class LoadText(Node):\n",
    "    path: FileParameter[Path] = FileParameter()\n",
    "    out: Output[str] = Output()\n",
    "    def run(self) -> None:\n",
    "        with self.path.filepath.open() as file:\n",
    "            text_data = \"\\n\\n\"+\"\".join([line for line in file.readlines()])+\"\\n\\n\"\n",
    "            self.out.send(text_data)\n",
    "\n",
    "class PrintTxt(Node):\n",
    "    inp: Input[str] = Input()\n",
    "\n",
    "    def run(self):\n",
    "        result = self.inp.receive()\n",
    "        self.logger.info(\"Received: '%s'\", result)"
   ]
  },
  {
   "cell_type": "code",
   "execution_count": null,
   "id": "6df6613e-ee08-40f1-97e1-676e84fce5db",
   "metadata": {},
   "outputs": [],
   "source": [
    "flow = Workflow(\n",
    "   name=\"file_handling\",\n",
    "   #level=\"debug\",\n",
    "   cleanup_temp=False,\n",
    "   #logfile=Path(\"out.log\")\n",
    ")"
   ]
  },
  {
   "cell_type": "code",
   "execution_count": null,
   "id": "f7614ca9-6eef-4a28-82bf-7f6249f177da",
   "metadata": {},
   "outputs": [],
   "source": [
    "filepath = Path(\"../data/loadfile_demo.txt\")\n",
    "load = flow.add(LoadText, parameters=dict(path=filepath))\n",
    "printer = flow.add(PrintTxt)"
   ]
  },
  {
   "cell_type": "code",
   "execution_count": null,
   "id": "7a700798-8839-4e6b-b547-3f35e0bb2a13",
   "metadata": {},
   "outputs": [],
   "source": [
    "flow.connect(load.out, printer.inp)"
   ]
  },
  {
   "cell_type": "code",
   "execution_count": null,
   "id": "43f61716-9479-4e27-8093-af55cbd938b0",
   "metadata": {},
   "outputs": [],
   "source": [
    "flow.check()\n",
    "flow.visualize()"
   ]
  },
  {
   "cell_type": "code",
   "execution_count": null,
   "id": "f94af393-82d7-400e-95db-74e841e1957f",
   "metadata": {},
   "outputs": [],
   "source": [
    "flow.execute()"
   ]
  },
  {
   "cell_type": "code",
   "execution_count": null,
   "id": "a12fe74b-8d22-4040-823c-8041beafd59c",
   "metadata": {},
   "outputs": [],
   "source": []
  },
  {
   "cell_type": "markdown",
   "id": "6ad09d49-44ff-41cf-8f4b-e381ca5842f4",
   "metadata": {
    "execution": {
     "iopub.execute_input": "2024-09-28T02:33:16.626613Z",
     "iopub.status.busy": "2024-09-28T02:33:16.626012Z",
     "iopub.status.idle": "2024-09-28T02:33:16.632620Z",
     "shell.execute_reply": "2024-09-28T02:33:16.631289Z",
     "shell.execute_reply.started": "2024-09-28T02:33:16.626567Z"
    }
   },
   "source": [
    "# 条件により分岐するワークフロー\n",
    "- ノードの処理の結果によって分岐させたいことも可能です。\n",
    "- 下の例ではLoadDataのパラメータ（Dataが10未満か、否か）によって処理を分岐させています。"
   ]
  },
  {
   "cell_type": "code",
   "execution_count": null,
   "id": "9dda207d-e138-4bfc-8ad0-2cabfae52b5f",
   "metadata": {},
   "outputs": [],
   "source": [
    "from maize.core.node import Node\n",
    "from maize.core.interface import Input, Output\n",
    "from maize.core.workflow import Workflow\n",
    "from maize.steps.io import LoadData, LogResult\n",
    "from maize.steps.plumbing import Merge\n",
    "\n",
    "class Condition(Node):\n",
    "    inp: Input[int] = Input()\n",
    "    out_a: Output[int] = Output()\n",
    "    out_b: Output[int] = Output()\n",
    "\n",
    "    def run(self) -> None:\n",
    "        data = self.inp.receive()\n",
    "        if data < 10:\n",
    "            self.out_a.send(data)\n",
    "        else:\n",
    "            self.out_b.send(data)"
   ]
  },
  {
   "cell_type": "code",
   "execution_count": null,
   "id": "6060fa64-243c-4caf-8829-285b34050fae",
   "metadata": {},
   "outputs": [],
   "source": [
    "flow = Workflow(name=\"cycle\")\n",
    "load = flow.add(LoadData[int], parameters={\"data\": 17})\n",
    "cond = flow.add(Condition)\n",
    "out_a = flow.add(LogResult, name=\"out_a\")\n",
    "out_b = flow.add(LogResult, name=\"out_b\")\n",
    "flow.connect_all(\n",
    "    (load.out, cond.inp),\n",
    "    (cond.out_a, out_a.inp),\n",
    "    (cond.out_b, out_b.inp)\n",
    ")"
   ]
  },
  {
   "cell_type": "code",
   "execution_count": null,
   "id": "a1ea9236-6666-45b8-ba8a-f219b4789a27",
   "metadata": {},
   "outputs": [],
   "source": [
    "flow.check()"
   ]
  },
  {
   "cell_type": "code",
   "execution_count": null,
   "id": "a7dd9465-c183-4817-b1e2-6cd9dba3964b",
   "metadata": {},
   "outputs": [],
   "source": [
    "flow.visualize()"
   ]
  },
  {
   "cell_type": "code",
   "execution_count": null,
   "id": "c5174dc9-6a31-4fa4-b4de-4f5c280a52f1",
   "metadata": {},
   "outputs": [],
   "source": [
    "flow.execute()"
   ]
  },
  {
   "cell_type": "markdown",
   "id": "fd56e874-689c-4041-8c8d-95a92a867987",
   "metadata": {},
   "source": [
    "# 繰り返しを含むワークフロー\n",
    "- Dealyは指定された秒数time.sleepによって処理を止めます\n",
    "- Mergeは複数の入力を受取り、一つのポートからそれらを出力します。"
   ]
  },
  {
   "cell_type": "code",
   "execution_count": null,
   "id": "4aebb1bf-68a0-4902-ad4b-26103d184396",
   "metadata": {
    "scrolled": true
   },
   "outputs": [],
   "source": [
    "from maize.core.graph import Graph\n",
    "from maize.core.interface import Parameter, Input, Output\n",
    "from maize.core.node import Node\n",
    "from maize.core.workflow import Workflow\n",
    "\n",
    "from maize.steps.plumbing import Delay, Merge\n",
    "from maize.steps.io import Return\n",
    "from typing import TypeVar, Generic\n",
    "T = TypeVar(\"T\")\n",
    "\n",
    "class A(Node):\n",
    "    out: Output[int] = Output()\n",
    "    send_val: Parameter[int] = Parameter()\n",
    "\n",
    "    def run(self) -> None:\n",
    "        self.out.send(self.send_val.value)\n",
    "\n",
    "\n",
    "class B(Node):\n",
    "    inp: Input[int] = Input()\n",
    "    out: Output[int] = Output()\n",
    "    final: Output[int] = Output()\n",
    "\n",
    "    def run(self) -> None:\n",
    "        val = self.inp.receive()\n",
    "        if val > 48:\n",
    "            self.logger.debug(\"%s stopping\", self.name)\n",
    "            self.final.send(val)\n",
    "            return\n",
    "        print(val+2)\n",
    "        self.out.send(val + 2)\n",
    "\n",
    "class SubGraph(Graph):\n",
    "    \n",
    "    def build(self) -> None:\n",
    "        a = self.add(A, parameters=dict(send_val=36))\n",
    "        d = self.add(Delay[int], parameters=dict(delay=1))\n",
    "        self.connect(a.out, d.inp)\n",
    "        #map_portを使いサブグラフの出力ポートを作成　普通のノードはself.out.send(xxx) etc\n",
    "        self.out = self.map_port(d.out)\n",
    "        self.val = self.combine_parameters(a.send_val, name=\"val\")\n",
    "\n",
    "\n",
    "flow = Workflow(name=\"test\")\n",
    "sg = flow.add(SubGraph)\n",
    "b = flow.add(B, loop=True)\n",
    "merge = flow.add(Merge[int])\n",
    "ret = flow.add(Return[int])\n",
    "flow.connect(sg.out, merge.inp)\n",
    "flow.connect(merge.out, b.inp)\n",
    "flow.connect(b.out, merge.inp)\n",
    "flow.connect(b.final, ret.inp)\n",
    "flow.combine_parameters(sg.val, name=\"val\")\n",
    "flow.check()\n",
    "flow.visualize()"
   ]
  },
  {
   "cell_type": "code",
   "execution_count": null,
   "id": "781c3935-8c87-4709-b794-c06313fcb101",
   "metadata": {},
   "outputs": [],
   "source": []
  },
  {
   "cell_type": "code",
   "execution_count": null,
   "id": "85d7be52-e9c2-4d85-844c-474e4d09d5f1",
   "metadata": {},
   "outputs": [],
   "source": [
    "flow.execute()"
   ]
  }
 ],
 "metadata": {
  "kernelspec": {
   "display_name": "Python 3 (ipykernel)",
   "language": "python",
   "name": "python3"
  },
  "language_info": {
   "codemirror_mode": {
    "name": "ipython",
    "version": 3
   },
   "file_extension": ".py",
   "mimetype": "text/x-python",
   "name": "python",
   "nbconvert_exporter": "python",
   "pygments_lexer": "ipython3",
   "version": "3.10.15"
  }
 },
 "nbformat": 4,
 "nbformat_minor": 5
}
