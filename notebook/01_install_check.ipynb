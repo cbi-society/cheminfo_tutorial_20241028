{
 "cells": [
  {
   "cell_type": "markdown",
   "id": "325e2960-1757-411e-978c-c6175de48201",
   "metadata": {},
   "source": [
    "# ハンズオン最初の一歩(環境確認)\n",
    "チュートリアルで利用するパッケージが正しくインストールされているかを確認します。次のコードを実行して、もしエラーが出たら近くのモデレーターに声をかけてください。"
   ]
  },
  {
   "cell_type": "markdown",
   "id": "22847d6f-1959-43fb-918d-747875610d38",
   "metadata": {},
   "source": [
    "## Maize\n",
    "\n",
    "設定ファイルは03章以降で作成しますが、パッケージが正しくインストールされているかを確認します。"
   ]
  },
  {
   "cell_type": "code",
   "execution_count": null,
   "id": "ac2f598c-69a0-4dd7-9f84-ad188c554abc",
   "metadata": {},
   "outputs": [],
   "source": [
    "from maize.core.workflow import Workflow\n",
    "from maize.utilities.chem import IsomerCollection\n",
    "from maize.steps.mai.molecule import Gypsum\n",
    "from maize.steps.mai.molecule import Smiles2Molecules, LoadSmiles, LoadMolecule\n",
    "from maize.steps.mai.docking import Vina, VinaScore\n",
    "from maize.steps.io import LoadData, LoadFile, Return, Void\n",
    "from pathlib import Path"
   ]
  },
  {
   "cell_type": "code",
   "execution_count": null,
   "id": "a400712e-4ed2-4f7d-bd0b-bda543cd1565",
   "metadata": {},
   "outputs": [],
   "source": [
    "from rdkit import Chem\n",
    "import scipy\n",
    "import meeko"
   ]
  },
  {
   "cell_type": "code",
   "execution_count": null,
   "id": "2b51c637-e766-4b58-9921-582e20adb525",
   "metadata": {},
   "outputs": [],
   "source": [
    "from maize import maize\n",
    "import rdkit\n"
   ]
  },
  {
   "cell_type": "code",
   "execution_count": null,
   "id": "325d8f25-33ba-4851-b15f-823a5b88e8eb",
   "metadata": {},
   "outputs": [],
   "source": [
    "print(maize.__version__) # 0.8.3\n",
    "print(rdkit.__version__) # 2023.09.6\n",
    "print(meeko.__version__) # 0.4.0"
   ]
  },
  {
   "cell_type": "markdown",
   "id": "d9ad8221-00bb-4930-8c7e-51943c3931c0",
   "metadata": {},
   "source": [
    "## AutoDock Vina\n",
    "\n",
    "以下のようにヘルプメッセージが出れば正しくインストールされています。\n",
    "\n",
    "```sh\n",
    "Input:\n",
    "  --receptor arg             rigid part of the receptor (PDBQT)\n",
    "  --flex arg                 flexible side chains, if any (PDBQT)\n",
    "  --ligand arg               ligand (PDBQT)\n",
    "\n",
    "Search space (required):\n",
    "  --center_x arg             X coordinate of the center\n",
    "  --center_y arg             Y coordinate of the center\n",
    "  --center_z arg             Z coordinate of the center\n",
    "  --size_x arg               size in the X dimension (Angstroms)\n",
    "  --size_y arg               size in the Y dimension (Angstroms)\n",
    "  --size_z arg               size in the Z dimension (Angstroms)\n",
    "```"
   ]
  },
  {
   "cell_type": "code",
   "execution_count": null,
   "id": "b9fd62e7-4d15-4b1a-b51d-916dab37c762",
   "metadata": {},
   "outputs": [],
   "source": [
    "!/opt/vina/bin/vina --help"
   ]
  },
  {
   "cell_type": "markdown",
   "id": "a51318b8-26a2-4c7c-b687-49c688087f0f",
   "metadata": {},
   "source": [
    "## Reinvent4\n",
    "\n",
    "2章で確認します.\n",
    "\n",
    "もし時間があれば新規ターミナルを開いて\n",
    "\n",
    "```sh\n",
    "$ conda activate reinvent4\n",
    "$ reinvent --help\n",
    "```\n",
    "でヘルプメッセージが出ることを確認してください\n",
    "\n",
    "## Gypsum\n",
    "\n",
    "3章で確認します。"
   ]
  }
 ],
 "metadata": {
  "kernelspec": {
   "display_name": "Python 3 (ipykernel)",
   "language": "python",
   "name": "python3"
  },
  "language_info": {
   "codemirror_mode": {
    "name": "ipython",
    "version": 3
   },
   "file_extension": ".py",
   "mimetype": "text/x-python",
   "name": "python",
   "nbconvert_exporter": "python",
   "pygments_lexer": "ipython3",
   "version": "3.10.15"
  }
 },
 "nbformat": 4,
 "nbformat_minor": 5
}
