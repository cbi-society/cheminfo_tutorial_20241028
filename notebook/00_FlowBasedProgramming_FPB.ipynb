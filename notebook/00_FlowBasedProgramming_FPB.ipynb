{
 "cells": [
  {
   "cell_type": "markdown",
   "id": "64934eab-5ac4-44db-974b-d6dd150920fa",
   "metadata": {},
   "source": [
    "### Flow Based Programming (FBP)\n",
    "\n",
    "フローベースプログラミング（FBP）は、1970年代にIBMに勤務していたJ Paul Morrisonによって考案された。\n",
    "\n",
    "フローベースのプログラミングでは、アプリケーションを、プロセスが「ポート」によってアクセスするコネクションを介して通信するプロセス（「ブラックボックス」）の集合と見なす。プロセスはコンポーネントのインスタンスであり、他のプロセスと同時に実行される。この表現は、プロセスをノード、コネクションをエッジとする有向グラフである。アプリケーション開発者にとって、コンポーネントはブラックボックスとして扱われるのが普通であるが、開発者が新しいコンポーネントを作成する必要がある場合（通常は、従来のテキスト・プログラミング言語を使用する）、またはコンポーネントがサブグラフとして実装されている場合は、ホワイトボックス化することができる。後者の場合、ユーザーはグラフの異なるレベル間を移動することができる。\n",
    "\n",
    "FBPの一般的なアプローチは、プログラムを、一連の接続されたプロセスを流れる一連のストリームとサブストリームとして概念化することである。プロセス間の通信を、インフォメーション・パケット（「受動的な」データ）のストリームを使用するように制限することで、並列性と並行性が可能になる。インフォメーション・パケットは、一度に1つのプロセスによってのみ（直接的または間接的に）「所有」されるというルールによって、共有メモリの問題が回避される。\n",
    "\n",
    "主な動機は、コードの再利用、テスト容易性、並行性、保守性である。\n",
    "\n",
    "DeepL.com（無料版）で翻訳しました。"
   ]
  },
  {
   "cell_type": "markdown",
   "id": "f71d26a6-2018-41c0-8f28-ec076ed789e8",
   "metadata": {},
   "source": [
    "### FBP パッケージの例\n",
    "\n",
    "- Luigi https://github.com/spotify/luigi\n",
    "- AirFlow https://airflow.apache.org/\n",
    "- maize https://github.com/MolecularAI/maize"
   ]
  },
  {
   "cell_type": "markdown",
   "id": "661be143-5d0e-462d-8016-dd1f232eb0e0",
   "metadata": {},
   "source": [
    "### 今回利用するmaize, maize-conbribについて\n",
    "\n",
    "maizeはアストラゼネカ社が開発公開しているFBPパッケージです。今回これをチュートリアルとして選んだ理由は、ケモインフォマティクス関連のタスクもカバーできるからです。\n",
    "もちろん、Luigi, AirFlowなどを利用してもケモインフォマティクスパイプラインの構築はできますが、ケモインフォも部分をフルスクラッチで準備する必要があります。\n",
    "Reinventなど多くのAI創薬のパッケージとの親和性を加味して設計されたMaizeはまだ開発段階でありドキュメントも不足していますが、なかなか面白いパッケージだと思い今回チュートリアルのお題に選定しました。\n",
    "\n",
    "私自身Maizeの詳細を把握していませんが、FBPを知るきっかけになれば幸いです。\n"
   ]
  },
  {
   "cell_type": "markdown",
   "id": "50007248-5935-4e4b-9856-8b98a18409d2",
   "metadata": {},
   "source": [
    "### FBP ref\n",
    "- https://github.com/flowbased/flow-based.org"
   ]
  },
  {
   "cell_type": "code",
   "execution_count": null,
   "id": "dd290086-a63c-413d-876b-06b675fb095d",
   "metadata": {},
   "outputs": [],
   "source": []
  }
 ],
 "metadata": {
  "kernelspec": {
   "display_name": "Python 3 (ipykernel)",
   "language": "python",
   "name": "python3"
  },
  "language_info": {
   "codemirror_mode": {
    "name": "ipython",
    "version": 3
   },
   "file_extension": ".py",
   "mimetype": "text/x-python",
   "name": "python",
   "nbconvert_exporter": "python",
   "pygments_lexer": "ipython3",
   "version": "3.10.14"
  }
 },
 "nbformat": 4,
 "nbformat_minor": 5
}
