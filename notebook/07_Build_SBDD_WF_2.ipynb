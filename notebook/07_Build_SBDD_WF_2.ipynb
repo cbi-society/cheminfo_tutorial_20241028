{
 "cells": [
  {
   "cell_type": "markdown",
   "metadata": {},
   "source": [
    "# Maizeを利用してSBVSの前処理とドッキングシミュレーションを実行する　その２\n",
    "- maizeはよく利用されるワークフローはサブグラフとしてまとめて提供されています。このノートブックでは06と同じDockingのワークフローをmaizeで実装されているクラスから作成してみます。\n",
    "- maize.graphs.mai以下にはDocking, FEP，Proteinprep，AutomaticSBDDのメソッドが定義されています。Proteinprep&&AutomaticSBDDはschrodinger社の製品用なので、ライセンスを持たれている方はチェックしてみるのもよいかと思います。"
   ]
  },
  {
   "cell_type": "code",
   "execution_count": 1,
   "metadata": {},
   "outputs": [],
   "source": [
    "from rdkit import Chem\n",
    "from maize.graphs.mai.dock import Docking\n",
    "from maize.core.workflow import Workflow\n",
    "from maize.steps.io import LoadData, Return\n",
    "from maize.utilities.chem.chem import IsomerCollection\n",
    "from pathlib import Path"
   ]
  },
  {
   "cell_type": "code",
   "execution_count": 2,
   "metadata": {},
   "outputs": [],
   "source": [
    "flow = Workflow(name='docktest2')"
   ]
  },
  {
   "cell_type": "markdown",
   "metadata": {},
   "source": [
    "- ここでは先の例と同じくSmilesのリストを受け取りそれをDockingノードに渡すというワークフローを作成します。\n",
    "- Dockingサブグラフはソースコードを見ていただくとわかりますがGypsumによるリガンドプレパレーションとVinaによるDockingを実施するワークフローを定義しています。"
   ]
  },
  {
   "cell_type": "code",
   "execution_count": 3,
   "metadata": {},
   "outputs": [],
   "source": [
    "load = flow.add(LoadData[list[str]])\n",
    "dock = flow.add(Docking)\n",
    "res = flow.add(Return[list[IsomerCollection]])"
   ]
  },
  {
   "cell_type": "markdown",
   "metadata": {},
   "source": [
    "- DockingクラスはGypsumとVinaというノードから構成されています。Dockingのメソッドはn_variants, ph_rangeというGypsumの属性とreceptor, search_center, search_range, n_jobs, n_posesというVinaの属性は定義できますがexhaustivenessは陽に定義できません。\n",
    "- dock.nodes['vina']とするとこでSubgraph内のVinaの属性のexhaustivenessを制御できます。\n",
    "- Dockingの代わりにGlideDockingをインポートすればGlideDockingのワークフローも構築可能です（要ライセンス）"
   ]
  },
  {
   "cell_type": "code",
   "execution_count": 4,
   "metadata": {},
   "outputs": [],
   "source": [
    "load.data.set([\"COc1cc2c(cc1OCCCN3CCOCC3)c(ncn2)Nc4ccc(c(c4)Cl)F\", \n",
    "               \"COc1cc2c(cc1OCCCN3CCOCC3)c(ncn2)Nc4ccc(c(c4)Cl)\"])\n",
    "dock.n_variants = 1\n",
    "dock.search_center.set((-56.643,  -6.844, -23.487))\n",
    "dock.search_range.set((20.0, 20.0, 20.0))\n",
    "dock.receptor.set(Path('./data/2ito_fix_remh.pdbqt'))\n",
    "dock.nodes['vina'].exhaustiveness.set(16)\n",
    "\n",
    "flow.connect(load.out, dock.inp)\n",
    "flow.connect(dock.out, res.inp)"
   ]
  },
  {
   "cell_type": "code",
   "execution_count": 5,
   "metadata": {},
   "outputs": [
    {
     "data": {
      "text/plain": [
       "{'n_variants': MultiParameter[<class 'int'>](name='n_variants', parent='docking'),\n",
       " 'ph_range': MultiParameter[tuple[float, float]](name='ph_range', parent='docking'),\n",
       " 'receptor': MultiParameter[typing.Annotated[pathlib.Path, Suffix(pdbqt)]](name='receptor', parent='docking'),\n",
       " 'search_center': MultiParameter[tuple[float, float, float]](name='search_center', parent='docking'),\n",
       " 'search_range': MultiParameter[tuple[float, float, float]](name='search_range', parent='docking'),\n",
       " 'n_jobs': MultiParameter[<class 'int'>](name='n_jobs', parent='docking'),\n",
       " 'n_poses': MultiParameter[<class 'int'>](name='n_poses', parent='docking')}"
      ]
     },
     "execution_count": 5,
     "metadata": {},
     "output_type": "execute_result"
    }
   ],
   "source": [
    "dock.parameters"
   ]
  },
  {
   "cell_type": "code",
   "execution_count": null,
   "metadata": {},
   "outputs": [],
   "source": []
  },
  {
   "cell_type": "code",
   "execution_count": 6,
   "metadata": {},
   "outputs": [
    {
     "name": "stderr",
     "output_type": "stream",
     "text": [
      "2024-10-20 20:24:18,203 | \u001b[1;34m    INFO\u001b[0m |        docktest2 | \n",
      "              ___           ___                       ___           ___\n",
      "             /\\__\\         /\\  \\          ___        /\\  \\         /\\  \\\n",
      "            /::|  |       /::\\  \\        /\\  \\       \\:\\  \\       /::\\  \\\n",
      "           /:|:|  |      /:/\\:\\  \\       \\:\\  \\       \\:\\  \\     /:/\\:\\  \\\n",
      "          /:/|:|__|__   /::\\~\\:\\  \\      /::\\__\\       \\:\\  \\   /::\\~\\:\\  \\\n",
      "         /:/ |::::\\__\\ /:/\\:\\ \\:\\__\\  __/:/\\/__/ _______\\:\\__\\ /:/\\:\\ \\:\\__\\\n",
      "         \\/__/~~/:/  / \\/__\\:\\/:/  / /\\/:/  /    \\::::::::/__/ \\:\\~\\:\\ \\/__/\n",
      "               /:/  /       \\::/  /  \\::/__/      \\:\\~~\\~~      \\:\\ \\:\\__\\\n",
      "              /:/  /        /:/  /    \\:\\__\\       \\:\\  \\        \\:\\ \\/__/\n",
      "             /:/  /        /:/  /      \\/__/        \\:\\__\\        \\:\\__\\\n",
      "             \\/__/         \\/__/                     \\/__/         \\/__/\n",
      "\n",
      "\n",
      "2024-10-20 20:24:18,203 | \u001b[1;34m    INFO\u001b[0m |        docktest2 | Starting Maize version 0.8.3 (c) AstraZeneca 2024\n",
      "2024-10-20 20:24:18,204 | \u001b[1;34m    INFO\u001b[0m |        docktest2 | Running workflow 'docktest2' with parameters:\n",
      "2024-10-20 20:24:18,204 | \u001b[1;34m    INFO\u001b[0m |        docktest2 | data = ['COc1cc2c(cc1OCCCN3CCOCC3)c(ncn2)Nc4ccc(c(c4)Cl)F', 'COc1cc2c(cc1OCCCN3CCOCC3)c(ncn2)Nc4ccc(c(c4)Cl)'] (from 'loaddata')\n",
      "2024-10-20 20:24:18,204 | \u001b[1;34m    INFO\u001b[0m |        docktest2 | exhaustiveness = 16 (from 'vina')\n",
      "2024-10-20 20:24:18,205 | \u001b[1;34m    INFO\u001b[0m |        docktest2 | receptor = /home/iwatobipen/dev/CBI/cheminfo_tutorial_20241028/data/2ito_fix_remh.pdbqt (from 'vina')\n",
      "2024-10-20 20:24:18,205 | \u001b[1;34m    INFO\u001b[0m |        docktest2 | search_center = (-56.643, -6.844, -23.487) (from 'vina')\n",
      "2024-10-20 20:24:18,205 | \u001b[1;34m    INFO\u001b[0m |        docktest2 | search_range = (20.0, 20.0, 20.0) (from 'vina')\n",
      "2024-10-20 20:24:18,929 | \u001b[1;34m    INFO\u001b[0m |           gypsum | Running job with PSI/J id=e01f303c-b590-4f33-8605-12485fcb91f6, stdout=/tmp/graph-docktest2-2/graph-docking/node-gypsum/job-o6j4l5-out, stderr=/tmp/graph-docktest2-2/graph-docking/node-gypsum/job-o6j4l5-err\n",
      "2024-10-20 20:24:19,407 | \u001b[1;34m    INFO\u001b[0m |        docktest2 | Node 'loaddata' finished (1/4)\n",
      "2024-10-20 20:24:19,464 | \u001b[1;34m    INFO\u001b[0m |             vina | Docking molecule 0: 'IsomerCollection('COc1cc2c(cc1OCCCN3CCOCC3)c(ncn2)Nc4ccc(c(c4)Cl)F', n_isomers=1)'\n",
      "2024-10-20 20:24:19,473 | \u001b[1;34m    INFO\u001b[0m |             vina | Docking molecule 1: 'IsomerCollection('COc1cc2c(cc1OCCCN3CCOCC3)c(ncn2)Nc4ccc(c(c4)Cl)', n_isomers=1)'\n",
      "2024-10-20 20:24:19,498 | \u001b[1;34m    INFO\u001b[0m |             vina | Running job with PSI/J id=3c12655b-ed8c-4f97-8a32-45e1608ba731, stdout=/tmp/tmphnf3wxaz/job-10e8hh-out, stderr=/tmp/tmphnf3wxaz/job-10e8hh-err\n",
      "2024-10-20 20:24:19,499 | \u001b[1;34m    INFO\u001b[0m |             vina | Running job with PSI/J id=0bcef442-4838-420c-8fb9-a9e3a84c6dc7, stdout=/tmp/tmp06wvg5wk/job-pcoro5-out, stderr=/tmp/tmp06wvg5wk/job-pcoro5-err\n",
      "2024-10-20 20:24:19,964 | \u001b[1;34m    INFO\u001b[0m |        docktest2 | Node 'gypsum' finished (2/4)\n"
     ]
    },
    {
     "name": "stdout",
     "output_type": "stream",
     "text": [
      "\\\r"
     ]
    },
    {
     "name": "stderr",
     "output_type": "stream",
     "text": [
      "2024-10-20 20:26:18,835 | \u001b[1;34m    INFO\u001b[0m |             vina | Job completed (1/2)\n"
     ]
    },
    {
     "name": "stdout",
     "output_type": "stream",
     "text": [
      "\\\r"
     ]
    },
    {
     "name": "stderr",
     "output_type": "stream",
     "text": [
      "2024-10-20 20:26:33,558 | \u001b[1;34m    INFO\u001b[0m |             vina | Job completed (2/2)\n",
      "2024-10-20 20:26:33,649 | \u001b[1;34m    INFO\u001b[0m |        docktest2 | Workflow status\n",
      "                                   |           gypsum | \u001b[1;32mCOMPLETED\u001b[0m\n",
      "                                   |           return | \u001b[1;33mWAITING_FOR_INPUT\u001b[0m\n",
      "                                   |         loaddata | \u001b[1;32mCOMPLETED\u001b[0m\n",
      "                                   |             vina | \u001b[1;34mRUNNING\u001b[0m\n",
      "2024-10-20 20:26:33,648 | \u001b[1;34m    INFO\u001b[0m |             vina | Parsing isomer 0: 'XGALLCVXEZPNRQ-LELJVTLKNA-N'\n",
      "2024-10-20 20:26:33,651 | \u001b[1;34m    INFO\u001b[0m |             vina | Parsing isomer 1: 'VSXSFJNZEWFVCZ-HXTKINSTNA-N'\n",
      "2024-10-20 20:26:33,657 | \u001b[1;34m    INFO\u001b[0m |        docktest2 | Node 'return' finished (3/4)\n"
     ]
    },
    {
     "name": "stdout",
     "output_type": "stream",
     "text": [
      "|\r"
     ]
    },
    {
     "name": "stderr",
     "output_type": "stream",
     "text": [
      "2024-10-20 20:26:34,155 | \u001b[1;34m    INFO\u001b[0m |        docktest2 | Node 'vina' finished (4/4)\n",
      "2024-10-20 20:26:34,657 | \u001b[1;34m    INFO\u001b[0m |        docktest2 | Execution completed :) total runtime: 0:02:15.930356\n",
      "\t4 nodes completed successfully\n",
      "\t0 nodes stopped due to closing ports\n",
      "\t0 nodes failed\n",
      "\t0:04:32.069589 total walltime\n",
      "\t0:02:17.322131 spent waiting for resources or other nodes\n"
     ]
    }
   ],
   "source": [
    "flow.execute()"
   ]
  },
  {
   "cell_type": "code",
   "execution_count": null,
   "metadata": {},
   "outputs": [],
   "source": []
  }
 ],
 "metadata": {
  "kernelspec": {
   "display_name": "maize-dev",
   "language": "python",
   "name": "python3"
  },
  "language_info": {
   "codemirror_mode": {
    "name": "ipython",
    "version": 3
   },
   "file_extension": ".py",
   "mimetype": "text/x-python",
   "name": "python",
   "nbconvert_exporter": "python",
   "pygments_lexer": "ipython3",
   "version": "3.10.15"
  }
 },
 "nbformat": 4,
 "nbformat_minor": 2
}
