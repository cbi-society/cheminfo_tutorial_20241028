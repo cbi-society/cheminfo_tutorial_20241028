{
 "cells": [
  {
   "cell_type": "markdown",
   "metadata": {},
   "source": [
    "#### maizeでケモインフォマティクスのWFを作成してみる\n",
    "- 02_hello_maizeをベースにrdkitを利用するワークフローを作って見ましょう。\n",
    "- まず必要なライブラリ軍をインポートします"
   ]
  },
  {
   "cell_type": "code",
   "execution_count": null,
   "metadata": {},
   "outputs": [],
   "source": [
    "from pathlib import Path\n",
    "from maize.core.workflow import Workflow\n",
    "from maize.core.node import Node\n",
    "from maize.steps.io import LoadData, LogResult, Void, FileParameter, Return\n",
    "from maize.steps.mai.molecule import LoadSmiles, LoadMolecule, Gypsum\n",
    "from maize.core.interface import Input, Output\n",
    "from maize.utilities.chem import IsomerCollection\n",
    "from rdkit import Chem\n",
    "from rdkit.Chem import Descriptors\n",
    "from rdkit.Chem.Draw import IPythonConsole\n",
    "import pandas as pd\n",
    "from pandas import DataFrame"
   ]
  },
  {
   "cell_type": "markdown",
   "metadata": {},
   "source": [
    "#### 作成するワークフローの概要\n",
    "- LoadDataノードは先の例では、Intを受け取りましたが、今度はSMILESを受け取り次のノードに渡します。\n",
    "- 次のノードはCalcDescという名前にし、受け取った文字列（SMILESのリスト）をRDKit のMolオブジェクトに変換、記述を計算するようにしましょう。\n",
    "- 最後に計算した値をPandasのデータフレームで返します。\n",
    "- 最低限、MolWt, MolLogPを計算する関数を組み込んでみましょう。"
   ]
  },
  {
   "cell_type": "markdown",
   "metadata": {},
   "source": [
    "#### ノードを書いてみる時間を少し取ります。\n",
    "- TIPS RDKitで計算可能な記述子リストは以下のように多数あります。"
   ]
  },
  {
   "cell_type": "code",
   "execution_count": null,
   "metadata": {},
   "outputs": [],
   "source": [
    "for desc in Descriptors._descList:\n",
    "    print(desc)"
   ]
  },
  {
   "cell_type": "code",
   "execution_count": null,
   "metadata": {},
   "outputs": [],
   "source": [
    "class CalcDesc(Node):\n",
    "    out: Output[pd.DataFrame] = Output()\n",
    "    inp: Input[list[str]] = Input()\n",
    "\n",
    "    def run(self):\n",
    "        res = pd.DataFrame({'smiles': self.inp.receive()})\n",
    "        res['ROMol'] = res['smiles'].apply(Chem.MolFromSmiles)\n",
    "        res['MolWt'] = res['ROMol'].apply(Descriptors.MolWt)\n",
    "        res['MolLogP'] = res['ROMol'].apply(Descriptors.MolLogP)\n",
    "        return self.out.send(res)"
   ]
  },
  {
   "cell_type": "code",
   "execution_count": null,
   "metadata": {},
   "outputs": [],
   "source": [
    "mols = ['CCC', 'CCOC', 'CCCC']"
   ]
  },
  {
   "cell_type": "markdown",
   "metadata": {},
   "source": [
    "#### ワークフロー構築\n",
    "- CalcDescノードの定義が終わったらワークフローを構築しましょう\n",
    "- 非常にシンプルな例ですがLoadDataの出力をCalcDesc2私最後にそれをReturnノードで受け取るというワークフローです"
   ]
  },
  {
   "cell_type": "code",
   "execution_count": null,
   "metadata": {},
   "outputs": [],
   "source": [
    "flow = Workflow()\n",
    "load = flow.add(LoadData[list[str]])\n",
    "calc = flow.add(CalcDesc)\n",
    "res = flow.add(Return[pd.DataFrame])\n",
    "flow.connect(load.out, calc.inp)\n",
    "flow.connect(calc.out, res.inp)\n",
    "load.data.set(mols)\n",
    "flow.check()"
   ]
  },
  {
   "cell_type": "code",
   "execution_count": null,
   "metadata": {},
   "outputs": [],
   "source": [
    "flow.execute()"
   ]
  },
  {
   "cell_type": "code",
   "execution_count": null,
   "metadata": {},
   "outputs": [],
   "source": [
    "res.get()"
   ]
  },
  {
   "cell_type": "markdown",
   "metadata": {},
   "source": [
    "#### maize-contribに実装されているIsomerCollectionを利用したワークフローの作成\n",
    "- maize-contribには[IsomerCollection](https://github.com/MolecularAI/maize-contrib/blob/6a80f85e29e1d7e67bd13a2d34a0d5a440386fe3/maize/utilities/chem/chem.py#L1862)というクラスが実装されています。\n",
    "- これはMaestro, SDF, SMILESなど様々な形式の入力を受け取りMolobjectを生成します。SMILESで受け取った場合は立体異性体のEnumerationも実施します。またこの際にRDKITを利用した立体構造生成も同時に行います。"
   ]
  },
  {
   "cell_type": "code",
   "execution_count": null,
   "metadata": {},
   "outputs": [],
   "source": [
    "from maize.utilities.chem.chem import IsomerCollection"
   ]
  },
  {
   "cell_type": "code",
   "execution_count": null,
   "metadata": {},
   "outputs": [],
   "source": [
    "iso1 = IsomerCollection.from_smiles('CCC(O)CN')"
   ]
  },
  {
   "cell_type": "code",
   "execution_count": null,
   "metadata": {},
   "outputs": [],
   "source": [
    "iso1"
   ]
  },
  {
   "cell_type": "code",
   "execution_count": null,
   "metadata": {},
   "outputs": [],
   "source": [
    "iso1.molecules[0]._molecule"
   ]
  },
  {
   "cell_type": "code",
   "execution_count": null,
   "metadata": {},
   "outputs": [],
   "source": [
    "iso1.molecules[1]._molecule"
   ]
  },
  {
   "cell_type": "code",
   "execution_count": null,
   "metadata": {},
   "outputs": [],
   "source": [
    "print(Chem.MolToMolBlock(iso1.molecules[0]._molecule))"
   ]
  },
  {
   "cell_type": "code",
   "execution_count": null,
   "metadata": {},
   "outputs": [],
   "source": [
    "#### SMILESを入力としてIsomerCollectionを返すノードを書いてみて下さい"
   ]
  },
  {
   "cell_type": "code",
   "execution_count": null,
   "metadata": {},
   "outputs": [],
   "source": [
    "class Smi2Mols(Node):\n",
    "    inp: Input[list[str]] = Input()\n",
    "    out: Output[list[IsomerCollection]] = Output()\n",
    "\n",
    "    def run(self) -> None:\n",
    "        smiles_list = self.inp.receive()\n",
    "        mols = [IsomerCollection.from_smiles(smi) for smi in smiles_list]\n",
    "        self.out.send(mols)"
   ]
  },
  {
   "cell_type": "code",
   "execution_count": null,
   "metadata": {},
   "outputs": [],
   "source": [
    "flow = Workflow()\n",
    "load = flow.add(LoadData[list[str]])\n",
    "emb = flow.add(Smi2Mols)\n",
    "ret = flow.add(Return[list[IsomerCollection]])\n",
    "flow.connect(load.out, emb.inp)\n",
    "flow.connect(emb.out, ret.inp)\n",
    "load.data.set(['CC', 'CCC(O)CN'])\n",
    "flow.check()"
   ]
  },
  {
   "cell_type": "code",
   "execution_count": null,
   "metadata": {},
   "outputs": [],
   "source": [
    "flow.execute()"
   ]
  },
  {
   "cell_type": "code",
   "execution_count": null,
   "metadata": {},
   "outputs": [],
   "source": [
    "results = ret.get()"
   ]
  },
  {
   "cell_type": "code",
   "execution_count": null,
   "metadata": {},
   "outputs": [],
   "source": [
    "results"
   ]
  },
  {
   "cell_type": "code",
   "execution_count": null,
   "metadata": {},
   "outputs": [],
   "source": []
  },
  {
   "cell_type": "markdown",
   "metadata": {},
   "source": [
    "#### Appendix XTB calculation\n",
    "- このコードを利用するためには同じ環境下に追加でXTBをインストールする必要があります\n",
    "- [XTB](https://xtb-docs.readthedocs.io/en/latest/)は半経験的な量子科学計算のパッケージです。\n",
    "- Maizeを利用することで入力部分の作成に労を割くことなく計算を実施できます。\n",
    "- 入力はSMILESとし、そのSMILESをGypSumで3次元化次いでXTBでの計算を流すというワークフローになります。\n",
    "- \n",
    "```bash\n",
    "conda install -c conda-forge xtb\n",
    "```"
   ]
  },
  {
   "cell_type": "code",
   "execution_count": null,
   "metadata": {},
   "outputs": [],
   "source": [
    "from maize.steps.mai.molecule.xtb import Xtb\n",
    "\n",
    "class SetName(Node):\n",
    "    inp: Input[list[IsomerCollection]] = Input()\n",
    "    out: Output[list[IsomerCollection]] = Output()\n",
    "    def run(self):\n",
    "        res = []\n",
    "        for i, iso in enumerate(self.inp.receive()):\n",
    "            iso.set_tag('component', f'mol_{i}')\n",
    "            res.append(iso)\n",
    "\n",
    "        self.out.send(res)"
   ]
  },
  {
   "cell_type": "code",
   "execution_count": null,
   "metadata": {},
   "outputs": [],
   "source": [
    "flow = Workflow(name='xtb', cleanup_temp=True)\n",
    "load = flow.add(LoadData[list[str]])\n",
    "# あとでGypSumの説明をしますが、このノードも配座発生に利用するノードです。\n",
    "emb = flow.add(Gypsum)\n",
    "setname = flow.add(SetName)\n",
    "qm = flow.add(Xtb)\n",
    "res = flow.add(Return[list[IsomerCollection]])\n",
    "# 入力はSMILESリストとしています\n",
    "load.data.set(['c1ccccc1', 'c1cnccc1'])\n",
    "# xtbノードは内部で並列処理をするのですがデフォルトで100並列の設定になっておりそのまま実施すると100 coreない場合エラーになります。\n",
    "qm.n_jobs.set(5)\n",
    "# 計算結果を格納するフォルダを指定します。\n",
    "qm.fold.set('./xtbres')"
   ]
  },
  {
   "cell_type": "code",
   "execution_count": null,
   "metadata": {},
   "outputs": [],
   "source": [
    "flow.connect(load.out, emb.inp)\n",
    "flow.connect(emb.out, setname.inp)\n",
    "flow.connect(setname.out, qm.inp)\n",
    "flow.connect(qm.out, res.inp)\n",
    "flow.check()"
   ]
  },
  {
   "cell_type": "code",
   "execution_count": null,
   "metadata": {},
   "outputs": [],
   "source": [
    "flow.visualize()"
   ]
  },
  {
   "cell_type": "code",
   "execution_count": null,
   "metadata": {},
   "outputs": [],
   "source": [
    "flow.execute()"
   ]
  },
  {
   "cell_type": "code",
   "execution_count": null,
   "metadata": {},
   "outputs": [],
   "source": [
    "res.get()[0].molecules[0]._molecule"
   ]
  },
  {
   "cell_type": "code",
   "execution_count": null,
   "metadata": {},
   "outputs": [],
   "source": []
  }
 ],
 "metadata": {
  "kernelspec": {
   "display_name": "maize-dev",
   "language": "python",
   "name": "python3"
  },
  "language_info": {
   "codemirror_mode": {
    "name": "ipython",
    "version": 3
   },
   "file_extension": ".py",
   "mimetype": "text/x-python",
   "name": "python",
   "nbconvert_exporter": "python",
   "pygments_lexer": "ipython3",
   "version": "3.10.15"
  }
 },
 "nbformat": 4,
 "nbformat_minor": 2
}
