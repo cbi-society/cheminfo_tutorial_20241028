{
 "cells": [
  {
   "cell_type": "code",
   "execution_count": 11,
   "id": "250cba37-5952-4491-a215-3d9b4e1b1451",
   "metadata": {
    "execution": {
     "iopub.execute_input": "2024-10-12T10:31:49.210473Z",
     "iopub.status.busy": "2024-10-12T10:31:49.210333Z",
     "iopub.status.idle": "2024-10-12T10:31:50.920915Z",
     "shell.execute_reply": "2024-10-12T10:31:50.920464Z",
     "shell.execute_reply.started": "2024-10-12T10:31:49.210460Z"
    }
   },
   "outputs": [],
   "source": [
    "import pandas as pd\n",
    "from pathlib import Path\n",
    "from maize.core.workflow import Workflow\n",
    "from maize.steps.io import LoadData, LogResult, Return\n",
    " \n",
    "from maize.steps.mai.docking.adv import Vina\n",
    "from maize.steps.mai.molecule import Gypsum\n",
    "from maize.utilities.chem import IsomerCollection\n",
    "import os, sys\n",
    "os.environ['XDG_CONFIG_HOME'] = '/home/iwatobipen/dev/CBI/cheminfo_tutorial_20241028/data/'\n",
    "flow = Workflow(name='dock', level='info', cleanup_temp=True)"
   ]
  },
  {
   "cell_type": "code",
   "execution_count": 2,
   "id": "e6af773d-1a7b-4933-81ed-ab48a5b7626a",
   "metadata": {
    "execution": {
     "iopub.execute_input": "2024-10-12T10:26:58.625964Z",
     "iopub.status.busy": "2024-10-12T10:26:58.625766Z",
     "iopub.status.idle": "2024-10-12T10:26:58.746852Z",
     "shell.execute_reply": "2024-10-12T10:26:58.746210Z",
     "shell.execute_reply.started": "2024-10-12T10:26:58.625951Z"
    }
   },
   "outputs": [],
   "source": [
    "flow.config.update(Path(\"../data/maize.toml\"))\n",
    "\n",
    "load = flow.add(LoadData[list[str]])\n",
    "#void = flow.add(Void)\n",
    "# 3D conf gen and protonate\n",
    "embe = flow.add(Gypsum)\n",
    "# run vina docking\n",
    "dock = flow.add(Vina)\n",
    "# receive docke results\n",
    "retu = flow.add(Return[list[IsomerCollection]])"
   ]
  },
  {
   "cell_type": "code",
   "execution_count": 3,
   "id": "921a11f9-2595-4849-8a02-828bd390e295",
   "metadata": {
    "execution": {
     "iopub.execute_input": "2024-10-12T10:26:58.747763Z",
     "iopub.status.busy": "2024-10-12T10:26:58.747614Z",
     "iopub.status.idle": "2024-10-12T10:26:58.757623Z",
     "shell.execute_reply": "2024-10-12T10:26:58.757268Z",
     "shell.execute_reply.started": "2024-10-12T10:26:58.747749Z"
    }
   },
   "outputs": [
    {
     "name": "stdout",
     "output_type": "stream",
     "text": [
      "(26, 2)\n"
     ]
    },
    {
     "data": {
      "text/html": [
       "<div>\n",
       "<style scoped>\n",
       "    .dataframe tbody tr th:only-of-type {\n",
       "        vertical-align: middle;\n",
       "    }\n",
       "\n",
       "    .dataframe tbody tr th {\n",
       "        vertical-align: top;\n",
       "    }\n",
       "\n",
       "    .dataframe thead th {\n",
       "        text-align: right;\n",
       "    }\n",
       "</style>\n",
       "<table border=\"1\" class=\"dataframe\">\n",
       "  <thead>\n",
       "    <tr style=\"text-align: right;\">\n",
       "      <th></th>\n",
       "      <th>SMILES</th>\n",
       "      <th>NLL</th>\n",
       "    </tr>\n",
       "  </thead>\n",
       "  <tbody>\n",
       "    <tr>\n",
       "      <th>0</th>\n",
       "      <td>COc1cc2ncnc(Nc3ccc(F)c(Cl)c3)c2cc1OCCCN1CCC2(C...</td>\n",
       "      <td>3.15</td>\n",
       "    </tr>\n",
       "    <tr>\n",
       "      <th>1</th>\n",
       "      <td>COc1cc2ncnc(Nc3ccc(F)c(Cl)c3)c2cc1OCCCN1CCOCC1</td>\n",
       "      <td>3.15</td>\n",
       "    </tr>\n",
       "  </tbody>\n",
       "</table>\n",
       "</div>"
      ],
      "text/plain": [
       "                                              SMILES   NLL\n",
       "0  COc1cc2ncnc(Nc3ccc(F)c(Cl)c3)c2cc1OCCCN1CCC2(C...  3.15\n",
       "1     COc1cc2ncnc(Nc3ccc(F)c(Cl)c3)c2cc1OCCCN1CCOCC1  3.15"
      ]
     },
     "execution_count": 3,
     "metadata": {},
     "output_type": "execute_result"
    }
   ],
   "source": [
    "df = pd.read_csv('./TL_sampling.csv')\n",
    "print(df.shape)\n",
    "df.head(2)\n"
   ]
  },
  {
   "cell_type": "code",
   "execution_count": 4,
   "id": "a409261a-2159-43f9-974b-b3122eb6b069",
   "metadata": {
    "execution": {
     "iopub.execute_input": "2024-10-12T10:26:58.759391Z",
     "iopub.status.busy": "2024-10-12T10:26:58.759272Z",
     "iopub.status.idle": "2024-10-12T10:26:58.762833Z",
     "shell.execute_reply": "2024-10-12T10:26:58.762242Z",
     "shell.execute_reply.started": "2024-10-12T10:26:58.759379Z"
    }
   },
   "outputs": [],
   "source": [
    "smiles_lst = [row['SMILES'] for idx, row in df.iterrows()]\n",
    "# used first\n",
    "smiles_lst = [s for s in smiles_lst][1:6]"
   ]
  },
  {
   "cell_type": "code",
   "execution_count": 5,
   "id": "e276f28f-af17-4cb6-afbb-e39fee1ed403",
   "metadata": {
    "execution": {
     "iopub.execute_input": "2024-10-12T10:26:58.763344Z",
     "iopub.status.busy": "2024-10-12T10:26:58.763227Z",
     "iopub.status.idle": "2024-10-12T10:26:58.766198Z",
     "shell.execute_reply": "2024-10-12T10:26:58.765576Z",
     "shell.execute_reply.started": "2024-10-12T10:26:58.763332Z"
    }
   },
   "outputs": [],
   "source": [
    "from rdkit import Chem\n",
    "from rdkit.Chem import Draw"
   ]
  },
  {
   "cell_type": "code",
   "execution_count": 6,
   "id": "5fa8556d-ed69-4386-84c7-faece9a72de8",
   "metadata": {
    "execution": {
     "iopub.execute_input": "2024-10-12T10:26:58.767282Z",
     "iopub.status.busy": "2024-10-12T10:26:58.766844Z",
     "iopub.status.idle": "2024-10-12T10:26:58.780294Z",
     "shell.execute_reply": "2024-10-12T10:26:58.779540Z",
     "shell.execute_reply.started": "2024-10-12T10:26:58.767258Z"
    }
   },
   "outputs": [],
   "source": [
    "mols = [Chem.MolFromSmiles(smi) for smi in smiles_lst]"
   ]
  },
  {
   "cell_type": "code",
   "execution_count": 7,
   "id": "9909e51a-4b92-4069-8c9c-250f435c54cd",
   "metadata": {
    "execution": {
     "iopub.execute_input": "2024-10-12T10:26:58.782280Z",
     "iopub.status.busy": "2024-10-12T10:26:58.781824Z",
     "iopub.status.idle": "2024-10-12T10:26:58.798254Z",
     "shell.execute_reply": "2024-10-12T10:26:58.797891Z",
     "shell.execute_reply.started": "2024-10-12T10:26:58.782255Z"
    },
    "scrolled": true
   },
   "outputs": [
    {
     "data": {
      "image/png": "[encoded data removed]",
      "text/plain": [
       "<IPython.core.display.Image object>"
      ]
     },
     "execution_count": 7,
     "metadata": {},
     "output_type": "execute_result"
    }
   ],
   "source": [
    "Draw.MolsToGridImage(mols[:6], legends=[str(nll) for nll in df.NLL][:6], molsPerRow=5)"
   ]
  },
  {
   "cell_type": "code",
   "execution_count": 8,
   "id": "38dd682e-e056-4265-82a6-8c3360f11169",
   "metadata": {
    "execution": {
     "iopub.execute_input": "2024-10-12T10:27:00.163199Z",
     "iopub.status.busy": "2024-10-12T10:27:00.162725Z",
     "iopub.status.idle": "2024-10-12T10:27:00.170596Z",
     "shell.execute_reply": "2024-10-12T10:27:00.169397Z",
     "shell.execute_reply.started": "2024-10-12T10:27:00.163158Z"
    }
   },
   "outputs": [],
   "source": [
    "load.data.set(smiles_lst)\n",
    "embe.n_variants.set(2)\n",
    "embe.timeout.set(10)\n",
    "# RIP3K <https://www.rcsb.org/structure/7MON>\n",
    "dock.receptor.set(Path('/home/iwatobipen/dev/CBI/cheminfo_tutorial_20241028/data/2ito_fix_remh.pdbqt'))\n",
    "dock.search_center.set((-56.643,  -6.844, -23.487))\n",
    "dock.search_range.set((20.00, 20.00, 20.00))\n",
    "# default vaule 8 seems too small ...\n",
    "dock.exhaustiveness.set(16)"
   ]
  },
  {
   "cell_type": "code",
   "execution_count": 9,
   "id": "4de002fc-670f-475c-b540-670fde5010a3",
   "metadata": {
    "execution": {
     "iopub.execute_input": "2024-10-12T10:27:01.759322Z",
     "iopub.status.busy": "2024-10-12T10:27:01.758845Z",
     "iopub.status.idle": "2024-10-12T10:27:01.907162Z",
     "shell.execute_reply": "2024-10-12T10:27:01.906299Z",
     "shell.execute_reply.started": "2024-10-12T10:27:01.759283Z"
    }
   },
   "outputs": [],
   "source": [
    "flow.connect(load.out, embe.inp)\n",
    "flow.connect(embe.out, dock.inp)\n",
    "flow.connect(dock.out,retu.inp)\n",
    "flow.check()"
   ]
  },
  {
   "cell_type": "code",
   "execution_count": 10,
   "id": "93af645f-6fc6-43db-9290-37c445ae5cdf",
   "metadata": {
    "execution": {
     "iopub.execute_input": "2024-10-12T10:27:02.084700Z",
     "iopub.status.busy": "2024-10-12T10:27:02.084327Z",
     "iopub.status.idle": "2024-10-12T10:31:49.039748Z",
     "shell.execute_reply": "2024-10-12T10:31:49.037803Z",
     "shell.execute_reply.started": "2024-10-12T10:27:02.084667Z"
    }
   },
   "outputs": [
    {
     "name": "stderr",
     "output_type": "stream",
     "text": [
      "2024-10-12 19:27:02,091 | \u001b[1;34m    INFO\u001b[0m |             dock | \n",
      "              ___           ___                       ___           ___\n",
      "             /\\__\\         /\\  \\          ___        /\\  \\         /\\  \\\n",
      "            /::|  |       /::\\  \\        /\\  \\       \\:\\  \\       /::\\  \\\n",
      "           /:|:|  |      /:/\\:\\  \\       \\:\\  \\       \\:\\  \\     /:/\\:\\  \\\n",
      "          /:/|:|__|__   /::\\~\\:\\  \\      /::\\__\\       \\:\\  \\   /::\\~\\:\\  \\\n",
      "         /:/ |::::\\__\\ /:/\\:\\ \\:\\__\\  __/:/\\/__/ _______\\:\\__\\ /:/\\:\\ \\:\\__\\\n",
      "         \\/__/~~/:/  / \\/__\\:\\/:/  / /\\/:/  /    \\::::::::/__/ \\:\\~\\:\\ \\/__/\n",
      "               /:/  /       \\::/  /  \\::/__/      \\:\\~~\\~~      \\:\\ \\:\\__\\\n",
      "              /:/  /        /:/  /    \\:\\__\\       \\:\\  \\        \\:\\ \\/__/\n",
      "             /:/  /        /:/  /      \\/__/        \\:\\__\\        \\:\\__\\\n",
      "             \\/__/         \\/__/                     \\/__/         \\/__/\n",
      "\n",
      "\n",
      "2024-10-12 19:27:02,092 | \u001b[1;34m    INFO\u001b[0m |             dock | Starting Maize version 0.8.3 (c) AstraZeneca 2024\n",
      "2024-10-12 19:27:02,092 | \u001b[1;34m    INFO\u001b[0m |             dock | Running workflow 'dock' with parameters:\n",
      "2024-10-12 19:27:02,093 | \u001b[1;34m    INFO\u001b[0m |             dock | data = ['COc1cc2ncnc(Nc3ccc(F)c(Cl)c3)c2cc1OCCCN1CCOCC1', 'COc1cc2ncnc(Nc3ccc(F)c(Cl)c3)c2cc1OCCCN1CCCCC1', 'COc1ccc(Nc2ncnc3cc(OCCCN4CCOCC4)c(OC)cc23)cc1', 'COc1cc2ncnc(Nc3ccc(F)c(Cl)c3)c2cc1OCCN1CCCC1', 'COc1cc2ncnc(Nc3ccc(F)c(Cl)c3)c2cc1OCCN1CCN(C)CC1'] (from 'loaddata')\n",
      "2024-10-12 19:27:02,094 | \u001b[1;34m    INFO\u001b[0m |             dock | n_variants = 2 (from 'gypsum')\n",
      "2024-10-12 19:27:02,094 | \u001b[1;34m    INFO\u001b[0m |             dock | timeout = 10 (from 'gypsum')\n",
      "2024-10-12 19:27:02,095 | \u001b[1;34m    INFO\u001b[0m |             dock | exhaustiveness = 16 (from 'vina')\n",
      "2024-10-12 19:27:02,095 | \u001b[1;34m    INFO\u001b[0m |             dock | receptor = /home/iwatobipen/dev/CBI/cheminfo_tutorial_20241028/data/2ito_fix_remh.pdbqt (from 'vina')\n",
      "2024-10-12 19:27:02,095 | \u001b[1;34m    INFO\u001b[0m |             dock | search_center = (-56.643, -6.844, -23.487) (from 'vina')\n",
      "2024-10-12 19:27:02,096 | \u001b[1;34m    INFO\u001b[0m |             dock | search_range = (20.0, 20.0, 20.0) (from 'vina')\n",
      "2024-10-12 19:27:02,617 | \u001b[1;34m    INFO\u001b[0m |           gypsum | Running job with PSI/J id=2ebd8396-43a3-4fc3-8a41-1b881301d616, stdout=/tmp/tmp0gya453d/graph-dock/node-gypsum/job-qqhw6y-out, stderr=/tmp/tmp0gya453d/graph-dock/node-gypsum/job-qqhw6y-err\n",
      "2024-10-12 19:27:03,081 | \u001b[1;34m    INFO\u001b[0m |             dock | Node 'loaddata' finished (1/4)\n",
      "2024-10-12 19:27:05,128 | \u001b[1;34m    INFO\u001b[0m |             dock | Workflow status\n",
      "                                   |           return | \u001b[1;33mWAITING_FOR_INPUT\u001b[0m\n",
      "                                   |           gypsum | \u001b[1;34mRUNNING\u001b[0m\n",
      "                                   |             vina | \u001b[1;33mWAITING_FOR_INPUT\u001b[0m\n",
      "                                   |         loaddata | \u001b[1;32mCOMPLETED\u001b[0m\n",
      "2024-10-12 19:27:05,149 | \u001b[1;34m    INFO\u001b[0m |             vina | Docking molecule 0: 'IsomerCollection('COc1cc2ncnc(Nc3ccc(F)c(Cl)c3)c2cc1OCCCN1CCOCC1', n_isomers=2)'\n",
      "2024-10-12 19:27:05,163 | \u001b[1;34m    INFO\u001b[0m |             vina | Docking molecule 1: 'IsomerCollection('COc1cc2ncnc(Nc3ccc(F)c(Cl)c3)c2cc1OCCCN1CCCCC1', n_isomers=2)'\n",
      "2024-10-12 19:27:05,177 | \u001b[1;34m    INFO\u001b[0m |             vina | Docking molecule 2: 'IsomerCollection('COc1ccc(Nc2ncnc3cc(OCCCN4CCOCC4)c(OC)cc23)cc1', n_isomers=2)'\n",
      "2024-10-12 19:27:05,187 | \u001b[1;34m    INFO\u001b[0m |             vina | Docking molecule 3: 'IsomerCollection('COc1cc2ncnc(Nc3ccc(F)c(Cl)c3)c2cc1OCCN1CCCC1', n_isomers=2)'\n",
      "2024-10-12 19:27:05,197 | \u001b[1;34m    INFO\u001b[0m |             vina | Docking molecule 4: 'IsomerCollection('COc1cc2ncnc(Nc3ccc(F)c(Cl)c3)c2cc1OCCN1CCN(C)CC1', n_isomers=2)'\n",
      "2024-10-12 19:27:05,230 | \u001b[1;34m    INFO\u001b[0m |             vina | Running job with PSI/J id=ca0e79b6-09a2-456d-bee1-45979574a185, stdout=/tmp/tmpc_0fley8/job-w088xw-out, stderr=/tmp/tmpc_0fley8/job-w088xw-err\n",
      "2024-10-12 19:27:05,231 | \u001b[1;34m    INFO\u001b[0m |             vina | Running job with PSI/J id=701a1311-1566-47e6-a5bf-6d047ca3b9c5, stdout=/tmp/tmpy3fo5aki/job-jwg9ks-out, stderr=/tmp/tmpy3fo5aki/job-jwg9ks-err\n",
      "2024-10-12 19:27:05,233 | \u001b[1;34m    INFO\u001b[0m |             vina | Running job with PSI/J id=e6c41099-6369-40dc-b113-8bd35bf234d2, stdout=/tmp/tmp45vopvf8/job-h6cne6-out, stderr=/tmp/tmp45vopvf8/job-h6cne6-err\n",
      "2024-10-12 19:27:05,235 | \u001b[1;34m    INFO\u001b[0m |             vina | Running job with PSI/J id=28f9d568-6c8a-4a40-9f15-24674762a133, stdout=/tmp/tmpral7eacy/job-wkocjm-out, stderr=/tmp/tmpral7eacy/job-wkocjm-err\n",
      "2024-10-12 19:27:05,239 | \u001b[1;34m    INFO\u001b[0m |             vina | Running job with PSI/J id=10991762-3331-4dd8-a0aa-a144f061b5a6, stdout=/tmp/tmpp1w4binm/job-z4at77-out, stderr=/tmp/tmpp1w4binm/job-z4at77-err\n",
      "2024-10-12 19:27:05,243 | \u001b[1;34m    INFO\u001b[0m |             vina | Running job with PSI/J id=15ba714e-0f3c-43ab-95d1-a9b48ae6bedb, stdout=/tmp/tmp6h_d4jsm/job-fhxddu-out, stderr=/tmp/tmp6h_d4jsm/job-fhxddu-err\n",
      "2024-10-12 19:27:05,248 | \u001b[1;34m    INFO\u001b[0m |             vina | Running job with PSI/J id=3ab1541b-8c35-41b0-b49e-3360b5867eec, stdout=/tmp/tmpdk66537x/job-1t116o-out, stderr=/tmp/tmpdk66537x/job-1t116o-err\n",
      "2024-10-12 19:27:05,252 | \u001b[1;34m    INFO\u001b[0m |             vina | Running job with PSI/J id=f9913e3a-f9ae-474d-bccd-84162f39d09b, stdout=/tmp/tmpb3mzb8fu/job-spijio-out, stderr=/tmp/tmpb3mzb8fu/job-spijio-err\n",
      "2024-10-12 19:27:05,259 | \u001b[1;34m    INFO\u001b[0m |             vina | Running job with PSI/J id=7535c04e-abb6-42c6-8343-016f0bf04d28, stdout=/tmp/tmpjocq2tjc/job-lo2vg3-out, stderr=/tmp/tmpjocq2tjc/job-lo2vg3-err\n",
      "2024-10-12 19:27:05,264 | \u001b[1;34m    INFO\u001b[0m |             vina | Running job with PSI/J id=5718d268-6927-497d-8f24-73145f7cfe66, stdout=/tmp/tmpq0d_042h/job-ixu2nj-out, stderr=/tmp/tmpq0d_042h/job-ixu2nj-err\n"
     ]
    },
    {
     "name": "stdout",
     "output_type": "stream",
     "text": [
      "|\r"
     ]
    },
    {
     "name": "stderr",
     "output_type": "stream",
     "text": [
      "2024-10-12 19:27:05,646 | \u001b[1;34m    INFO\u001b[0m |             dock | Node 'gypsum' finished (2/4)\n"
     ]
    },
    {
     "name": "stdout",
     "output_type": "stream",
     "text": [
      "-\r"
     ]
    },
    {
     "name": "stderr",
     "output_type": "stream",
     "text": [
      "2024-10-12 19:29:48,586 | \u001b[1;34m    INFO\u001b[0m |             vina | Job completed (1/10)\n"
     ]
    },
    {
     "name": "stdout",
     "output_type": "stream",
     "text": [
      "-\r"
     ]
    },
    {
     "name": "stderr",
     "output_type": "stream",
     "text": [
      "2024-10-12 19:30:00,864 | \u001b[1;34m    INFO\u001b[0m |             vina | Job completed (2/10)\n"
     ]
    },
    {
     "name": "stdout",
     "output_type": "stream",
     "text": [
      "/\r"
     ]
    },
    {
     "name": "stderr",
     "output_type": "stream",
     "text": [
      "2024-10-12 19:30:45,624 | \u001b[1;34m    INFO\u001b[0m |             vina | Job completed (3/10)\n"
     ]
    },
    {
     "name": "stdout",
     "output_type": "stream",
     "text": [
      "-\r"
     ]
    },
    {
     "name": "stderr",
     "output_type": "stream",
     "text": [
      "2024-10-12 19:30:48,626 | \u001b[1;34m    INFO\u001b[0m |             vina | Job completed (4/10)\n"
     ]
    },
    {
     "name": "stdout",
     "output_type": "stream",
     "text": [
      "\\\r"
     ]
    },
    {
     "name": "stderr",
     "output_type": "stream",
     "text": [
      "2024-10-12 19:30:52,156 | \u001b[1;34m    INFO\u001b[0m |             vina | Job completed (5/10)\n"
     ]
    },
    {
     "name": "stdout",
     "output_type": "stream",
     "text": [
      "-\r"
     ]
    },
    {
     "name": "stderr",
     "output_type": "stream",
     "text": [
      "2024-10-12 19:31:02,844 | \u001b[1;34m    INFO\u001b[0m |             vina | Job completed (6/10)\n"
     ]
    },
    {
     "name": "stdout",
     "output_type": "stream",
     "text": [
      "\\\r"
     ]
    },
    {
     "name": "stderr",
     "output_type": "stream",
     "text": [
      "2024-10-12 19:31:15,747 | \u001b[1;34m    INFO\u001b[0m |             vina | Job completed (7/10)\n",
      "2024-10-12 19:31:16,437 | \u001b[1;34m    INFO\u001b[0m |             vina | Job completed (8/10)\n"
     ]
    },
    {
     "name": "stdout",
     "output_type": "stream",
     "text": [
      "|\r"
     ]
    },
    {
     "name": "stderr",
     "output_type": "stream",
     "text": [
      "2024-10-12 19:31:30,778 | \u001b[1;34m    INFO\u001b[0m |             vina | Job completed (9/10)\n"
     ]
    },
    {
     "name": "stdout",
     "output_type": "stream",
     "text": [
      "/\r"
     ]
    },
    {
     "name": "stderr",
     "output_type": "stream",
     "text": [
      "2024-10-12 19:31:47,930 | \u001b[1;34m    INFO\u001b[0m |             vina | Job completed (10/10)\n",
      "2024-10-12 19:31:47,976 | \u001b[1;34m    INFO\u001b[0m |             dock | Workflow status\n",
      "                                   |           return | \u001b[1;33mWAITING_FOR_INPUT\u001b[0m\n",
      "                                   |           gypsum | \u001b[1;32mCOMPLETED\u001b[0m\n",
      "                                   |             vina | \u001b[1;34mRUNNING\u001b[0m\n",
      "                                   |         loaddata | \u001b[1;32mCOMPLETED\u001b[0m\n",
      "2024-10-12 19:31:47,984 | \u001b[1;34m    INFO\u001b[0m |             vina | Parsing isomer 0: 'XGALLCVXEZPNRQ-LSJXVMLKNA-O'\n",
      "2024-10-12 19:31:47,990 | \u001b[1;34m    INFO\u001b[0m |             vina | Parsing isomer 1: 'IFIRBZOPPUFQRQ-GXOSZTMVNA-O'\n",
      "2024-10-12 19:31:47,993 | \u001b[1;34m    INFO\u001b[0m |             vina | Parsing isomer 2: 'NOSWWYFJKOPCTB-OKLSVVEMNA-P'\n",
      "2024-10-12 19:31:47,996 | \u001b[1;34m    INFO\u001b[0m |             vina | Parsing isomer 3: 'NOSWWYFJKOPCTB-UWMLPMTCNA-O'\n",
      "2024-10-12 19:31:47,998 | \u001b[1;34m    INFO\u001b[0m |             vina | Parsing isomer 4: 'BLFAAYGECSULMU-QWLBRLSPNA-O'\n",
      "2024-10-12 19:31:48,000 | \u001b[1;34m    INFO\u001b[0m |             vina | Parsing isomer 5: 'UEWRHTSERXIBRC-PXOUPDIDNA-O'\n",
      "2024-10-12 19:31:48,014 | \u001b[1;34m    INFO\u001b[0m |             dock | Node 'return' finished (3/4)\n"
     ]
    },
    {
     "name": "stdout",
     "output_type": "stream",
     "text": [
      "-\r"
     ]
    },
    {
     "name": "stderr",
     "output_type": "stream",
     "text": [
      "2024-10-12 19:31:48,508 | \u001b[1;34m    INFO\u001b[0m |             dock | Node 'vina' finished (4/4)\n",
      "2024-10-12 19:31:49,012 | \u001b[1;34m    INFO\u001b[0m |             dock | Execution completed :) total runtime: 0:04:46.388311\n",
      "\t4 nodes completed successfully\n",
      "\t0 nodes stopped due to closing ports\n",
      "\t0 nodes failed\n",
      "\t0:09:35.778745 total walltime\n",
      "\t0:04:50.355055 spent waiting for resources or other nodes\n"
     ]
    }
   ],
   "source": [
    "flow.execute()"
   ]
  },
  {
   "cell_type": "code",
   "execution_count": 12,
   "id": "f2778216-d432-42af-a85b-68c4052eca0d",
   "metadata": {
    "execution": {
     "iopub.execute_input": "2024-10-12T10:33:25.592966Z",
     "iopub.status.busy": "2024-10-12T10:33:25.592700Z",
     "iopub.status.idle": "2024-10-12T10:33:25.711515Z",
     "shell.execute_reply": "2024-10-12T10:33:25.710564Z",
     "shell.execute_reply.started": "2024-10-12T10:33:25.592941Z"
    }
   },
   "outputs": [],
   "source": [
    "!mkdir dock_res"
   ]
  },
  {
   "cell_type": "code",
   "execution_count": 24,
   "id": "a6db9224",
   "metadata": {
    "execution": {
     "iopub.execute_input": "2024-10-12T10:38:09.656094Z",
     "iopub.status.busy": "2024-10-12T10:38:09.655499Z",
     "iopub.status.idle": "2024-10-12T10:38:09.663180Z",
     "shell.execute_reply": "2024-10-12T10:38:09.662665Z",
     "shell.execute_reply.started": "2024-10-12T10:38:09.656073Z"
    }
   },
   "outputs": [],
   "source": [
    "res=retu.get()\n",
    "import numpy as np\n",
    "from pathlib import Path\n",
    "for midx, ms in enumerate(res):\n",
    "    for cidx, m in enumerate(ms.molecules):\n",
    "        m.to_sdf(Path(f'./dock_res/ok_{midx}_{cidx}.sdf'))"
   ]
  },
  {
   "cell_type": "code",
   "execution_count": 26,
   "id": "6daac09f-4433-4b1b-819a-3f3af6b26623",
   "metadata": {
    "execution": {
     "iopub.execute_input": "2024-10-12T12:05:34.529353Z",
     "iopub.status.busy": "2024-10-12T12:05:34.528976Z",
     "iopub.status.idle": "2024-10-12T12:05:34.536027Z",
     "shell.execute_reply": "2024-10-12T12:05:34.535071Z",
     "shell.execute_reply.started": "2024-10-12T12:05:34.529321Z"
    }
   },
   "outputs": [
    {
     "data": {
      "text/plain": [
       "Isomer(n_atoms=56, n_conformers=1, charge=1, free_energy=-8.0920)"
      ]
     },
     "execution_count": 26,
     "metadata": {},
     "output_type": "execute_result"
    }
   ],
   "source": [
    "res[0].molecules[1]"
   ]
  },
  {
   "cell_type": "code",
   "execution_count": null,
   "id": "218c7a77-3732-4346-896b-bc10c316da23",
   "metadata": {},
   "outputs": [],
   "source": []
  }
 ],
 "metadata": {
  "kernelspec": {
   "display_name": "Python 3 (ipykernel)",
   "language": "python",
   "name": "python3"
  },
  "language_info": {
   "codemirror_mode": {
    "name": "ipython",
    "version": 3
   },
   "file_extension": ".py",
   "mimetype": "text/x-python",
   "name": "python",
   "nbconvert_exporter": "python",
   "pygments_lexer": "ipython3",
   "version": "3.10.15"
  }
 },
 "nbformat": 4,
 "nbformat_minor": 5
}
