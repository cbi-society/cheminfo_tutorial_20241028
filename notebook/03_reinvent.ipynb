{
 "cells": [
  {
   "cell_type": "markdown",
   "id": "6c88c3d7-836a-46b8-a93f-0a53ec5f7fba",
   "metadata": {
    "execution": {
     "iopub.execute_input": "2024-10-05T01:15:39.548513Z",
     "iopub.status.busy": "2024-10-05T01:15:39.547558Z",
     "iopub.status.idle": "2024-10-05T01:15:39.553106Z",
     "shell.execute_reply": "2024-10-05T01:15:39.552009Z",
     "shell.execute_reply.started": "2024-10-05T01:15:39.548466Z"
    }
   },
   "source": [
    "# Reinvent4を使いEGFR kinase阻害剤様の構造生成モデルを作成する\n",
    "\n",
    "転移学習とSamplingを利用してEGFR kinase阻害剤様の構造生成モデルを作成しましょう。\n",
    "\n",
    "注）reinvent4は以下のようにCLIで利用しますが、本ハンズオンではjupyter上で実行するためsubprocessを利用します。\n",
    "\n",
    "```bash\n",
    "$ reinvent -l log.txt config.toml\n",
    "```"
   ]
  },
  {
   "cell_type": "markdown",
   "id": "e6119fb3-cd7b-4a5a-811c-632c04c8323d",
   "metadata": {},
   "source": [
    "## 転移学習に利用するEGFR kinase阻害剤の構造を確認する\n",
    "\n",
    "rdkitを利用して構造を描画し確認します。"
   ]
  },
  {
   "cell_type": "code",
   "execution_count": null,
   "id": "48dd5d58-cc0a-4cfe-a0da-917d434119f3",
   "metadata": {},
   "outputs": [],
   "source": [
    "from rdkit import Chem\n",
    "from rdkit.Chem import Draw\n",
    "import pandas as pd\n",
    "df = pd.read_csv('../data/genai/ChEMBL_EGFR.csv')\n",
    "df.head(2)\n",
    "Draw.MolsToGridImage([Chem.MolFromSmiles(smi) for smi in df.smiles][:20], molsPerRow=5)"
   ]
  },
  {
   "cell_type": "markdown",
   "id": "a8a3cc06-c9b9-4beb-9355-57a82ab447e3",
   "metadata": {},
   "source": [
    "## 設定ファイル(toml)を編集する\n",
    "\n",
    "../data/genai/ 以下にTomlファイルがありますので、各自の環境に応じて編集をしてください。\n",
    "以下に今回の転移学習で利用するファイル(transfer_learning.toml)を出力しますが、書き換える必要のある変数は\n",
    "\n",
    "- device: cudaの場合はcuda:0, MacOS(M1,M2,M3)のgpuの場合はmps, gpuを利用しない場合はcpuを指定してください\n",
    "- input_model_file, smiles_file, output_model_file, validation_smiles_fileは書き換える必要があります\n",
    "- 今回はnum_epocを300にしていますがCPUのみの場合は学習に時間がかかるかもしれません。その場合は100に変更してください"
   ]
  },
  {
   "cell_type": "code",
   "execution_count": null,
   "id": "63aa8844-2b8f-4aa9-8e26-ffac4a56c3b8",
   "metadata": {},
   "outputs": [],
   "source": [
    "!cat ../data/genai/transfer_learning.toml"
   ]
  },
  {
   "cell_type": "markdown",
   "id": "c83e0866-865e-44e1-8a03-6b4f37819468",
   "metadata": {},
   "source": [
    "## 転移学習を実施\n",
    "reinventコマンドは各自の環境に依存しますので設定してください\n",
    "\n",
    "注）仮想環境のpathを調べたい場合は以下のコマンドを実行してください\n",
    "\n",
    "```bash\n",
    "$ % conda info --envs\n",
    "```"
   ]
  },
  {
   "cell_type": "code",
   "execution_count": null,
   "id": "e06c4354-4c4e-4046-9d00-37f57ac4b23f",
   "metadata": {},
   "outputs": [],
   "source": [
    "import subprocess"
   ]
  },
  {
   "cell_type": "code",
   "execution_count": null,
   "id": "0f2c4e58-b6e2-43f4-beff-d5f585aae470",
   "metadata": {},
   "outputs": [],
   "source": [
    "subprocess.call(\n",
    "    [\"/home/iwatobipen/miniforge3/envs/reinvent4/bin/reinvent\", \"-l\", \"TL.log\", \"../data/genai/transfer_learning.toml\"]\n",
    ")"
   ]
  },
  {
   "cell_type": "markdown",
   "id": "bdafd6c2-3d7b-4fde-a2c8-73864faaf28c",
   "metadata": {},
   "source": [
    "## tensroboardでログを確認\n",
    "tensorboardはReinvent4と同じ環境下にインストールされているので、以下のコマンドを実行するとwebブラウザから転移学習の結果を確認することができます。"
   ]
  },
  {
   "cell_type": "code",
   "execution_count": null,
   "id": "0fbe91a0-2f61-4d27-8a2a-a9a58b1c1f60",
   "metadata": {},
   "outputs": [],
   "source": [
    "!/home/iwatobipen/miniforge3/envs/reinvent4/bin/tensorboard --logdir tb_TL/"
   ]
  },
  {
   "cell_type": "markdown",
   "id": "415b73e7-95ca-40cc-97e1-491fe7a963fd",
   "metadata": {},
   "source": [
    "##　訓練前後のモデルでサンプリング（構造生成）\n",
    "\n",
    "ここでは、転移学習前後の生成モデルから構造生成を行い、EGFR阻害剤様の構造が出力されているか確認します。\n",
    "転移学習と同様にtomlファイルを設定する必要があります。\n",
    "\n",
    "sampling.tomlは転移学習前の生成モデルからのサンプリングで、TL_sampling.tomlは転移学習後の生成モデルからのサンプリング用の設定ファイルです。\n",
    "編集が必要な箇所はdevice,model_fileです。\n"
   ]
  },
  {
   "cell_type": "code",
   "execution_count": null,
   "id": "d0dcf777-fe28-4031-b0a0-3130d8199f8b",
   "metadata": {},
   "outputs": [],
   "source": [
    "!cat ../data/genai/sampling.toml"
   ]
  },
  {
   "cell_type": "code",
   "execution_count": null,
   "id": "776e8c0b-c190-4cfc-81e9-d18abc65ed21",
   "metadata": {},
   "outputs": [],
   "source": [
    "#訓練前のモデル\n",
    "subprocess.call(\n",
    "    [\"/home/iwatobipen/miniforge3/envs/reinvent4/bin/reinvent\", \"-l\", \"sampling.log\", \"../data/genai/sampling.toml\"]\n",
    ")"
   ]
  },
  {
   "cell_type": "code",
   "execution_count": null,
   "id": "66ee8bf7-b11f-4b26-b732-cc3d1e7b429d",
   "metadata": {},
   "outputs": [],
   "source": [
    "#訓練後のモデル\n",
    "subprocess.call(\n",
    "    [\"/home/iwatobipen/miniforge3/envs/reinvent4/bin/reinvent\", \"-l\", \"TL_sampling.log\", \"../data/genai/TL_sampling.toml\"]\n",
    ")"
   ]
  },
  {
   "cell_type": "markdown",
   "id": "40205afd-10fd-4203-9ddc-2c2f7a7b359c",
   "metadata": {},
   "source": [
    "## 構造を確認する\n",
    "\n",
    "転移学習前後で生成モデルの出力する構造を確認します。転移学習後の生成モデルからはキナゾリン骨格が多く生成されていることを確認してください。"
   ]
  },
  {
   "cell_type": "code",
   "execution_count": null,
   "id": "c52c1825-cb6d-4cb7-9a6b-bd5708ea537f",
   "metadata": {},
   "outputs": [],
   "source": [
    "import pandas as pd\n",
    "from rdkit import Chem\n",
    "from rdkit.Chem import Draw\n",
    "from rdkit.Chem.Draw import IPythonConsole\n",
    "from rdkit.Chem import PandasTools"
   ]
  },
  {
   "cell_type": "code",
   "execution_count": null,
   "id": "e0862be3-837c-4cc2-95fc-931e4f139275",
   "metadata": {},
   "outputs": [],
   "source": [
    "df1 = pd.read_csv('sampling.csv')\n",
    "print(df1.shape)\n",
    "df1.tail(2)"
   ]
  },
  {
   "cell_type": "code",
   "execution_count": null,
   "id": "b4c0c847-839b-4f9f-96b4-4623de937d33",
   "metadata": {
    "scrolled": true
   },
   "outputs": [],
   "source": [
    "PandasTools.AddMoleculeColumnToFrame(df1, smilesCol='SMILES')\n",
    "Draw.MolsToGridImage(df1.ROMol[:20], molsPerRow=5)"
   ]
  },
  {
   "cell_type": "code",
   "execution_count": null,
   "id": "2d31a581-3733-45cf-be6b-2fc573a1d30f",
   "metadata": {},
   "outputs": [],
   "source": [
    "df2= pd.read_csv('TL_sampling.csv')\n",
    "print(df2.shape)\n",
    "df2.tail(2)"
   ]
  },
  {
   "cell_type": "code",
   "execution_count": null,
   "id": "8e3bdf67-9f5c-4fc8-bd84-75ac830acb7d",
   "metadata": {},
   "outputs": [],
   "source": [
    "PandasTools.AddMoleculeColumnToFrame(df2, smilesCol='SMILES')\n",
    "Draw.MolsToGridImage(df2.ROMol[:20], molsPerRow=5)"
   ]
  }
 ],
 "metadata": {
  "kernelspec": {
   "display_name": "Python 3 (ipykernel)",
   "language": "python",
   "name": "python3"
  },
  "language_info": {
   "codemirror_mode": {
    "name": "ipython",
    "version": 3
   },
   "file_extension": ".py",
   "mimetype": "text/x-python",
   "name": "python",
   "nbconvert_exporter": "python",
   "pygments_lexer": "ipython3",
   "version": "3.10.15"
  }
 },
 "nbformat": 4,
 "nbformat_minor": 5
}
