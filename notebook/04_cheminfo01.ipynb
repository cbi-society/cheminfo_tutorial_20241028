{
 "cells": [
  {
   "cell_type": "markdown",
   "id": "7eda8d0e-72d0-48af-8cc8-b12e5734704c",
   "metadata": {},
   "source": [
    "# cheminfo tasks"
   ]
  },
  {
   "cell_type": "markdown",
   "id": "780a77e9-36eb-4872-b1c6-2bd076ef97ad",
   "metadata": {},
   "source": []
  },
  {
   "cell_type": "code",
   "execution_count": 1,
   "id": "b1b7828f-ade0-4233-853a-886575740f97",
   "metadata": {
    "execution": {
     "iopub.execute_input": "2024-10-12T06:58:08.930974Z",
     "iopub.status.busy": "2024-10-12T06:58:08.930598Z",
     "iopub.status.idle": "2024-10-12T06:58:09.442883Z",
     "shell.execute_reply": "2024-10-12T06:58:09.442462Z",
     "shell.execute_reply.started": "2024-10-12T06:58:08.930945Z"
    }
   },
   "outputs": [],
   "source": [
    "from pathlib import Path\n",
    "from maize.core.workflow import Workflow\n",
    "from maize.core.node import Node\n",
    "from maize.steps.io import LoadData, LogResult, Void, FileParameter, Return\n",
    "from maize.steps.mai.molecule import LoadSmiles, LoadMolecule, Gypsum\n",
    "from maize.core.interface import Input, Output\n",
    "from maize.utilities.chem import IsomerCollection\n",
    "from rdkit import Chem\n",
    "from rdkit.Chem import Descriptors\n",
    "from rdkit.Chem.Draw import IPythonConsole\n",
    "import pandas as pd\n",
    "from pandas import DataFrame"
   ]
  },
  {
   "cell_type": "markdown",
   "id": "6b41f1e5-7c43-4f79-8d29-929e014e618a",
   "metadata": {},
   "source": [
    "```python\n",
    "class Example(Node):\n",
    "    out: Output[str] = Output()\n",
    "    data: Parameter[str] = Parameter(default=\"hello\")\n",
    "\n",
    "    def run(self) -> None:\n",
    "        self.out.send(self.data.value)\n",
    "```\n",
    "\n",
    "#### 記述子計算のWFを作ってみましょう\n",
    "- CalcDescノードを定義します。これは入力としてSMILESのリストを受取りRDKITの記述子を計算します。"
   ]
  },
  {
   "cell_type": "code",
   "execution_count": 2,
   "id": "7d0be90d-0d78-4594-86b7-a19396fbda34",
   "metadata": {
    "execution": {
     "iopub.execute_input": "2024-10-12T06:58:10.209556Z",
     "iopub.status.busy": "2024-10-12T06:58:10.208944Z",
     "iopub.status.idle": "2024-10-12T06:58:10.241420Z",
     "shell.execute_reply": "2024-10-12T06:58:10.240766Z",
     "shell.execute_reply.started": "2024-10-12T06:58:10.209538Z"
    }
   },
   "outputs": [],
   "source": [
    "class CalcDesc(Node):\n",
    "    out: Output[list[tuple]] = Output()\n",
    "    inp: Input[list[str]] = Input()\n",
    "\n",
    "    def run(self):\n",
    "        res = []\n",
    "        for smi in self.inp.receive():\n",
    "            mol = Chem.MolFromSmiles(smi)\n",
    "            if mol != None:\n",
    "                mw = Descriptors.MolWt(mol)\n",
    "                logp = Descriptors.MolLogP(mol)\n",
    "                res.append((smi, mw, logp))\n",
    "            else:\n",
    "                res.append((smi, 'Invalid SMILES'))\n",
    "        self.out.send(res)\n",
    "\n",
    "flow1 = Workflow(name='infoexample1',cleanup_temp=True)\n",
    "flow1.config.update(Path('../data/maize.toml'))"
   ]
  },
  {
   "cell_type": "markdown",
   "id": "0cf8df56-cf05-4499-93da-e76bc9d66025",
   "metadata": {
    "execution": {
     "iopub.execute_input": "2024-10-12T05:58:38.754192Z",
     "iopub.status.busy": "2024-10-12T05:58:38.753391Z",
     "iopub.status.idle": "2024-10-12T05:58:38.759599Z",
     "shell.execute_reply": "2024-10-12T05:58:38.758631Z",
     "shell.execute_reply.started": "2024-10-12T05:58:38.754156Z"
    }
   },
   "source": [
    "- 次いでワークフローを定義します。\n",
    "- LoadData, Returnはどのようなものを受け取るか、返すかの方を定義してあげないとエラーになります。"
   ]
  },
  {
   "cell_type": "code",
   "execution_count": 3,
   "id": "04048b75-9c46-4d22-b955-c20504f70dc7",
   "metadata": {
    "execution": {
     "iopub.execute_input": "2024-10-12T06:58:11.253325Z",
     "iopub.status.busy": "2024-10-12T06:58:11.252871Z",
     "iopub.status.idle": "2024-10-12T06:58:11.365089Z",
     "shell.execute_reply": "2024-10-12T06:58:11.364492Z",
     "shell.execute_reply.started": "2024-10-12T06:58:11.253289Z"
    }
   },
   "outputs": [],
   "source": [
    "load = flow1.add(LoadData[list[str]])\n",
    "calc = flow1.add(CalcDesc)\n",
    "res = flow1.add(Return[list[tuple]])\n",
    "flow1.connect(load.out, calc.inp)\n",
    "flow1.connect(calc.out, res.inp)"
   ]
  },
  {
   "cell_type": "code",
   "execution_count": 4,
   "id": "c2b5c8e5-df64-4fec-8b30-19815b9ae4a7",
   "metadata": {
    "execution": {
     "iopub.execute_input": "2024-10-12T06:58:11.628315Z",
     "iopub.status.busy": "2024-10-12T06:58:11.627823Z",
     "iopub.status.idle": "2024-10-12T06:58:11.631861Z",
     "shell.execute_reply": "2024-10-12T06:58:11.631049Z",
     "shell.execute_reply.started": "2024-10-12T06:58:11.628296Z"
    }
   },
   "outputs": [],
   "source": [
    "load.data.set(['CC', 'COC','c1cccccc1', 'c1cnccc1'])"
   ]
  },
  {
   "cell_type": "code",
   "execution_count": 5,
   "id": "532d15f0-c6b6-4e32-bb14-de0ad6e773a9",
   "metadata": {
    "execution": {
     "iopub.execute_input": "2024-10-12T06:58:11.973711Z",
     "iopub.status.busy": "2024-10-12T06:58:11.973126Z",
     "iopub.status.idle": "2024-10-12T06:58:12.035658Z",
     "shell.execute_reply": "2024-10-12T06:58:12.034948Z",
     "shell.execute_reply.started": "2024-10-12T06:58:11.973667Z"
    }
   },
   "outputs": [],
   "source": [
    "flow1.check()"
   ]
  },
  {
   "cell_type": "code",
   "execution_count": 6,
   "id": "0b45090b-6f95-43e9-b205-cc5f86c07f5d",
   "metadata": {
    "execution": {
     "iopub.execute_input": "2024-10-12T06:58:12.346983Z",
     "iopub.status.busy": "2024-10-12T06:58:12.346601Z",
     "iopub.status.idle": "2024-10-12T06:58:12.377242Z",
     "shell.execute_reply": "2024-10-12T06:58:12.376625Z",
     "shell.execute_reply.started": "2024-10-12T06:58:12.346952Z"
    }
   },
   "outputs": [
    {
     "data": {
      "image/svg+xml": [
       "<?xml version=\"1.0\" encoding=\"UTF-8\" standalone=\"no\"?>\n",
       "<!DOCTYPE svg PUBLIC \"-//W3C//DTD SVG 1.1//EN\"\n",
       " \"http://www.w3.org/Graphics/SVG/1.1/DTD/svg11.dtd\">\n",
       "<!-- Generated by graphviz version 11.0.0 (20240519.1550)\n",
       " -->\n",
       "<!-- Title: infoexample1 Pages: 1 -->\n",
       "<svg width=\"101pt\" height=\"214pt\"\n",
       " viewBox=\"0.00 0.00 100.75 213.50\" xmlns=\"http://www.w3.org/2000/svg\" xmlns:xlink=\"http://www.w3.org/1999/xlink\">\n",
       "<g id=\"graph0\" class=\"graph\" transform=\"scale(1 1) rotate(0) translate(4 209.5)\">\n",
       "<title>infoexample1</title>\n",
       "<polygon fill=\"none\" stroke=\"none\" points=\"-4,4 -4,-209.5 96.75,-209.5 96.75,4 -4,4\"/>\n",
       "<!-- loaddata -->\n",
       "<g id=\"node1\" class=\"node\">\n",
       "<title>loaddata</title>\n",
       "<path fill=\"#666666\" fill-opacity=\"0.133333\" stroke=\"#830051\" stroke-width=\"2\" d=\"M58,-205.5C58,-205.5 12,-205.5 12,-205.5 6,-205.5 0,-199.5 0,-193.5 0,-193.5 0,-181.5 0,-181.5 0,-175.5 6,-169.5 12,-169.5 12,-169.5 58,-169.5 58,-169.5 64,-169.5 70,-175.5 70,-181.5 70,-181.5 70,-193.5 70,-193.5 70,-199.5 64,-205.5 58,-205.5\"/>\n",
       "<text text-anchor=\"middle\" x=\"35\" y=\"-184.93\" font-family=\"Consolas\" font-size=\"11.00\">loaddata</text>\n",
       "</g>\n",
       "<!-- calcdesc -->\n",
       "<g id=\"node2\" class=\"node\">\n",
       "<title>calcdesc</title>\n",
       "<path fill=\"#666666\" fill-opacity=\"0.133333\" stroke=\"#830051\" stroke-width=\"2\" d=\"M58,-120.75C58,-120.75 12,-120.75 12,-120.75 6,-120.75 0,-114.75 0,-108.75 0,-108.75 0,-96.75 0,-96.75 0,-90.75 6,-84.75 12,-84.75 12,-84.75 58,-84.75 58,-84.75 64,-84.75 70,-90.75 70,-96.75 70,-96.75 70,-108.75 70,-108.75 70,-114.75 64,-120.75 58,-120.75\"/>\n",
       "<text text-anchor=\"middle\" x=\"35\" y=\"-100.17\" font-family=\"Consolas\" font-size=\"11.00\">calcdesc</text>\n",
       "</g>\n",
       "<!-- loaddata&#45;&gt;calcdesc -->\n",
       "<g id=\"edge1\" class=\"edge\">\n",
       "<title>loaddata&#45;&gt;calcdesc</title>\n",
       "<path fill=\"none\" stroke=\"#3f4444\" stroke-width=\"2\" d=\"M35,-168.54C35,-158.57 35,-145.88 35,-134.39\"/>\n",
       "<polygon fill=\"#3f4444\" stroke=\"#3f4444\" stroke-width=\"2\" points=\"38.5,-134.7 35,-124.7 31.5,-134.7 38.5,-134.7\"/>\n",
       "<text text-anchor=\"middle\" x=\"58.62\" y=\"-142.95\" font-family=\"Consolas\" font-size=\"9.00\">list[str]</text>\n",
       "</g>\n",
       "<!-- return -->\n",
       "<g id=\"node3\" class=\"node\">\n",
       "<title>return</title>\n",
       "<path fill=\"#666666\" fill-opacity=\"0.133333\" stroke=\"#830051\" stroke-width=\"2\" d=\"M51.25,-36C51.25,-36 18.75,-36 18.75,-36 12.75,-36 6.75,-30 6.75,-24 6.75,-24 6.75,-12 6.75,-12 6.75,-6 12.75,0 18.75,0 18.75,0 51.25,0 51.25,0 57.25,0 63.25,-6 63.25,-12 63.25,-12 63.25,-24 63.25,-24 63.25,-30 57.25,-36 51.25,-36\"/>\n",
       "<text text-anchor=\"middle\" x=\"35\" y=\"-15.43\" font-family=\"Consolas\" font-size=\"11.00\">return</text>\n",
       "</g>\n",
       "<!-- calcdesc&#45;&gt;return -->\n",
       "<g id=\"edge2\" class=\"edge\">\n",
       "<title>calcdesc&#45;&gt;return</title>\n",
       "<path fill=\"none\" stroke=\"#3f4444\" stroke-width=\"2\" d=\"M35,-83.79C35,-73.82 35,-61.13 35,-49.64\"/>\n",
       "<polygon fill=\"#3f4444\" stroke=\"#3f4444\" stroke-width=\"2\" points=\"38.5,-49.95 35,-39.95 31.5,-49.95 38.5,-49.95\"/>\n",
       "<text text-anchor=\"middle\" x=\"63.88\" y=\"-58.2\" font-family=\"Consolas\" font-size=\"9.00\">list[tuple]</text>\n",
       "</g>\n",
       "</g>\n",
       "</svg>\n"
      ],
      "text/plain": [
       "<graphviz.graphs.Digraph at 0x713b46cdb7c0>"
      ]
     },
     "execution_count": 6,
     "metadata": {},
     "output_type": "execute_result"
    }
   ],
   "source": [
    "flow1.visualize()"
   ]
  },
  {
   "cell_type": "code",
   "execution_count": 7,
   "id": "ff7113db-f3a5-45fd-8a5a-0a47b40d1cf4",
   "metadata": {
    "execution": {
     "iopub.execute_input": "2024-10-12T06:58:12.973245Z",
     "iopub.status.busy": "2024-10-12T06:58:12.973067Z",
     "iopub.status.idle": "2024-10-12T06:58:14.761247Z",
     "shell.execute_reply": "2024-10-12T06:58:14.760212Z",
     "shell.execute_reply.started": "2024-10-12T06:58:12.973231Z"
    }
   },
   "outputs": [
    {
     "name": "stderr",
     "output_type": "stream",
     "text": [
      "2024-10-12 15:58:12,976 | \u001b[1;34m    INFO\u001b[0m |     infoexample1 | \n",
      "              ___           ___                       ___           ___\n",
      "             /\\__\\         /\\  \\          ___        /\\  \\         /\\  \\\n",
      "            /::|  |       /::\\  \\        /\\  \\       \\:\\  \\       /::\\  \\\n",
      "           /:|:|  |      /:/\\:\\  \\       \\:\\  \\       \\:\\  \\     /:/\\:\\  \\\n",
      "          /:/|:|__|__   /::\\~\\:\\  \\      /::\\__\\       \\:\\  \\   /::\\~\\:\\  \\\n",
      "         /:/ |::::\\__\\ /:/\\:\\ \\:\\__\\  __/:/\\/__/ _______\\:\\__\\ /:/\\:\\ \\:\\__\\\n",
      "         \\/__/~~/:/  / \\/__\\:\\/:/  / /\\/:/  /    \\::::::::/__/ \\:\\~\\:\\ \\/__/\n",
      "               /:/  /       \\::/  /  \\::/__/      \\:\\~~\\~~      \\:\\ \\:\\__\\\n",
      "              /:/  /        /:/  /    \\:\\__\\       \\:\\  \\        \\:\\ \\/__/\n",
      "             /:/  /        /:/  /      \\/__/        \\:\\__\\        \\:\\__\\\n",
      "             \\/__/         \\/__/                     \\/__/         \\/__/\n",
      "\n",
      "\n",
      "2024-10-12 15:58:12,977 | \u001b[1;34m    INFO\u001b[0m |     infoexample1 | Starting Maize version 0.8.3 (c) AstraZeneca 2024\n",
      "2024-10-12 15:58:12,977 | \u001b[1;34m    INFO\u001b[0m |     infoexample1 | Running workflow 'infoexample1' with parameters:\n",
      "2024-10-12 15:58:12,978 | \u001b[1;34m    INFO\u001b[0m |     infoexample1 | data = ['CC', 'COC', 'c1cccccc1', 'c1cnccc1'] (from 'loaddata')\n",
      "[15:58:13] Can't kekulize mol.  Unkekulized atoms: 0 1 2 3 4 5 6\n",
      "[15:58:13] Can't kekulize mol.  Unkekulized atoms: 0 1 2 3 4 5 6\n",
      "2024-10-12 15:58:13,743 | \u001b[1;34m    INFO\u001b[0m |     infoexample1 | Node 'return' finished (1/3)\n",
      "2024-10-12 15:58:14,226 | \u001b[1;34m    INFO\u001b[0m |     infoexample1 | Node 'loaddata' finished (2/3)\n",
      "2024-10-12 15:58:14,243 | \u001b[1;34m    INFO\u001b[0m |     infoexample1 | Node 'calcdesc' finished (3/3)\n",
      "2024-10-12 15:58:14,745 | \u001b[1;34m    INFO\u001b[0m |     infoexample1 | Execution completed :) total runtime: 0:00:01.246206\n",
      "\t3 nodes completed successfully\n",
      "\t0 nodes stopped due to closing ports\n",
      "\t0 nodes failed\n",
      "\t0:00:01.302344 total walltime\n",
      "\t0:00:01.279968 spent waiting for resources or other nodes\n"
     ]
    }
   ],
   "source": [
    "flow1.execute()"
   ]
  },
  {
   "cell_type": "code",
   "execution_count": 8,
   "id": "27898d53-f668-44f7-b4e4-132f4eb19822",
   "metadata": {
    "execution": {
     "iopub.execute_input": "2024-10-12T06:58:14.763215Z",
     "iopub.status.busy": "2024-10-12T06:58:14.762907Z",
     "iopub.status.idle": "2024-10-12T06:58:14.770570Z",
     "shell.execute_reply": "2024-10-12T06:58:14.769318Z",
     "shell.execute_reply.started": "2024-10-12T06:58:14.763187Z"
    }
   },
   "outputs": [
    {
     "data": {
      "text/plain": [
       "[('CC', 30.07, 1.0262),\n",
       " ('COC', 46.069, 0.26260000000000006),\n",
       " ('c1cccccc1', 'Invalid SMILES'),\n",
       " ('c1cnccc1', 79.10199999999999, 1.0816)]"
      ]
     },
     "execution_count": 8,
     "metadata": {},
     "output_type": "execute_result"
    }
   ],
   "source": [
    "res.get()"
   ]
  },
  {
   "cell_type": "code",
   "execution_count": null,
   "id": "de25e061-ae40-4622-a021-448a42eada68",
   "metadata": {},
   "outputs": [],
   "source": []
  },
  {
   "cell_type": "markdown",
   "id": "765a6ec3-bb69-46b0-b05b-f988edddfe32",
   "metadata": {
    "execution": {
     "iopub.execute_input": "2024-10-12T06:05:26.461800Z",
     "iopub.status.busy": "2024-10-12T06:05:26.460157Z",
     "iopub.status.idle": "2024-10-12T06:05:26.466945Z",
     "shell.execute_reply": "2024-10-12T06:05:26.466438Z",
     "shell.execute_reply.started": "2024-10-12T06:05:26.461758Z"
    }
   },
   "source": [
    "#### XTB calculation\n",
    "- このコードを利用するためには同じ環境下に追加でXTBをインストールする必要があります\n",
    "- [XTB](https://xtb-docs.readthedocs.io/en/latest/)は半経験的な量子科学計算のパッケージです。\n",
    "- Maizeを利用することで入力部分の作成に労を割くことなく計算を実施できます。\n",
    "- \n",
    "```bash\n",
    "conda install -c conda-forge xtb\n",
    "```"
   ]
  },
  {
   "cell_type": "code",
   "execution_count": 9,
   "id": "b8db078c-30a6-4b4a-8d6c-9fcb3dfada7f",
   "metadata": {
    "execution": {
     "iopub.execute_input": "2024-10-12T06:58:18.560321Z",
     "iopub.status.busy": "2024-10-12T06:58:18.559737Z",
     "iopub.status.idle": "2024-10-12T06:58:18.569420Z",
     "shell.execute_reply": "2024-10-12T06:58:18.568323Z",
     "shell.execute_reply.started": "2024-10-12T06:58:18.560278Z"
    }
   },
   "outputs": [],
   "source": [
    "from maize.steps.mai.molecule.xtb import Xtb\n",
    "\n",
    "class SetName(Node):\n",
    "    inp: Input[list[IsomerCollection]] = Input()\n",
    "    out: Output[list[IsomerCollection]] = Output()\n",
    "    def run(self):\n",
    "        res = []\n",
    "        for i, iso in enumerate(self.inp.receive()):\n",
    "            iso.set_tag('component', f'mol_{i}')\n",
    "            res.append(iso)\n",
    "\n",
    "        self.out.send(res)"
   ]
  },
  {
   "cell_type": "code",
   "execution_count": 10,
   "id": "01d32cbd-eac3-4334-91ae-f363f995b3cf",
   "metadata": {
    "execution": {
     "iopub.execute_input": "2024-10-12T06:58:19.852085Z",
     "iopub.status.busy": "2024-10-12T06:58:19.851599Z",
     "iopub.status.idle": "2024-10-12T06:58:19.887262Z",
     "shell.execute_reply": "2024-10-12T06:58:19.886848Z",
     "shell.execute_reply.started": "2024-10-12T06:58:19.852045Z"
    }
   },
   "outputs": [],
   "source": [
    "flow2 = Workflow(name='xtb', cleanup_temp=True)\n",
    "flow2.config.update(Path('../data/maize.toml'))"
   ]
  },
  {
   "cell_type": "code",
   "execution_count": 11,
   "id": "ac00e980-d06e-49c4-8661-9e433ffe25a9",
   "metadata": {
    "execution": {
     "iopub.execute_input": "2024-10-12T06:58:20.473702Z",
     "iopub.status.busy": "2024-10-12T06:58:20.473251Z",
     "iopub.status.idle": "2024-10-12T06:58:20.609819Z",
     "shell.execute_reply": "2024-10-12T06:58:20.609314Z",
     "shell.execute_reply.started": "2024-10-12T06:58:20.473666Z"
    }
   },
   "outputs": [],
   "source": [
    "load = flow2.add(LoadData[list[str]])\n",
    "emb = flow2.add(Gypsum)\n",
    "setname = flow2.add(SetName)\n",
    "qm = flow2.add(Xtb)\n",
    "res = flow2.add(Return[list[IsomerCollection]])"
   ]
  },
  {
   "cell_type": "code",
   "execution_count": 18,
   "id": "8ffaab02-10a4-46bb-a8cf-ce2915d151bb",
   "metadata": {
    "execution": {
     "iopub.execute_input": "2024-10-12T06:59:25.045138Z",
     "iopub.status.busy": "2024-10-12T06:59:25.044849Z",
     "iopub.status.idle": "2024-10-12T06:59:25.049134Z",
     "shell.execute_reply": "2024-10-12T06:59:25.048534Z",
     "shell.execute_reply.started": "2024-10-12T06:59:25.045113Z"
    }
   },
   "outputs": [],
   "source": [
    "# 入力はSMILESリストとしています\n",
    "load.data.set(['c1ccccc1', 'c1cnccc1'])\n",
    "# gypsumでのはいざ発生を１つにしています\n",
    "emb.n_variants.set(1)\n",
    "# xtbノードは内部で並列処理をするのですがデフォルトで100並列の設定になっておりそのまま実施すると100 coreない場合エラーになります。\n",
    "qm.n_jobs.set(5)\n",
    "# 計算結果を格納するフォルダを指定します。\n",
    "qm.fold.set('./xtbres')"
   ]
  },
  {
   "cell_type": "code",
   "execution_count": 13,
   "id": "6b6fe221-c1ea-4fd4-850e-03d8e5ac8448",
   "metadata": {
    "execution": {
     "iopub.execute_input": "2024-10-12T06:58:31.296025Z",
     "iopub.status.busy": "2024-10-12T06:58:31.295563Z",
     "iopub.status.idle": "2024-10-12T06:58:31.342388Z",
     "shell.execute_reply": "2024-10-12T06:58:31.341654Z",
     "shell.execute_reply.started": "2024-10-12T06:58:31.295989Z"
    }
   },
   "outputs": [],
   "source": [
    "flow2.connect(load.out, emb.inp)\n",
    "flow2.connect(emb.out, setname.inp)\n",
    "flow2.connect(setname.out, qm.inp)\n",
    "flow2.connect(qm.out, res.inp)\n",
    "flow2.check()"
   ]
  },
  {
   "cell_type": "code",
   "execution_count": 14,
   "id": "a2f01817-931d-494c-82aa-82641ba03c21",
   "metadata": {
    "execution": {
     "iopub.execute_input": "2024-10-12T06:58:32.245351Z",
     "iopub.status.busy": "2024-10-12T06:58:32.245168Z",
     "iopub.status.idle": "2024-10-12T06:58:32.270544Z",
     "shell.execute_reply": "2024-10-12T06:58:32.270148Z",
     "shell.execute_reply.started": "2024-10-12T06:58:32.245337Z"
    }
   },
   "outputs": [
    {
     "data": {
      "image/svg+xml": [
       "<?xml version=\"1.0\" encoding=\"UTF-8\" standalone=\"no\"?>\n",
       "<!DOCTYPE svg PUBLIC \"-//W3C//DTD SVG 1.1//EN\"\n",
       " \"http://www.w3.org/Graphics/SVG/1.1/DTD/svg11.dtd\">\n",
       "<!-- Generated by graphviz version 11.0.0 (20240519.1550)\n",
       " -->\n",
       "<!-- Title: xtb Pages: 1 -->\n",
       "<svg width=\"159pt\" height=\"383pt\"\n",
       " viewBox=\"0.00 0.00 158.50 383.00\" xmlns=\"http://www.w3.org/2000/svg\" xmlns:xlink=\"http://www.w3.org/1999/xlink\">\n",
       "<g id=\"graph0\" class=\"graph\" transform=\"scale(1 1) rotate(0) translate(4 379)\">\n",
       "<title>xtb</title>\n",
       "<polygon fill=\"none\" stroke=\"none\" points=\"-4,4 -4,-379 154.5,-379 154.5,4 -4,4\"/>\n",
       "<!-- loaddata -->\n",
       "<g id=\"node1\" class=\"node\">\n",
       "<title>loaddata</title>\n",
       "<path fill=\"#666666\" fill-opacity=\"0.133333\" stroke=\"#830051\" stroke-width=\"2\" d=\"M58,-375C58,-375 12,-375 12,-375 6,-375 0,-369 0,-363 0,-363 0,-351 0,-351 0,-345 6,-339 12,-339 12,-339 58,-339 58,-339 64,-339 70,-345 70,-351 70,-351 70,-363 70,-363 70,-369 64,-375 58,-375\"/>\n",
       "<text text-anchor=\"middle\" x=\"35\" y=\"-354.43\" font-family=\"Consolas\" font-size=\"11.00\">loaddata</text>\n",
       "</g>\n",
       "<!-- gypsum -->\n",
       "<g id=\"node2\" class=\"node\">\n",
       "<title>gypsum</title>\n",
       "<path fill=\"#666666\" fill-opacity=\"0.133333\" stroke=\"#830051\" stroke-width=\"2\" d=\"M51.25,-290.25C51.25,-290.25 18.75,-290.25 18.75,-290.25 12.75,-290.25 6.75,-284.25 6.75,-278.25 6.75,-278.25 6.75,-266.25 6.75,-266.25 6.75,-260.25 12.75,-254.25 18.75,-254.25 18.75,-254.25 51.25,-254.25 51.25,-254.25 57.25,-254.25 63.25,-260.25 63.25,-266.25 63.25,-266.25 63.25,-278.25 63.25,-278.25 63.25,-284.25 57.25,-290.25 51.25,-290.25\"/>\n",
       "<text text-anchor=\"middle\" x=\"35\" y=\"-269.68\" font-family=\"Consolas\" font-size=\"11.00\">gypsum</text>\n",
       "</g>\n",
       "<!-- loaddata&#45;&gt;gypsum -->\n",
       "<g id=\"edge1\" class=\"edge\">\n",
       "<title>loaddata&#45;&gt;gypsum</title>\n",
       "<path fill=\"none\" stroke=\"#3f4444\" stroke-width=\"2\" d=\"M35,-338.04C35,-328.07 35,-315.38 35,-303.89\"/>\n",
       "<polygon fill=\"#3f4444\" stroke=\"#3f4444\" stroke-width=\"2\" points=\"38.5,-304.2 35,-294.2 31.5,-304.2 38.5,-304.2\"/>\n",
       "<text text-anchor=\"middle\" x=\"58.62\" y=\"-312.45\" font-family=\"Consolas\" font-size=\"9.00\">list[str]</text>\n",
       "</g>\n",
       "<!-- setname -->\n",
       "<g id=\"node3\" class=\"node\">\n",
       "<title>setname</title>\n",
       "<path fill=\"#666666\" fill-opacity=\"0.133333\" stroke=\"#830051\" stroke-width=\"2\" d=\"M54.62,-205.5C54.62,-205.5 15.38,-205.5 15.38,-205.5 9.38,-205.5 3.38,-199.5 3.38,-193.5 3.38,-193.5 3.38,-181.5 3.38,-181.5 3.38,-175.5 9.38,-169.5 15.38,-169.5 15.38,-169.5 54.62,-169.5 54.62,-169.5 60.62,-169.5 66.62,-175.5 66.62,-181.5 66.62,-181.5 66.62,-193.5 66.62,-193.5 66.62,-199.5 60.62,-205.5 54.62,-205.5\"/>\n",
       "<text text-anchor=\"middle\" x=\"35\" y=\"-184.93\" font-family=\"Consolas\" font-size=\"11.00\">setname</text>\n",
       "</g>\n",
       "<!-- gypsum&#45;&gt;setname -->\n",
       "<g id=\"edge2\" class=\"edge\">\n",
       "<title>gypsum&#45;&gt;setname</title>\n",
       "<path fill=\"none\" stroke=\"#3f4444\" stroke-width=\"2\" d=\"M35,-253.29C35,-243.32 35,-230.63 35,-219.14\"/>\n",
       "<polygon fill=\"#3f4444\" stroke=\"#3f4444\" stroke-width=\"2\" points=\"38.5,-219.45 35,-209.45 31.5,-219.45 38.5,-219.45\"/>\n",
       "<text text-anchor=\"middle\" x=\"92.75\" y=\"-227.7\" font-family=\"Consolas\" font-size=\"9.00\">list[IsomerCollection]</text>\n",
       "</g>\n",
       "<!-- xtb -->\n",
       "<g id=\"node4\" class=\"node\">\n",
       "<title>xtb</title>\n",
       "<path fill=\"#666666\" fill-opacity=\"0.133333\" stroke=\"#830051\" stroke-width=\"2\" d=\"M50,-120.75C50,-120.75 20,-120.75 20,-120.75 14,-120.75 8,-114.75 8,-108.75 8,-108.75 8,-96.75 8,-96.75 8,-90.75 14,-84.75 20,-84.75 20,-84.75 50,-84.75 50,-84.75 56,-84.75 62,-90.75 62,-96.75 62,-96.75 62,-108.75 62,-108.75 62,-114.75 56,-120.75 50,-120.75\"/>\n",
       "<text text-anchor=\"middle\" x=\"35\" y=\"-100.17\" font-family=\"Consolas\" font-size=\"11.00\">xtb</text>\n",
       "</g>\n",
       "<!-- setname&#45;&gt;xtb -->\n",
       "<g id=\"edge3\" class=\"edge\">\n",
       "<title>setname&#45;&gt;xtb</title>\n",
       "<path fill=\"none\" stroke=\"#3f4444\" stroke-width=\"2\" d=\"M35,-168.54C35,-158.57 35,-145.88 35,-134.39\"/>\n",
       "<polygon fill=\"#3f4444\" stroke=\"#3f4444\" stroke-width=\"2\" points=\"38.5,-134.7 35,-124.7 31.5,-134.7 38.5,-134.7\"/>\n",
       "<text text-anchor=\"middle\" x=\"92.75\" y=\"-142.95\" font-family=\"Consolas\" font-size=\"9.00\">list[IsomerCollection]</text>\n",
       "</g>\n",
       "<!-- return -->\n",
       "<g id=\"node5\" class=\"node\">\n",
       "<title>return</title>\n",
       "<path fill=\"#666666\" fill-opacity=\"0.133333\" stroke=\"#830051\" stroke-width=\"2\" d=\"M51.25,-36C51.25,-36 18.75,-36 18.75,-36 12.75,-36 6.75,-30 6.75,-24 6.75,-24 6.75,-12 6.75,-12 6.75,-6 12.75,0 18.75,0 18.75,0 51.25,0 51.25,0 57.25,0 63.25,-6 63.25,-12 63.25,-12 63.25,-24 63.25,-24 63.25,-30 57.25,-36 51.25,-36\"/>\n",
       "<text text-anchor=\"middle\" x=\"35\" y=\"-15.43\" font-family=\"Consolas\" font-size=\"11.00\">return</text>\n",
       "</g>\n",
       "<!-- xtb&#45;&gt;return -->\n",
       "<g id=\"edge4\" class=\"edge\">\n",
       "<title>xtb&#45;&gt;return</title>\n",
       "<path fill=\"none\" stroke=\"#3f4444\" stroke-width=\"2\" d=\"M35,-83.79C35,-73.82 35,-61.13 35,-49.64\"/>\n",
       "<polygon fill=\"#3f4444\" stroke=\"#3f4444\" stroke-width=\"2\" points=\"38.5,-49.95 35,-39.95 31.5,-49.95 38.5,-49.95\"/>\n",
       "<text text-anchor=\"middle\" x=\"92.75\" y=\"-58.2\" font-family=\"Consolas\" font-size=\"9.00\">list[IsomerCollection]</text>\n",
       "</g>\n",
       "</g>\n",
       "</svg>\n"
      ],
      "text/plain": [
       "<graphviz.graphs.Digraph at 0x713c11487f10>"
      ]
     },
     "execution_count": 14,
     "metadata": {},
     "output_type": "execute_result"
    }
   ],
   "source": [
    "flow2.visualize()"
   ]
  },
  {
   "cell_type": "code",
   "execution_count": 15,
   "id": "b4ef376d-ee96-4d0f-9561-722bef7bf092",
   "metadata": {
    "execution": {
     "iopub.execute_input": "2024-10-12T06:58:32.631343Z",
     "iopub.status.busy": "2024-10-12T06:58:32.630980Z",
     "iopub.status.idle": "2024-10-12T06:58:35.188173Z",
     "shell.execute_reply": "2024-10-12T06:58:35.187057Z",
     "shell.execute_reply.started": "2024-10-12T06:58:32.631314Z"
    }
   },
   "outputs": [
    {
     "name": "stderr",
     "output_type": "stream",
     "text": [
      "2024-10-12 15:58:32,632 | \u001b[1;34m    INFO\u001b[0m |              xtb | \n",
      "              ___           ___                       ___           ___\n",
      "             /\\__\\         /\\  \\          ___        /\\  \\         /\\  \\\n",
      "            /::|  |       /::\\  \\        /\\  \\       \\:\\  \\       /::\\  \\\n",
      "           /:|:|  |      /:/\\:\\  \\       \\:\\  \\       \\:\\  \\     /:/\\:\\  \\\n",
      "          /:/|:|__|__   /::\\~\\:\\  \\      /::\\__\\       \\:\\  \\   /::\\~\\:\\  \\\n",
      "         /:/ |::::\\__\\ /:/\\:\\ \\:\\__\\  __/:/\\/__/ _______\\:\\__\\ /:/\\:\\ \\:\\__\\\n",
      "         \\/__/~~/:/  / \\/__\\:\\/:/  / /\\/:/  /    \\::::::::/__/ \\:\\~\\:\\ \\/__/\n",
      "               /:/  /       \\::/  /  \\::/__/      \\:\\~~\\~~      \\:\\ \\:\\__\\\n",
      "              /:/  /        /:/  /    \\:\\__\\       \\:\\  \\        \\:\\ \\/__/\n",
      "             /:/  /        /:/  /      \\/__/        \\:\\__\\        \\:\\__\\\n",
      "             \\/__/         \\/__/                     \\/__/         \\/__/\n",
      "\n",
      "\n",
      "2024-10-12 15:58:32,634 | \u001b[1;34m    INFO\u001b[0m |              xtb | Starting Maize version 0.8.3 (c) AstraZeneca 2024\n",
      "2024-10-12 15:58:32,635 | \u001b[1;34m    INFO\u001b[0m |              xtb | Running workflow 'xtb' with parameters:\n",
      "2024-10-12 15:58:32,636 | \u001b[1;34m    INFO\u001b[0m |              xtb | data = ['c1ccccc1', 'c1cnccc1'] (from 'loaddata')\n",
      "2024-10-12 15:58:32,637 | \u001b[1;34m    INFO\u001b[0m |              xtb | fold = /home/iwatobipen/dev/CBI/cheminfo_tutorial_20241028/notebook/xtbres (from 'xtb')\n",
      "2024-10-12 15:58:32,638 | \u001b[1;34m    INFO\u001b[0m |              xtb | n_jobs = 5 (from 'xtb')\n",
      "2024-10-12 15:58:33,510 | \u001b[1;34m    INFO\u001b[0m |           gypsum | Running job with PSI/J id=fabb5b00-41d6-4f86-8521-4358e11f115d, stdout=/tmp/graph-xtb-4/node-gypsum/job-5e85yi-out, stderr=/tmp/graph-xtb-4/node-gypsum/job-5e85yi-err\n",
      "2024-10-12 15:58:33,909 | \u001b[1;34m    INFO\u001b[0m |              xtb | XTB optimisation for molecule 0: 'IsomerCollection('c1ccccc1', n_isomers=1)'\n",
      "2024-10-12 15:58:33,914 | \u001b[1;34m    INFO\u001b[0m |              xtb |   XTB optimisation for isomer 0: 'Isomer(n_atoms=12, n_conformers=1, charge=0)'\n",
      "2024-10-12 15:58:33,914 | \u001b[1;34m    INFO\u001b[0m |              xtb | XTB optimisation for conformer 0: 'Conformer(n_atoms=12, orphan=False)'\n",
      "2024-10-12 15:58:33,914 | \u001b[1;34m    INFO\u001b[0m |              xtb | no constraint for isomer 0\n",
      "2024-10-12 15:58:33,915 | \u001b[1;34m    INFO\u001b[0m |              xtb | XTB optimisation for molecule 1: 'IsomerCollection('c1cnccc1', n_isomers=1)'\n",
      "2024-10-12 15:58:33,915 | \u001b[1;34m    INFO\u001b[0m |              xtb |   XTB optimisation for isomer 0: 'Isomer(n_atoms=12, n_conformers=1, charge=1)'\n",
      "2024-10-12 15:58:33,915 | \u001b[1;34m    INFO\u001b[0m |              xtb | XTB optimisation for conformer 0: 'Conformer(n_atoms=12, orphan=False)'\n",
      "2024-10-12 15:58:33,915 | \u001b[1;34m    INFO\u001b[0m |              xtb | no constraint for isomer 0\n",
      "2024-10-12 15:58:33,915 | \u001b[1;34m    INFO\u001b[0m |              xtb | Commands before run_multi: ['xtb /tmp/graph-xtb-4/node-xtb/mol-0/isomer-0/conformer-0/mol_0_conf0_inp.xyz --T 2 -c 0 -u 0 --gbsa acetonitrile --opt', 'xtb /tmp/graph-xtb-4/node-xtb/mol-1/isomer-0/conformer-0/mol_1_conf0_inp.xyz --T 2 -c 0 -u 0 --gbsa acetonitrile --opt']\n",
      "2024-10-12 15:58:33,950 | \u001b[1;34m    INFO\u001b[0m |              xtb | Running job with PSI/J id=3dc931c5-acb8-43a1-8da0-d0bdcd3d5dac, stdout=/tmp/tmp76qit5js/job-mi6bom-out, stderr=/tmp/tmp76qit5js/job-mi6bom-err\n",
      "2024-10-12 15:58:33,951 | \u001b[1;34m    INFO\u001b[0m |              xtb | Running job with PSI/J id=fe8ec46e-a086-4994-839b-64698d3d6873, stdout=/tmp/tmp3oi8e0jb/job-bsijwz-out, stderr=/tmp/tmp3oi8e0jb/job-bsijwz-err\n",
      "2024-10-12 15:58:33,954 | \u001b[1;34m    INFO\u001b[0m |              xtb | Node 'loaddata' finished (1/5)\n",
      "2024-10-12 15:58:34,081 | \u001b[1;34m    INFO\u001b[0m |              xtb | Job completed (1/2)\n",
      "2024-10-12 15:58:34,094 | \u001b[1;34m    INFO\u001b[0m |              xtb | Job completed (2/2)\n",
      "2024-10-12 15:58:34,177 | \u001b[1;34m    INFO\u001b[0m |              xtb | Node 'return' finished (2/5)\n",
      "2024-10-12 15:58:34,398 | \u001b[1;34m    INFO\u001b[0m |              xtb | Node 'gypsum' finished (3/5)\n",
      "2024-10-12 15:58:34,406 | \u001b[1;34m    INFO\u001b[0m |              xtb | Node 'setname' finished (4/5)\n",
      "2024-10-12 15:58:34,664 | \u001b[1;34m    INFO\u001b[0m |              xtb | Node 'xtb' finished (5/5)\n",
      "2024-10-12 15:58:35,169 | \u001b[1;34m    INFO\u001b[0m |              xtb | Execution completed :) total runtime: 0:00:01.982828\n",
      "\t5 nodes completed successfully\n",
      "\t0 nodes stopped due to closing ports\n",
      "\t0 nodes failed\n",
      "\t0:00:05.679588 total walltime\n",
      "\t0:00:04.972926 spent waiting for resources or other nodes\n"
     ]
    }
   ],
   "source": [
    "flow2.execute()"
   ]
  },
  {
   "cell_type": "code",
   "execution_count": 16,
   "id": "a9efd112-ad95-42f3-80ee-58fe4f5c6392",
   "metadata": {
    "execution": {
     "iopub.execute_input": "2024-10-12T06:58:35.190428Z",
     "iopub.status.busy": "2024-10-12T06:58:35.190053Z",
     "iopub.status.idle": "2024-10-12T06:58:35.195234Z",
     "shell.execute_reply": "2024-10-12T06:58:35.194329Z",
     "shell.execute_reply.started": "2024-10-12T06:58:35.190394Z"
    }
   },
   "outputs": [],
   "source": [
    "mols = res.get()"
   ]
  },
  {
   "cell_type": "code",
   "execution_count": 17,
   "id": "9cf5467a-6d92-4329-9606-1b6ed325d102",
   "metadata": {
    "execution": {
     "iopub.execute_input": "2024-10-12T06:58:37.821384Z",
     "iopub.status.busy": "2024-10-12T06:58:37.820680Z",
     "iopub.status.idle": "2024-10-12T06:58:37.839026Z",
     "shell.execute_reply": "2024-10-12T06:58:37.838529Z",
     "shell.execute_reply.started": "2024-10-12T06:58:37.821321Z"
    }
   },
   "outputs": [
    {
     "data": {
      "image/png": "[encoded data removed]",
      "text/html": [
       "<table><tr><td colspan=\"2\" style=\"text-align: center;\"><image src=\"data:image/png;base64,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\"></td></tr>\n",
       "<tr><th style=\"text-align: right\">UniqueID</th><td style=\"text-align: left\">1</td></tr>\n",
       "<tr><th style=\"text-align: right\">SMILES</th><td style=\"text-align: left\">c1ccccc1</td></tr>\n",
       "<tr><th style=\"text-align: right\">Energy</th><td style=\"text-align: left\">10.54473180481865</td></tr>\n",
       "<tr><th style=\"text-align: right\">Genealogy</th><td style=\"text-align: left\">c1ccccc1 (3D coordinates assigned)\n",
       "c1ccccc1 (optimized conformer: 10.54473180481865 kcal/mol)</td></tr>\n",
       "<tr><th style=\"text-align: right\">smiles</th><td style=\"text-align: left\">c1ccccc1</td></tr>\n",
       "<tr><th style=\"text-align: right\">component</th><td style=\"text-align: left\">mol_0</td></tr>\n",
       "<tr><th style=\"text-align: right\">xtb_iso_idx</th><td style=\"text-align: left\">0_0</td></tr>\n",
       "<tr><th style=\"text-align: right\">XTB_exit_codes</th><td style=\"text-align: left\">{&quot;0&quot;: 0}</td></tr>\n",
       "<tr><th style=\"text-align: right\">XTB_geometries</th><td style=\"text-align: left\">{&quot;0&quot;: [{&quot;atoms&quot;: [{&quot;element&quot;: &quot;C&quot;, &quot;atom_id&quot;: 1, &quot;coords&quot;: [1.35227475965735, 0.34389823614687, -0.06535979166993]}, {&quot;element&quot;: &quot;C&quot;, &quot;atom_id&quot;: 2, &quot;coords&quot;: [0.97659053947127, -0.98580819255218, 0.03161442638556]}, {&quot;element&quot;: &quot;C&quot;, &quot;atom_id&quot;: 3, &quot;coords&quot;: [-0.36516633073863, -1.32345044383989, 0.09665739731194]}, {&quot;element&quot;: &quot;C&quot;, &quot;atom_id&quot;: 4, &quot;coords&quot;: [-1.33134197850346, -0.33147892460582, 0.06387992502949]}, {&quot;element&quot;: &quot;C&quot;, &quot;atom_id&quot;: 5, &quot;coords&quot;: [-0.95566002273987, 0.99822070935674, -0.03309321380793]}, {&quot;element&quot;: &quot;C&quot;, &quot;atom_id&quot;: 6, &quot;coords&quot;: [0.38610545013978, 1.33586533654651, -0.09813468959422]}, {&quot;element&quot;: &quot;H&quot;, &quot;atom_id&quot;: 7, &quot;coords&quot;: [2.39896631390694, 0.60726626070405, -0.11621466565841]}, {&quot;element&quot;: &quot;H&quot;, &quot;atom_id&quot;: 8, &quot;coords&quot;: [1.7301849333376, -1.75972011542859, 0.05678210823012]}, {&quot;element&quot;: &quot;H&quot;, &quot;atom_id&quot;: 9, &quot;coords&quot;: [-0.65814576009902, -2.3607064271086, 0.17258243268554]}, {&quot;element&quot;: &quot;H&quot;, &quot;atom_id&quot;: 10, &quot;coords&quot;: [-2.3780309431683, -0.59485748807834, 0.11472747834264]}, {&quot;element&quot;: &quot;H&quot;, &quot;atom_id&quot;: 11, &quot;coords&quot;: [-1.7092411063806, 1.77214507882508, -0.05827071717627]}, {&quot;element&quot;: &quot;H&quot;, &quot;atom_id&quot;: 12, &quot;coords&quot;: [0.67906414511693, 2.37312597003418, -0.17407069007854]}], &quot;energy&quot;: -15.886352706033, &quot;gradient&quot;: 7.8270456e-05}]}</td></tr>\n",
       "<tr><th style=\"text-align: right\">xtb_energy</th><td style=\"text-align: left\">{&quot;0&quot;: -15.886352706033}</td></tr></table>"
      ],
      "text/plain": [
       "<rdkit.Chem.rdchem.Mol at 0x713c109c7880>"
      ]
     },
     "execution_count": 17,
     "metadata": {},
     "output_type": "execute_result"
    }
   ],
   "source": [
    "mols[0].molecules[0]._molecule"
   ]
  },
  {
   "cell_type": "code",
   "execution_count": null,
   "id": "fb3f43ce-ea61-4fc3-bd9c-26a8f06ba030",
   "metadata": {},
   "outputs": [],
   "source": []
  },
  {
   "cell_type": "code",
   "execution_count": null,
   "id": "a0bf7ee0-5675-4f7f-a7fb-9edd82babcc8",
   "metadata": {},
   "outputs": [],
   "source": []
  }
 ],
 "metadata": {
  "kernelspec": {
   "display_name": "Python 3 (ipykernel)",
   "language": "python",
   "name": "python3"
  },
  "language_info": {
   "codemirror_mode": {
    "name": "ipython",
    "version": 3
   },
   "file_extension": ".py",
   "mimetype": "text/x-python",
   "name": "python",
   "nbconvert_exporter": "python",
   "pygments_lexer": "ipython3",
   "version": "3.10.14"
  }
 },
 "nbformat": 4,
 "nbformat_minor": 5
}
